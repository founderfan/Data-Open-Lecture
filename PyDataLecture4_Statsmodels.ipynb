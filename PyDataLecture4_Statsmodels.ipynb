{
 "cells": [
  {
   "cell_type": "markdown",
   "metadata": {
    "slideshow": {
     "slide_type": "slide"
    }
   },
   "source": [
    "# Statsmodels for Statistical Modeling"
   ]
  },
  {
   "cell_type": "markdown",
   "metadata": {
    "slideshow": {
     "slide_type": "subslide"
    }
   },
   "source": [
    "## Preparation\n",
    "\n",
    "- Download and Install [Anaconda](https://www.continuum.io/downloads) (Python 3 version)\n",
    "- Run command in a new shell: `jupyter lab`\n",
    "- If you run jupyter lab in a linux server through ssh, open a new terminal\n",
    "    - `ssh -L 8000:localhost:(jupyter port, default is 8888) (user)@(server address)`\n",
    "    - after log in, `jupyter notebook list`, check and copy the token of your jupyter\n",
    "    - open browser http://localhost:8000/, enter the token\n",
    "- Create a new notebook: Left-upper area -> \"+\" (New launcher) -> Notebook -> Python 3"
   ]
  },
  {
   "cell_type": "markdown",
   "metadata": {
    "slideshow": {
     "slide_type": "subslide"
    }
   },
   "source": [
    "## What is Statsmodels\n",
    "\n",
    "- A Python module that allows users to \n",
    "    - explore data\n",
    "    - estimate statistical models\n",
    "    - perform statistical tests\n",
    "    \n",
    "Reference: [Statsmodels official site](http://statsmodels.sourceforge.net/)"
   ]
  },
  {
   "cell_type": "markdown",
   "metadata": {
    "slideshow": {
     "slide_type": "subslide"
    }
   },
   "source": [
    "## Contents\n",
    "\n",
    "1. Linear Regression\n",
    "    - Theory\n",
    "    - Formula Form and Matrix Form\n",
    "    - Regression Plot\n",
    "2. Extension of Linear Regression Terms\n",
    "    - Categorical X and ANOVA\n",
    "    - Transformation and Interaction\n",
    "3. Generalized Linear Model"
   ]
  },
  {
   "cell_type": "markdown",
   "metadata": {
    "slideshow": {
     "slide_type": "subslide"
    }
   },
   "source": [
    "## Statsmodels (0.1) Prepare Data"
   ]
  },
  {
   "cell_type": "code",
   "execution_count": 1,
   "metadata": {
    "collapsed": false,
    "scrolled": true,
    "slideshow": {
     "slide_type": "-"
    }
   },
   "outputs": [],
   "source": [
    "# Load modules and set options\n",
    "import numpy as np\n",
    "import pandas as pd\n",
    "import matplotlib.pyplot as plt\n",
    "\n",
    "pd.set_option('precision', 3)"
   ]
  },
  {
   "cell_type": "code",
   "execution_count": 2,
   "metadata": {
    "collapsed": false,
    "scrolled": true,
    "slideshow": {
     "slide_type": "-"
    }
   },
   "outputs": [
    {
     "name": "stdout",
     "output_type": "stream",
     "text": [
      "(53940, 10)\n"
     ]
    },
    {
     "data": {
      "text/html": [
       "<div>\n",
       "<style scoped>\n",
       "    .dataframe tbody tr th:only-of-type {\n",
       "        vertical-align: middle;\n",
       "    }\n",
       "\n",
       "    .dataframe tbody tr th {\n",
       "        vertical-align: top;\n",
       "    }\n",
       "\n",
       "    .dataframe thead th {\n",
       "        text-align: right;\n",
       "    }\n",
       "</style>\n",
       "<table border=\"1\" class=\"dataframe\">\n",
       "  <thead>\n",
       "    <tr style=\"text-align: right;\">\n",
       "      <th></th>\n",
       "      <th>carat</th>\n",
       "      <th>cut</th>\n",
       "      <th>color</th>\n",
       "      <th>clarity</th>\n",
       "      <th>depth</th>\n",
       "      <th>table</th>\n",
       "      <th>price</th>\n",
       "      <th>x</th>\n",
       "      <th>y</th>\n",
       "      <th>z</th>\n",
       "    </tr>\n",
       "    <tr>\n",
       "      <th>n</th>\n",
       "      <th></th>\n",
       "      <th></th>\n",
       "      <th></th>\n",
       "      <th></th>\n",
       "      <th></th>\n",
       "      <th></th>\n",
       "      <th></th>\n",
       "      <th></th>\n",
       "      <th></th>\n",
       "      <th></th>\n",
       "    </tr>\n",
       "  </thead>\n",
       "  <tbody>\n",
       "    <tr>\n",
       "      <th>1</th>\n",
       "      <td>0.23</td>\n",
       "      <td>Ideal</td>\n",
       "      <td>E</td>\n",
       "      <td>SI2</td>\n",
       "      <td>61.5</td>\n",
       "      <td>55.0</td>\n",
       "      <td>NaN</td>\n",
       "      <td>3.95</td>\n",
       "      <td>3.98</td>\n",
       "      <td>2.43</td>\n",
       "    </tr>\n",
       "    <tr>\n",
       "      <th>2</th>\n",
       "      <td>0.21</td>\n",
       "      <td>Premium</td>\n",
       "      <td>E</td>\n",
       "      <td>SI1</td>\n",
       "      <td>59.8</td>\n",
       "      <td>61.0</td>\n",
       "      <td>326.0</td>\n",
       "      <td>3.89</td>\n",
       "      <td>3.84</td>\n",
       "      <td>2.31</td>\n",
       "    </tr>\n",
       "    <tr>\n",
       "      <th>3</th>\n",
       "      <td>0.23</td>\n",
       "      <td>Good</td>\n",
       "      <td>E</td>\n",
       "      <td>VS1</td>\n",
       "      <td>56.9</td>\n",
       "      <td>65.0</td>\n",
       "      <td>NaN</td>\n",
       "      <td>4.05</td>\n",
       "      <td>4.07</td>\n",
       "      <td>2.31</td>\n",
       "    </tr>\n",
       "    <tr>\n",
       "      <th>4</th>\n",
       "      <td>0.29</td>\n",
       "      <td>Premium</td>\n",
       "      <td>I</td>\n",
       "      <td>VS2</td>\n",
       "      <td>62.4</td>\n",
       "      <td>58.0</td>\n",
       "      <td>334.0</td>\n",
       "      <td>4.20</td>\n",
       "      <td>4.23</td>\n",
       "      <td>2.63</td>\n",
       "    </tr>\n",
       "    <tr>\n",
       "      <th>5</th>\n",
       "      <td>0.31</td>\n",
       "      <td>Good</td>\n",
       "      <td>J</td>\n",
       "      <td>SI2</td>\n",
       "      <td>63.3</td>\n",
       "      <td>58.0</td>\n",
       "      <td>335.0</td>\n",
       "      <td>4.34</td>\n",
       "      <td>4.35</td>\n",
       "      <td>2.75</td>\n",
       "    </tr>\n",
       "  </tbody>\n",
       "</table>\n",
       "</div>"
      ],
      "text/plain": [
       "   carat      cut color clarity  depth  table  price     x     y     z\n",
       "n                                                                     \n",
       "1   0.23    Ideal     E     SI2   61.5   55.0    NaN  3.95  3.98  2.43\n",
       "2   0.21  Premium     E     SI1   59.8   61.0  326.0  3.89  3.84  2.31\n",
       "3   0.23     Good     E     VS1   56.9   65.0    NaN  4.05  4.07  2.31\n",
       "4   0.29  Premium     I     VS2   62.4   58.0  334.0  4.20  4.23  2.63\n",
       "5   0.31     Good     J     SI2   63.3   58.0  335.0  4.34  4.35  2.75"
      ]
     },
     "execution_count": 2,
     "metadata": {},
     "output_type": "execute_result"
    }
   ],
   "source": [
    "da = pd.read_csv(\"Diamonds.csv\", index_col=\"n\")\n",
    "print(da.shape)\n",
    "da.head()"
   ]
  },
  {
   "cell_type": "code",
   "execution_count": 3,
   "metadata": {},
   "outputs": [
    {
     "data": {
      "text/plain": [
       "(39708, 10)"
      ]
     },
     "execution_count": 3,
     "metadata": {},
     "output_type": "execute_result"
    }
   ],
   "source": [
    "# Drop NA values\n",
    "dac = da.dropna()\n",
    "dac.shape"
   ]
  },
  {
   "cell_type": "code",
   "execution_count": null,
   "metadata": {
    "collapsed": false,
    "scrolled": true
   },
   "outputs": [],
   "source": [
    "# Bivariate Association\n",
    "_ = pd.plotting.scatter_matrix(da, alpha=0.2, hist_kwds={\"bins\": 20}, figsize=(12, 10))"
   ]
  },
  {
   "cell_type": "markdown",
   "metadata": {
    "slideshow": {
     "slide_type": "subslide"
    }
   },
   "source": [
    "## Statsmodels (1.1.1): Linear Regression Theory"
   ]
  },
  {
   "cell_type": "markdown",
   "metadata": {},
   "source": [
    "\n",
    "- Goal: We aim to study the relationship between a dependent variable $y$ and $p$ indepedent variables $x_1, x_2,\\cdots, x_p$.\n",
    "\n",
    "- Model of Linear Regression: $y = \\beta_0 + x_1\\beta_1 + x_2\\beta_2 + \\cdots + x_p\\beta_p + \\varepsilon$\n",
    "\n",
    "- Components:\n",
    "    - $\\beta_0$: intercept of $y$ when $x_1, x_2,\\cdots, x_p$ are all 0\n",
    "    - $\\beta_j$: slope of $x_j$ on $y$, $j = 1, 2, \\cdots, p$\n",
    "    - $\\varepsilon$: random error of $y$ in each observation\n",
    "    \n",
    "- Prediction: To predict $y_i$, if we know $\\hat{\\beta} = (\\hat{\\beta}_0, \\hat{\\beta}_1, \\cdots, \\hat{\\beta}_p)^T$ and $x_i = (1, x_{i1}, x_{i2}, \\cdots, x_{ip})$ from data, we can predict $y_i$ with $\\hat{y}_i = x_i\\hat{\\beta} = \\hat{\\beta}_0 + x_{i1}\\hat{\\beta}_1 + \\cdots + x_{ip}\\hat{\\beta}_p$\n",
    "\n",
    "- Method: To solve $\\hat{\\beta}$, we can use ordinary least squares (OLS): $\\min_{\\beta}\\sum_i^n(y_i - x_i\\beta)^2$, when iid normal assumption of random error $\\varepsilon_i \\sim^{iid} N(0,\\sigma^2),\\quad \\sigma^2 > 0$ is satisfied."
   ]
  },
  {
   "cell_type": "markdown",
   "metadata": {
    "slideshow": {
     "slide_type": "subslide"
    }
   },
   "source": [
    "## Statsmodels (1.1.2): Linear Regression (Formula-Form)"
   ]
  },
  {
   "cell_type": "code",
   "execution_count": null,
   "metadata": {
    "collapsed": false
   },
   "outputs": [],
   "source": [
    "import statsmodels.formula.api as smf\n",
    "model_lm1 = smf.ols(\"price ~ carat + depth\", data=da).fit()\n",
    "print(model_lm1.summary())"
   ]
  },
  {
   "cell_type": "markdown",
   "metadata": {
    "slideshow": {
     "slide_type": "subslide"
    }
   },
   "source": [
    "## Statsmodels (1.2.1): Linear Regression (Matrix-Form)"
   ]
  },
  {
   "cell_type": "markdown",
   "metadata": {},
   "source": [
    "- If we have $n$ observations, we can write $y = \\beta_0 + x_1\\beta_1 + x_2\\beta_2 + \\cdots x_p\\beta_p + \\varepsilon$ into:\n",
    "- Matrix Form of Linear Regression: $Y = X\\beta + \\varepsilon$.\n",
    "    - row $i$ is $i$th observation, column $j$ is $j$th variable\n",
    "    - $Y_{n\\times1} = (y_1, y_2, \\cdots, y_n)^T$, \n",
    "    - $\\varepsilon_{n\\times1} = (\\varepsilon_1, \\varepsilon_2, \\cdots, \\varepsilon_n)^T$, $\\varepsilon_i \\sim^{iid} N(0,\\sigma^2),\\quad \\sigma^2 > 0$\n",
    "    - $X_{n\\times(p+1)} = (1, X_1, X_2, \\cdots, X_p)$, For each variable $X_j = (X_{1j}, X_{2j}, \\cdots, X_{nj})^T$\n",
    "    - $\\beta_{(p+1)\\times1} = (\\beta_0, \\beta_1, \\beta_2, \\cdots, \\beta_p)^T$  \n",
    "- Prediction in Matrix Form: $\\hat{Y} = X\\hat{\\beta}$\n",
    "- Method (OLS) in Matrix Form: solution $\\hat{\\beta} = (X^TX)^{-1}X^TY$ which $\\min_{\\beta}(Y - X\\beta)^T(Y - X\\beta)$, when iid normal assumption of $\\varepsilon$ is satisfied.\n",
    "- If we want to use matrix-form model, we should prepare our numeric matrix X and Y before building model\n",
    "- More general in machine learning field"
   ]
  },
  {
   "cell_type": "markdown",
   "metadata": {
    "slideshow": {
     "slide_type": "subslide"
    }
   },
   "source": [
    "## Statsmodels (1.2.2): Linear Regression (Matrix-Form)"
   ]
  },
  {
   "cell_type": "code",
   "execution_count": null,
   "metadata": {
    "collapsed": false,
    "scrolled": true
   },
   "outputs": [],
   "source": [
    "import statsmodels.api as sm\n",
    "X = dac[[\"carat\", \"depth\"]].assign(intercept = 1)\n",
    "Y = dac[\"price\"]\n",
    "model_lm2 = sm.OLS(Y, X).fit()\n",
    "print(model_lm2.summary())"
   ]
  },
  {
   "cell_type": "markdown",
   "metadata": {
    "slideshow": {
     "slide_type": "subslide"
    }
   },
   "source": [
    "## How to get help\n",
    "\n",
    "- From Function Help: ? + function\n",
    "    - ?sm.OLS\n",
    "    - ?model_lm2.summary\n",
    "- From Autofill with *Tab*:\n",
    "    - sm. + *Tab*\n",
    "    - model_lm2. + *Tab*\n",
    "- From Google: Your Question (what you want to do) + statsmodels\n",
    "    - test statsmodels\n",
    "    - mixed effect model statsmodels\n",
    "- From Official Website: http://statsmodels.sourceforge.net/"
   ]
  },
  {
   "cell_type": "markdown",
   "metadata": {
    "slideshow": {
     "slide_type": "subslide"
    }
   },
   "source": [
    "## Statsmodels (1.3.1): Regression Plot"
   ]
  },
  {
   "cell_type": "code",
   "execution_count": null,
   "metadata": {
    "collapsed": false,
    "scrolled": false
   },
   "outputs": [],
   "source": [
    "fig = plt.figure(figsize=(12, 10), dpi=360)\n",
    "sm.graphics.plot_regress_exog(model_lm1, \"carat\", fig=fig)"
   ]
  },
  {
   "cell_type": "markdown",
   "metadata": {
    "slideshow": {
     "slide_type": "subslide"
    }
   },
   "source": [
    "## Statsmodels (1.3.2): Residual Plot\n",
    "- Goal: whether residuals $\\hat{\\varepsilon} = Y - \\hat{Y}$ satisfy normal distribution\n",
    "- A straight line indicates normal distribution of residuals"
   ]
  },
  {
   "cell_type": "code",
   "execution_count": null,
   "metadata": {
    "collapsed": false
   },
   "outputs": [],
   "source": [
    "sm.graphics.qqplot(model_lm1.resid)"
   ]
  },
  {
   "cell_type": "markdown",
   "metadata": {
    "slideshow": {
     "slide_type": "subslide"
    }
   },
   "source": [
    "## Statsmodels (2.1.1): Linear Regression with Categorical X\n",
    "\n",
    "- $y = \\beta_0 + x\\beta + \\varepsilon$\n",
    "- If $x$ is a categorical variable, e.g. $x$ take values from group 1, group 2, group 3, ..., group $K$\n",
    "- Group order may not have linear relationship with Y\n",
    "- Instead of using one variable, we break categorical x into $K-1$ variables (called dummy variable): \n",
    "    - $x_1$: whether $x$ is in group 1, if yes $x_1 = 1$, otherwise $x_1 = 0$\n",
    "    - $x_2$: whether $x$ is in group 2, if yes $x_2 = 1$, otherwise $x_2 = 0$\n",
    "    - ...\n",
    "    - $x_{K-1}$: whether $x$ is in group $K-1$, if yes $x_{K-1} = 1$, otherwise $X_{K-1} = 0$\n",
    "    - We needn't ask for $x_K$, if $x$ is in $x_1, \\cdots, x_{K-1}$, $x$ cannot be in group $K$, vice versa.\n",
    "- As a result, we write $y = \\beta_0 + x_1\\beta_1 + x_2\\beta_2 + \\cdots + x_{K-1}\\beta_{K-1} + \\varepsilon$, the same form as linear regression."
   ]
  },
  {
   "cell_type": "markdown",
   "metadata": {
    "slideshow": {
     "slide_type": "subslide"
    }
   },
   "source": [
    "## Statsmodels (2.1.2): Linear Regression with Categorical X"
   ]
  },
  {
   "cell_type": "code",
   "execution_count": null,
   "metadata": {
    "collapsed": false
   },
   "outputs": [],
   "source": [
    "model_lm3 = smf.ols(\"price ~ cut + color\", data = dac).fit()\n",
    "print(model_lm3.summary())"
   ]
  },
  {
   "cell_type": "markdown",
   "metadata": {
    "slideshow": {
     "slide_type": "subslide"
    }
   },
   "source": [
    "## Statsmodels (2.1.3): ANOVA with Categorical X"
   ]
  },
  {
   "cell_type": "code",
   "execution_count": null,
   "metadata": {
    "collapsed": false
   },
   "outputs": [],
   "source": [
    "sm.stats.anova_lm(model_lm3)"
   ]
  },
  {
   "cell_type": "markdown",
   "metadata": {
    "slideshow": {
     "slide_type": "subslide"
    }
   },
   "source": [
    "## Statsmodels (2.2.1): Linear Regression with Transformation and Interaction"
   ]
  },
  {
   "cell_type": "markdown",
   "metadata": {
    "slideshow": {
     "slide_type": "-"
    }
   },
   "source": [
    "- Model of Linear Regression: $y = x\\beta + \\varepsilon = \\beta_0 + x_1\\beta_1 + x_2\\beta_2 + \\cdots + x_p\\beta_p + \\varepsilon$\n",
    "- If the relationship between $y$ and $x$ is not exactly linear:\n",
    "    - Add or delete variables:\n",
    "        - +: add a variable \n",
    "        - -: delete a variable\n",
    "        - 1: intercept term (-1: remove intercept)\n",
    "    - Higher polynomial terms of $x$: $x^2, x^3, \\cdots$\n",
    "        - I(x \\*\\* 2), I(x \\*\\* 3), ....\n",
    "    - Interaction between $x$:\n",
    "        - $x_1$:$x_2$: only interaction effects between $x_1$ and $x_2$\n",
    "        - $x_1$\\*$x_2$: both main effects and interaction effects\n",
    "        - ($x_1$+$x_2$+...)\\*\\*k: to formulate $k$th interaction between $x_1$, $x_2$, ...\n",
    "    - Transformation of $x$ or $y$: $\\log(x), x^a, 1\\{x > c\\}, \\cdots$\n",
    "        - Transformation without operator +, -, \\*, / or \\*\\*: use function on variable in formula directly\n",
    "        - Transformation with operator +, -, \\*, / or \\*\\*: use I( ) outside the transformation to indicate it"
   ]
  },
  {
   "cell_type": "markdown",
   "metadata": {
    "slideshow": {
     "slide_type": "subslide"
    }
   },
   "source": [
    "## Statsmodels (2.2.2): Transformation and Interaction Terms"
   ]
  },
  {
   "cell_type": "code",
   "execution_count": null,
   "metadata": {
    "collapsed": false,
    "slideshow": {
     "slide_type": "-"
    }
   },
   "outputs": [],
   "source": [
    "model_lm4 = smf.ols(\"np.log(price) ~ np.log(carat) + depth * table + I(depth ** 2)\", data = dac).fit()\n",
    "print(model_lm4.summary())"
   ]
  },
  {
   "cell_type": "markdown",
   "metadata": {
    "slideshow": {
     "slide_type": "subslide"
    }
   },
   "source": [
    "## Statsmodels (2.2.3): Formula Transformation to Matrix Form"
   ]
  },
  {
   "cell_type": "code",
   "execution_count": null,
   "metadata": {
    "collapsed": false
   },
   "outputs": [],
   "source": [
    "import patsy as ps\n",
    "X = ps.dmatrix(\" ~ np.log(carat) + depth * table + I(depth ** 2)\", data = dac, return_type = \"dataframe\")\n",
    "model_lm5 = sm.OLS(Y, X).fit()\n",
    "print(model_lm5.summary())"
   ]
  },
  {
   "cell_type": "markdown",
   "metadata": {
    "slideshow": {
     "slide_type": "subslide"
    }
   },
   "source": [
    "## Statsmodels (3.1): Generalized Linear Model Theory"
   ]
  },
  {
   "cell_type": "markdown",
   "metadata": {
    "slideshow": {
     "slide_type": "-"
    }
   },
   "source": [
    "- If $\\varepsilon$ are not iid normal distributed, e.g. Y has 0, 1 binary values\n",
    "- Generalized Linear Model: $g(E(Y)) = X\\beta$\n",
    "    - $E(Y)$: conditional expectation of $Y$ given $X$\n",
    "    - $g(\\cdot)$: link function\n",
    "        - Related with $Q(\\theta)$ in (canonical form) exponential family distribution $f(y|\\theta) = A(y)\\cdot B(\\theta)\\cdot e^{yQ(\\theta)}$\n",
    "        - $g(y) = y$: Linear regression with normal distribution\n",
    "        - $g(y) = \\log(\\frac{y}{1-y})$: Logistic regression with binomial distribution\n",
    "        - $g(y) = \\log(y)$: Poission regression with Poission distribution\n",
    "    - $X\\beta$: linear component, same as linear regression\n",
    "- Prediction: $\\hat{Y} = g^{-1}(X\\hat{\\beta})$\n",
    "- Method: To solve $\\hat{\\beta}$, use maximum likelihood estimator (MLE): $\\max_{\\beta}\\prod_{i=1}^nf(y_i|\\theta = \\hat{y}_i) = \\max_{\\beta}\\sum_{i=1}^n\\log f(y_i|g^{-1}(X_i\\beta))$\n",
    "    "
   ]
  },
  {
   "cell_type": "markdown",
   "metadata": {
    "slideshow": {
     "slide_type": "subslide"
    }
   },
   "source": [
    "## Statsmodels (3.2): Generalized Linear Model"
   ]
  },
  {
   "cell_type": "code",
   "execution_count": null,
   "metadata": {
    "collapsed": false,
    "scrolled": true
   },
   "outputs": [],
   "source": [
    "Y = (dac[\"price\"] > 10000).astype(\"int8\")\n",
    "pd.value_counts(Y)"
   ]
  },
  {
   "cell_type": "code",
   "execution_count": null,
   "metadata": {
    "collapsed": false
   },
   "outputs": [],
   "source": [
    "model_glm = sm.GLM(Y, X, family=sm.families.Binomial()).fit()\n",
    "print(model_glm.summary())"
   ]
  },
  {
   "cell_type": "code",
   "execution_count": null,
   "metadata": {},
   "outputs": [],
   "source": []
  }
 ],
 "metadata": {
  "kernelspec": {
   "display_name": "Python 3",
   "language": "python",
   "name": "python3"
  },
  "language_info": {
   "codemirror_mode": {
    "name": "ipython",
    "version": 3
   },
   "file_extension": ".py",
   "mimetype": "text/x-python",
   "name": "python",
   "nbconvert_exporter": "python",
   "pygments_lexer": "ipython3",
   "version": "3.6.4"
  }
 },
 "nbformat": 4,
 "nbformat_minor": 2
}
