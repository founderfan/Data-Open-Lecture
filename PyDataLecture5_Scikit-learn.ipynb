{
 "cells": [
  {
   "cell_type": "markdown",
   "metadata": {
    "slideshow": {
     "slide_type": "slide"
    }
   },
   "source": [
    "# Scikit-learn for Machine Learning"
   ]
  },
  {
   "cell_type": "markdown",
   "metadata": {
    "slideshow": {
     "slide_type": "subslide"
    }
   },
   "source": [
    "## Preparation\n",
    "\n",
    "- Download and Install [Anaconda](https://www.continuum.io/downloads) (Python 3 version)\n",
    "- Run command in a new shell: `jupyter lab`\n",
    "- If you run jupyter lab in a linux server through ssh, open a new terminal\n",
    "    - `ssh -L 8000:localhost:(jupyter port, default is 8888) (user)@(server address)`\n",
    "    - after log in, `jupyter notebook list`, check and copy the token of your jupyter\n",
    "    - open browser http://localhost:8000/, enter the token\n",
    "- Create a new notebook: Left-upper area -> \"+\" (New launcher) -> Notebook -> Python 3"
   ]
  },
  {
   "cell_type": "markdown",
   "metadata": {
    "slideshow": {
     "slide_type": "subslide"
    }
   },
   "source": [
    "## What is Scikit-learn?\n",
    "\n",
    "- Scikit-learn: Machine Learning in Python\n",
    "    - Simple and efficient tools for data mining and data analysis\n",
    "    - Accessible to everybody, and reusable in various contexts\n",
    "    - Built on NumPy, SciPy, and matplotlib\n",
    "    - Open source, commercially usable - BSD license\n",
    "- Features:\n",
    "    - Classification\n",
    "    - Regression\n",
    "    - Clustering\n",
    "    - Dimensionality reduction\n",
    "    - Model selection\n",
    "    - Preprocessing\n",
    "\n",
    "Reference: [Scikit-learn official site](http://scikit-learn.org/stable/)"
   ]
  },
  {
   "cell_type": "markdown",
   "metadata": {
    "slideshow": {
     "slide_type": "subslide"
    }
   },
   "source": [
    "## Contents\n",
    "\n",
    "1. Machine Learning Theory\n",
    "    - Loss Function\n",
    "    - Training-Validation Sets\n",
    "    - Cross-Validation\n",
    "2. An Example for CV Training: Linear Regression\n",
    "3. Over-fitting\n",
    "    - Penalty Function\n",
    "    - Ridge and Lasso\n",
    "    - Select Penalty Coeffient\n",
    "4. Tree-based Models\n",
    "    - Decision Tree\n",
    "    - Random Forest\n",
    "    - Gradient Boosting Trees"
   ]
  },
  {
   "cell_type": "markdown",
   "metadata": {
    "slideshow": {
     "slide_type": "subslide"
    }
   },
   "source": [
    "## Scikit-learn (1) Data Preprocessing\n",
    "Reference: [scikit-learn preprocessing](http://scikit-learn.org/stable/modules/preprocessing.html)"
   ]
  },
  {
   "cell_type": "code",
   "execution_count": 1,
   "metadata": {
    "collapsed": false,
    "scrolled": true,
    "slideshow": {
     "slide_type": "-"
    }
   },
   "outputs": [],
   "source": [
    "# Load modules and set options\n",
    "import numpy as np\n",
    "import pandas as pd\n",
    "import matplotlib.pyplot as plt\n",
    "from sklearn import preprocessing\n",
    "\n",
    "%matplotlib inline\n",
    "\n",
    "np.set_printoptions(precision = 3)\n",
    "pd.set_option('precision', 3)\n",
    "pd.set_option('display.max_rows', 10)\n",
    "pd.set_option('display.max_columns', 100)"
   ]
  },
  {
   "cell_type": "code",
   "execution_count": 2,
   "metadata": {
    "collapsed": false,
    "scrolled": true,
    "slideshow": {
     "slide_type": "-"
    }
   },
   "outputs": [
    {
     "data": {
      "text/plain": [
       "((53940, 10), (14232, 10))"
      ]
     },
     "execution_count": 2,
     "metadata": {},
     "output_type": "execute_result"
    }
   ],
   "source": [
    "# Load price-missing data and true label data\n",
    "da = pd.read_csv(\"Diamonds.csv\", index_col = \"n\")\n",
    "da_true = pd.read_csv(\"Diamonds_predict_true.csv\", index_col = \"n\")\n",
    "da.shape, da_true.shape"
   ]
  },
  {
   "cell_type": "code",
   "execution_count": 3,
   "metadata": {
    "collapsed": false
   },
   "outputs": [
    {
     "data": {
      "text/plain": [
       "((53940,), (53940, 9))"
      ]
     },
     "execution_count": 3,
     "metadata": {},
     "output_type": "execute_result"
    }
   ],
   "source": [
    "# Separate X and Y\n",
    "Y, X = da['price'], da.drop('price', axis = 1)\n",
    "Y.shape, X.shape"
   ]
  },
  {
   "cell_type": "code",
   "execution_count": 4,
   "metadata": {
    "collapsed": false
   },
   "outputs": [
    {
     "data": {
      "text/plain": [
       "((14232,), (39708,))"
      ]
     },
     "execution_count": 4,
     "metadata": {},
     "output_type": "execute_result"
    }
   ],
   "source": [
    "# Denote labeled and unlabeled row index\n",
    "ir_unlab, ir_lab = da.index[Y.isna()], da.index[~Y.isna()]\n",
    "ir_unlab.shape, ir_lab.shape"
   ]
  },
  {
   "cell_type": "markdown",
   "metadata": {
    "slideshow": {
     "slide_type": "subslide"
    }
   },
   "source": [
    "## How to get help\n",
    "\n",
    "- From Function Help: ? + function\n",
    "    - `?metrics.log_loss`\n",
    "- From Autofill with *Tab*:\n",
    "    - `metrics.` + *Tab*\n",
    "- From Google: Your Question (what you want to do) + scikit-learn\n",
    "    - logistic regression scikit-learn\n",
    "    - speed up random forest scikit-learn\n",
    "- From Official Website: http://scikit-learn.org/"
   ]
  },
  {
   "cell_type": "markdown",
   "metadata": {},
   "source": [
    "## Scikit-learn (1.1): Separate categorical and numerical variables\n",
    "\n",
    "- Categorical and numerical has different features\n",
    "- For categorical variables\n",
    "    - Create dummy variables\n",
    "- For numerical variables\n",
    "    - Scale with mean 0 and std 1\n",
    "    - Interaction / polynomial (if necessary)\n",
    "- For both\n",
    "    - Remove non-frequent variables\n",
    "    - Remove collinearity variables"
   ]
  },
  {
   "cell_type": "code",
   "execution_count": 5,
   "metadata": {},
   "outputs": [
    {
     "data": {
      "text/html": [
       "<div>\n",
       "<style scoped>\n",
       "    .dataframe tbody tr th:only-of-type {\n",
       "        vertical-align: middle;\n",
       "    }\n",
       "\n",
       "    .dataframe tbody tr th {\n",
       "        vertical-align: top;\n",
       "    }\n",
       "\n",
       "    .dataframe thead th {\n",
       "        text-align: right;\n",
       "    }\n",
       "</style>\n",
       "<table border=\"1\" class=\"dataframe\">\n",
       "  <thead>\n",
       "    <tr style=\"text-align: right;\">\n",
       "      <th></th>\n",
       "      <th>carat</th>\n",
       "      <th>depth</th>\n",
       "      <th>table</th>\n",
       "      <th>x</th>\n",
       "      <th>y</th>\n",
       "      <th>z</th>\n",
       "    </tr>\n",
       "    <tr>\n",
       "      <th>n</th>\n",
       "      <th></th>\n",
       "      <th></th>\n",
       "      <th></th>\n",
       "      <th></th>\n",
       "      <th></th>\n",
       "      <th></th>\n",
       "    </tr>\n",
       "  </thead>\n",
       "  <tbody>\n",
       "    <tr>\n",
       "      <th>1</th>\n",
       "      <td>0.23</td>\n",
       "      <td>61.5</td>\n",
       "      <td>55.0</td>\n",
       "      <td>3.95</td>\n",
       "      <td>3.98</td>\n",
       "      <td>2.43</td>\n",
       "    </tr>\n",
       "    <tr>\n",
       "      <th>2</th>\n",
       "      <td>0.21</td>\n",
       "      <td>59.8</td>\n",
       "      <td>61.0</td>\n",
       "      <td>3.89</td>\n",
       "      <td>3.84</td>\n",
       "      <td>2.31</td>\n",
       "    </tr>\n",
       "    <tr>\n",
       "      <th>3</th>\n",
       "      <td>0.23</td>\n",
       "      <td>56.9</td>\n",
       "      <td>65.0</td>\n",
       "      <td>4.05</td>\n",
       "      <td>4.07</td>\n",
       "      <td>2.31</td>\n",
       "    </tr>\n",
       "    <tr>\n",
       "      <th>4</th>\n",
       "      <td>0.29</td>\n",
       "      <td>62.4</td>\n",
       "      <td>58.0</td>\n",
       "      <td>4.20</td>\n",
       "      <td>4.23</td>\n",
       "      <td>2.63</td>\n",
       "    </tr>\n",
       "    <tr>\n",
       "      <th>5</th>\n",
       "      <td>0.31</td>\n",
       "      <td>63.3</td>\n",
       "      <td>58.0</td>\n",
       "      <td>4.34</td>\n",
       "      <td>4.35</td>\n",
       "      <td>2.75</td>\n",
       "    </tr>\n",
       "  </tbody>\n",
       "</table>\n",
       "</div>"
      ],
      "text/plain": [
       "   carat  depth  table     x     y     z\n",
       "n                                       \n",
       "1   0.23   61.5   55.0  3.95  3.98  2.43\n",
       "2   0.21   59.8   61.0  3.89  3.84  2.31\n",
       "3   0.23   56.9   65.0  4.05  4.07  2.31\n",
       "4   0.29   62.4   58.0  4.20  4.23  2.63\n",
       "5   0.31   63.3   58.0  4.34  4.35  2.75"
      ]
     },
     "execution_count": 5,
     "metadata": {},
     "output_type": "execute_result"
    }
   ],
   "source": [
    "# Numeric variable\n",
    "X_num = X.select_dtypes(np.number)\n",
    "X_num.head()"
   ]
  },
  {
   "cell_type": "code",
   "execution_count": 6,
   "metadata": {},
   "outputs": [
    {
     "data": {
      "text/html": [
       "<div>\n",
       "<style scoped>\n",
       "    .dataframe tbody tr th:only-of-type {\n",
       "        vertical-align: middle;\n",
       "    }\n",
       "\n",
       "    .dataframe tbody tr th {\n",
       "        vertical-align: top;\n",
       "    }\n",
       "\n",
       "    .dataframe thead th {\n",
       "        text-align: right;\n",
       "    }\n",
       "</style>\n",
       "<table border=\"1\" class=\"dataframe\">\n",
       "  <thead>\n",
       "    <tr style=\"text-align: right;\">\n",
       "      <th></th>\n",
       "      <th>cut</th>\n",
       "      <th>color</th>\n",
       "      <th>clarity</th>\n",
       "    </tr>\n",
       "    <tr>\n",
       "      <th>n</th>\n",
       "      <th></th>\n",
       "      <th></th>\n",
       "      <th></th>\n",
       "    </tr>\n",
       "  </thead>\n",
       "  <tbody>\n",
       "    <tr>\n",
       "      <th>1</th>\n",
       "      <td>Ideal</td>\n",
       "      <td>E</td>\n",
       "      <td>SI2</td>\n",
       "    </tr>\n",
       "    <tr>\n",
       "      <th>2</th>\n",
       "      <td>Premium</td>\n",
       "      <td>E</td>\n",
       "      <td>SI1</td>\n",
       "    </tr>\n",
       "    <tr>\n",
       "      <th>3</th>\n",
       "      <td>Good</td>\n",
       "      <td>E</td>\n",
       "      <td>VS1</td>\n",
       "    </tr>\n",
       "    <tr>\n",
       "      <th>4</th>\n",
       "      <td>Premium</td>\n",
       "      <td>I</td>\n",
       "      <td>VS2</td>\n",
       "    </tr>\n",
       "    <tr>\n",
       "      <th>5</th>\n",
       "      <td>Good</td>\n",
       "      <td>J</td>\n",
       "      <td>SI2</td>\n",
       "    </tr>\n",
       "  </tbody>\n",
       "</table>\n",
       "</div>"
      ],
      "text/plain": [
       "       cut color clarity\n",
       "n                       \n",
       "1    Ideal     E     SI2\n",
       "2  Premium     E     SI1\n",
       "3     Good     E     VS1\n",
       "4  Premium     I     VS2\n",
       "5     Good     J     SI2"
      ]
     },
     "execution_count": 6,
     "metadata": {},
     "output_type": "execute_result"
    }
   ],
   "source": [
    "# Categorical variable\n",
    "X_cat = X.select_dtypes(\"object\")\n",
    "X_cat.head()"
   ]
  },
  {
   "cell_type": "code",
   "execution_count": 7,
   "metadata": {},
   "outputs": [
    {
     "data": {
      "text/html": [
       "<div>\n",
       "<style scoped>\n",
       "    .dataframe tbody tr th:only-of-type {\n",
       "        vertical-align: middle;\n",
       "    }\n",
       "\n",
       "    .dataframe tbody tr th {\n",
       "        vertical-align: top;\n",
       "    }\n",
       "\n",
       "    .dataframe thead th {\n",
       "        text-align: right;\n",
       "    }\n",
       "</style>\n",
       "<table border=\"1\" class=\"dataframe\">\n",
       "  <thead>\n",
       "    <tr style=\"text-align: right;\">\n",
       "      <th></th>\n",
       "      <th>cut_Good</th>\n",
       "      <th>cut_Ideal</th>\n",
       "      <th>cut_Premium</th>\n",
       "      <th>cut_Very Good</th>\n",
       "      <th>color_E</th>\n",
       "      <th>color_F</th>\n",
       "      <th>color_G</th>\n",
       "      <th>color_H</th>\n",
       "      <th>color_I</th>\n",
       "      <th>color_J</th>\n",
       "      <th>clarity_IF</th>\n",
       "      <th>clarity_SI1</th>\n",
       "      <th>clarity_SI2</th>\n",
       "      <th>clarity_VS1</th>\n",
       "      <th>clarity_VS2</th>\n",
       "      <th>clarity_VVS1</th>\n",
       "      <th>clarity_VVS2</th>\n",
       "    </tr>\n",
       "    <tr>\n",
       "      <th>n</th>\n",
       "      <th></th>\n",
       "      <th></th>\n",
       "      <th></th>\n",
       "      <th></th>\n",
       "      <th></th>\n",
       "      <th></th>\n",
       "      <th></th>\n",
       "      <th></th>\n",
       "      <th></th>\n",
       "      <th></th>\n",
       "      <th></th>\n",
       "      <th></th>\n",
       "      <th></th>\n",
       "      <th></th>\n",
       "      <th></th>\n",
       "      <th></th>\n",
       "      <th></th>\n",
       "    </tr>\n",
       "  </thead>\n",
       "  <tbody>\n",
       "    <tr>\n",
       "      <th>1</th>\n",
       "      <td>0</td>\n",
       "      <td>1</td>\n",
       "      <td>0</td>\n",
       "      <td>0</td>\n",
       "      <td>1</td>\n",
       "      <td>0</td>\n",
       "      <td>0</td>\n",
       "      <td>0</td>\n",
       "      <td>0</td>\n",
       "      <td>0</td>\n",
       "      <td>0</td>\n",
       "      <td>0</td>\n",
       "      <td>1</td>\n",
       "      <td>0</td>\n",
       "      <td>0</td>\n",
       "      <td>0</td>\n",
       "      <td>0</td>\n",
       "    </tr>\n",
       "    <tr>\n",
       "      <th>2</th>\n",
       "      <td>0</td>\n",
       "      <td>0</td>\n",
       "      <td>1</td>\n",
       "      <td>0</td>\n",
       "      <td>1</td>\n",
       "      <td>0</td>\n",
       "      <td>0</td>\n",
       "      <td>0</td>\n",
       "      <td>0</td>\n",
       "      <td>0</td>\n",
       "      <td>0</td>\n",
       "      <td>1</td>\n",
       "      <td>0</td>\n",
       "      <td>0</td>\n",
       "      <td>0</td>\n",
       "      <td>0</td>\n",
       "      <td>0</td>\n",
       "    </tr>\n",
       "    <tr>\n",
       "      <th>3</th>\n",
       "      <td>1</td>\n",
       "      <td>0</td>\n",
       "      <td>0</td>\n",
       "      <td>0</td>\n",
       "      <td>1</td>\n",
       "      <td>0</td>\n",
       "      <td>0</td>\n",
       "      <td>0</td>\n",
       "      <td>0</td>\n",
       "      <td>0</td>\n",
       "      <td>0</td>\n",
       "      <td>0</td>\n",
       "      <td>0</td>\n",
       "      <td>1</td>\n",
       "      <td>0</td>\n",
       "      <td>0</td>\n",
       "      <td>0</td>\n",
       "    </tr>\n",
       "    <tr>\n",
       "      <th>4</th>\n",
       "      <td>0</td>\n",
       "      <td>0</td>\n",
       "      <td>1</td>\n",
       "      <td>0</td>\n",
       "      <td>0</td>\n",
       "      <td>0</td>\n",
       "      <td>0</td>\n",
       "      <td>0</td>\n",
       "      <td>1</td>\n",
       "      <td>0</td>\n",
       "      <td>0</td>\n",
       "      <td>0</td>\n",
       "      <td>0</td>\n",
       "      <td>0</td>\n",
       "      <td>1</td>\n",
       "      <td>0</td>\n",
       "      <td>0</td>\n",
       "    </tr>\n",
       "    <tr>\n",
       "      <th>5</th>\n",
       "      <td>1</td>\n",
       "      <td>0</td>\n",
       "      <td>0</td>\n",
       "      <td>0</td>\n",
       "      <td>0</td>\n",
       "      <td>0</td>\n",
       "      <td>0</td>\n",
       "      <td>0</td>\n",
       "      <td>0</td>\n",
       "      <td>1</td>\n",
       "      <td>0</td>\n",
       "      <td>0</td>\n",
       "      <td>1</td>\n",
       "      <td>0</td>\n",
       "      <td>0</td>\n",
       "      <td>0</td>\n",
       "      <td>0</td>\n",
       "    </tr>\n",
       "  </tbody>\n",
       "</table>\n",
       "</div>"
      ],
      "text/plain": [
       "   cut_Good  cut_Ideal  cut_Premium  cut_Very Good  color_E  color_F  color_G  \\\n",
       "n                                                                               \n",
       "1         0          1            0              0        1        0        0   \n",
       "2         0          0            1              0        1        0        0   \n",
       "3         1          0            0              0        1        0        0   \n",
       "4         0          0            1              0        0        0        0   \n",
       "5         1          0            0              0        0        0        0   \n",
       "\n",
       "   color_H  color_I  color_J  clarity_IF  clarity_SI1  clarity_SI2  \\\n",
       "n                                                                    \n",
       "1        0        0        0           0            0            1   \n",
       "2        0        0        0           0            1            0   \n",
       "3        0        0        0           0            0            0   \n",
       "4        0        1        0           0            0            0   \n",
       "5        0        0        1           0            0            1   \n",
       "\n",
       "   clarity_VS1  clarity_VS2  clarity_VVS1  clarity_VVS2  \n",
       "n                                                        \n",
       "1            0            0             0             0  \n",
       "2            0            0             0             0  \n",
       "3            1            0             0             0  \n",
       "4            0            1             0             0  \n",
       "5            0            0             0             0  "
      ]
     },
     "execution_count": 7,
     "metadata": {},
     "output_type": "execute_result"
    }
   ],
   "source": [
    "# Create dummy variable using a DataFrame way\n",
    "X_cat_dummy = pd.get_dummies(X_cat, drop_first=True)\n",
    "X_cat_dummy.head()"
   ]
  },
  {
   "cell_type": "markdown",
   "metadata": {},
   "source": [
    "## Scikit-learn (1.2): Scale"
   ]
  },
  {
   "cell_type": "code",
   "execution_count": 8,
   "metadata": {},
   "outputs": [
    {
     "data": {
      "text/html": [
       "<div>\n",
       "<style scoped>\n",
       "    .dataframe tbody tr th:only-of-type {\n",
       "        vertical-align: middle;\n",
       "    }\n",
       "\n",
       "    .dataframe tbody tr th {\n",
       "        vertical-align: top;\n",
       "    }\n",
       "\n",
       "    .dataframe thead th {\n",
       "        text-align: right;\n",
       "    }\n",
       "</style>\n",
       "<table border=\"1\" class=\"dataframe\">\n",
       "  <thead>\n",
       "    <tr style=\"text-align: right;\">\n",
       "      <th></th>\n",
       "      <th>carat</th>\n",
       "      <th>depth</th>\n",
       "      <th>table</th>\n",
       "      <th>x</th>\n",
       "      <th>y</th>\n",
       "      <th>z</th>\n",
       "    </tr>\n",
       "    <tr>\n",
       "      <th>n</th>\n",
       "      <th></th>\n",
       "      <th></th>\n",
       "      <th></th>\n",
       "      <th></th>\n",
       "      <th></th>\n",
       "      <th></th>\n",
       "    </tr>\n",
       "  </thead>\n",
       "  <tbody>\n",
       "    <tr>\n",
       "      <th>1</th>\n",
       "      <td>-1.198</td>\n",
       "      <td>-0.174</td>\n",
       "      <td>-1.100</td>\n",
       "      <td>-1.588</td>\n",
       "      <td>-1.536</td>\n",
       "      <td>-1.571</td>\n",
       "    </tr>\n",
       "    <tr>\n",
       "      <th>2</th>\n",
       "      <td>-1.240</td>\n",
       "      <td>-1.361</td>\n",
       "      <td>1.586</td>\n",
       "      <td>-1.641</td>\n",
       "      <td>-1.659</td>\n",
       "      <td>-1.741</td>\n",
       "    </tr>\n",
       "    <tr>\n",
       "      <th>3</th>\n",
       "      <td>-1.198</td>\n",
       "      <td>-3.385</td>\n",
       "      <td>3.376</td>\n",
       "      <td>-1.499</td>\n",
       "      <td>-1.457</td>\n",
       "      <td>-1.741</td>\n",
       "    </tr>\n",
       "    <tr>\n",
       "      <th>4</th>\n",
       "      <td>-1.072</td>\n",
       "      <td>0.454</td>\n",
       "      <td>0.243</td>\n",
       "      <td>-1.365</td>\n",
       "      <td>-1.317</td>\n",
       "      <td>-1.288</td>\n",
       "    </tr>\n",
       "    <tr>\n",
       "      <th>5</th>\n",
       "      <td>-1.029</td>\n",
       "      <td>1.082</td>\n",
       "      <td>0.243</td>\n",
       "      <td>-1.240</td>\n",
       "      <td>-1.212</td>\n",
       "      <td>-1.118</td>\n",
       "    </tr>\n",
       "    <tr>\n",
       "      <th>...</th>\n",
       "      <td>...</td>\n",
       "      <td>...</td>\n",
       "      <td>...</td>\n",
       "      <td>...</td>\n",
       "      <td>...</td>\n",
       "      <td>...</td>\n",
       "    </tr>\n",
       "    <tr>\n",
       "      <th>53936</th>\n",
       "      <td>-0.164</td>\n",
       "      <td>-0.663</td>\n",
       "      <td>-0.205</td>\n",
       "      <td>0.017</td>\n",
       "      <td>0.022</td>\n",
       "      <td>-0.055</td>\n",
       "    </tr>\n",
       "    <tr>\n",
       "      <th>53937</th>\n",
       "      <td>-0.164</td>\n",
       "      <td>0.943</td>\n",
       "      <td>-1.100</td>\n",
       "      <td>-0.037</td>\n",
       "      <td>0.014</td>\n",
       "      <td>0.101</td>\n",
       "    </tr>\n",
       "    <tr>\n",
       "      <th>53938</th>\n",
       "      <td>-0.207</td>\n",
       "      <td>0.733</td>\n",
       "      <td>1.138</td>\n",
       "      <td>-0.063</td>\n",
       "      <td>-0.048</td>\n",
       "      <td>0.030</td>\n",
       "    </tr>\n",
       "    <tr>\n",
       "      <th>53939</th>\n",
       "      <td>0.131</td>\n",
       "      <td>-0.523</td>\n",
       "      <td>0.243</td>\n",
       "      <td>0.373</td>\n",
       "      <td>0.338</td>\n",
       "      <td>0.285</td>\n",
       "    </tr>\n",
       "    <tr>\n",
       "      <th>53940</th>\n",
       "      <td>-0.101</td>\n",
       "      <td>0.315</td>\n",
       "      <td>-1.100</td>\n",
       "      <td>0.088</td>\n",
       "      <td>0.119</td>\n",
       "      <td>0.143</td>\n",
       "    </tr>\n",
       "  </tbody>\n",
       "</table>\n",
       "<p>53940 rows × 6 columns</p>\n",
       "</div>"
      ],
      "text/plain": [
       "       carat  depth  table      x      y      z\n",
       "n                                              \n",
       "1     -1.198 -0.174 -1.100 -1.588 -1.536 -1.571\n",
       "2     -1.240 -1.361  1.586 -1.641 -1.659 -1.741\n",
       "3     -1.198 -3.385  3.376 -1.499 -1.457 -1.741\n",
       "4     -1.072  0.454  0.243 -1.365 -1.317 -1.288\n",
       "5     -1.029  1.082  0.243 -1.240 -1.212 -1.118\n",
       "...      ...    ...    ...    ...    ...    ...\n",
       "53936 -0.164 -0.663 -0.205  0.017  0.022 -0.055\n",
       "53937 -0.164  0.943 -1.100 -0.037  0.014  0.101\n",
       "53938 -0.207  0.733  1.138 -0.063 -0.048  0.030\n",
       "53939  0.131 -0.523  0.243  0.373  0.338  0.285\n",
       "53940 -0.101  0.315 -1.100  0.088  0.119  0.143\n",
       "\n",
       "[53940 rows x 6 columns]"
      ]
     },
     "execution_count": 8,
     "metadata": {},
     "output_type": "execute_result"
    }
   ],
   "source": [
    "# Scale using a DataFrame way\n",
    "(X_num - X_num.mean()) / X_num.std()"
   ]
  },
  {
   "cell_type": "code",
   "execution_count": 9,
   "metadata": {},
   "outputs": [
    {
     "data": {
      "text/plain": [
       "array([[-1.198, -0.174, -1.1  , -1.588, -1.536, -1.571],\n",
       "       [-1.24 , -1.361,  1.586, -1.641, -1.659, -1.741],\n",
       "       [-1.198, -3.385,  3.376, -1.499, -1.457, -1.741],\n",
       "       ..., \n",
       "       [-0.207,  0.733,  1.138, -0.063, -0.048,  0.03 ],\n",
       "       [ 0.131, -0.523,  0.243,  0.373,  0.338,  0.285],\n",
       "       [-0.101,  0.315, -1.1  ,  0.088,  0.119,  0.143]])"
      ]
     },
     "execution_count": 9,
     "metadata": {},
     "output_type": "execute_result"
    }
   ],
   "source": [
    "# Scale using a scikit-learn way\n",
    "model_scale = preprocessing.StandardScaler()\n",
    "X_num_arr = model_scale.fit_transform(X_num)\n",
    "X_num_arr"
   ]
  },
  {
   "cell_type": "code",
   "execution_count": 10,
   "metadata": {},
   "outputs": [
    {
     "data": {
      "text/plain": [
       "array([  0.798,  61.749,  57.457,   5.731,   5.735,   3.539])"
      ]
     },
     "execution_count": 10,
     "metadata": {},
     "output_type": "execute_result"
    }
   ],
   "source": [
    "model_scale.mean_"
   ]
  },
  {
   "cell_type": "code",
   "execution_count": 11,
   "metadata": {},
   "outputs": [
    {
     "data": {
      "text/plain": [
       "array([ 0.474,  1.433,  2.234,  1.122,  1.142,  0.706])"
      ]
     },
     "execution_count": 11,
     "metadata": {},
     "output_type": "execute_result"
    }
   ],
   "source": [
    "model_scale.scale_"
   ]
  },
  {
   "cell_type": "markdown",
   "metadata": {},
   "source": [
    "## Scikit-learn (1.3): Polynomial features"
   ]
  },
  {
   "cell_type": "code",
   "execution_count": 12,
   "metadata": {},
   "outputs": [
    {
     "data": {
      "text/plain": [
       "array([[ -1.198e+00,  -1.741e-01,  -1.100e+00, ...,   2.439e+00,\n",
       "          2.495e+00,   2.414e+00],\n",
       "       [ -1.240e+00,  -1.361e+00,   1.586e+00, ...,   2.723e+00,\n",
       "          2.858e+00,   2.888e+00],\n",
       "       [ -1.198e+00,  -3.385e+00,   3.376e+00, ...,   2.184e+00,\n",
       "          2.609e+00,   2.538e+00],\n",
       "       ..., \n",
       "       [ -2.066e-01,   7.333e-01,   1.138e+00, ...,   3.028e-03,\n",
       "         -1.912e-03,  -1.439e-03],\n",
       "       [  1.309e-01,  -5.231e-01,   2.429e-01, ...,   1.260e-01,\n",
       "          1.065e-01,   9.626e-02],\n",
       "       [ -1.011e-01,   3.145e-01,  -1.100e+00, ...,   1.045e-02,\n",
       "          1.264e-02,   1.702e-02]])"
      ]
     },
     "execution_count": 12,
     "metadata": {},
     "output_type": "execute_result"
    }
   ],
   "source": [
    "model_poly = preprocessing.PolynomialFeatures(interaction_only=True, include_bias=False)\n",
    "X_num_poly_arr = model_poly.fit_transform(X_num_arr)\n",
    "X_num_poly_arr"
   ]
  },
  {
   "cell_type": "code",
   "execution_count": 13,
   "metadata": {},
   "outputs": [
    {
     "data": {
      "text/plain": [
       "['x0',\n",
       " 'x1',\n",
       " 'x2',\n",
       " 'x3',\n",
       " 'x4',\n",
       " 'x5',\n",
       " 'x0 x1',\n",
       " 'x0 x2',\n",
       " 'x0 x3',\n",
       " 'x0 x4',\n",
       " 'x0 x5',\n",
       " 'x1 x2',\n",
       " 'x1 x3',\n",
       " 'x1 x4',\n",
       " 'x1 x5',\n",
       " 'x2 x3',\n",
       " 'x2 x4',\n",
       " 'x2 x5',\n",
       " 'x3 x4',\n",
       " 'x3 x5',\n",
       " 'x4 x5']"
      ]
     },
     "execution_count": 13,
     "metadata": {},
     "output_type": "execute_result"
    }
   ],
   "source": [
    "model_poly.get_feature_names()"
   ]
  },
  {
   "cell_type": "code",
   "execution_count": 14,
   "metadata": {},
   "outputs": [
    {
     "data": {
      "text/plain": [
       "{'x0': 'carat', 'x1': 'depth', 'x2': 'table', 'x3': 'x', 'x4': 'y', 'x5': 'z'}"
      ]
     },
     "execution_count": 14,
     "metadata": {},
     "output_type": "execute_result"
    }
   ],
   "source": [
    "poly_dict = {\"x{}\".format(i): i_val for i, i_val in enumerate(X_num.columns)}\n",
    "poly_dict"
   ]
  },
  {
   "cell_type": "code",
   "execution_count": 15,
   "metadata": {},
   "outputs": [
    {
     "data": {
      "text/html": [
       "<div>\n",
       "<style scoped>\n",
       "    .dataframe tbody tr th:only-of-type {\n",
       "        vertical-align: middle;\n",
       "    }\n",
       "\n",
       "    .dataframe tbody tr th {\n",
       "        vertical-align: top;\n",
       "    }\n",
       "\n",
       "    .dataframe thead th {\n",
       "        text-align: right;\n",
       "    }\n",
       "</style>\n",
       "<table border=\"1\" class=\"dataframe\">\n",
       "  <thead>\n",
       "    <tr style=\"text-align: right;\">\n",
       "      <th></th>\n",
       "      <th>0</th>\n",
       "      <th>1</th>\n",
       "      <th>2</th>\n",
       "      <th>3</th>\n",
       "      <th>4</th>\n",
       "      <th>5</th>\n",
       "      <th>6</th>\n",
       "      <th>7</th>\n",
       "      <th>8</th>\n",
       "      <th>9</th>\n",
       "      <th>10</th>\n",
       "      <th>11</th>\n",
       "      <th>12</th>\n",
       "      <th>13</th>\n",
       "      <th>14</th>\n",
       "      <th>15</th>\n",
       "      <th>16</th>\n",
       "      <th>17</th>\n",
       "      <th>18</th>\n",
       "      <th>19</th>\n",
       "      <th>20</th>\n",
       "    </tr>\n",
       "    <tr>\n",
       "      <th>n</th>\n",
       "      <th></th>\n",
       "      <th></th>\n",
       "      <th></th>\n",
       "      <th></th>\n",
       "      <th></th>\n",
       "      <th></th>\n",
       "      <th></th>\n",
       "      <th></th>\n",
       "      <th></th>\n",
       "      <th></th>\n",
       "      <th></th>\n",
       "      <th></th>\n",
       "      <th></th>\n",
       "      <th></th>\n",
       "      <th></th>\n",
       "      <th></th>\n",
       "      <th></th>\n",
       "      <th></th>\n",
       "      <th></th>\n",
       "      <th></th>\n",
       "      <th></th>\n",
       "    </tr>\n",
       "  </thead>\n",
       "  <tbody>\n",
       "    <tr>\n",
       "      <th>1</th>\n",
       "      <td>-1.198</td>\n",
       "      <td>-0.174</td>\n",
       "      <td>-1.100</td>\n",
       "      <td>-1.588</td>\n",
       "      <td>-1.536</td>\n",
       "      <td>-1.571</td>\n",
       "      <td>0.209</td>\n",
       "      <td>1.318</td>\n",
       "      <td>1.902</td>\n",
       "      <td>1.841</td>\n",
       "      <td>1.882</td>\n",
       "      <td>0.191</td>\n",
       "      <td>0.276</td>\n",
       "      <td>0.267</td>\n",
       "      <td>0.274</td>\n",
       "      <td>1.746</td>\n",
       "      <td>1.689</td>\n",
       "      <td>1.728</td>\n",
       "      <td>2.439</td>\n",
       "      <td>2.495</td>\n",
       "      <td>2.414</td>\n",
       "    </tr>\n",
       "    <tr>\n",
       "      <th>2</th>\n",
       "      <td>-1.240</td>\n",
       "      <td>-1.361</td>\n",
       "      <td>1.586</td>\n",
       "      <td>-1.641</td>\n",
       "      <td>-1.659</td>\n",
       "      <td>-1.741</td>\n",
       "      <td>1.688</td>\n",
       "      <td>-1.967</td>\n",
       "      <td>2.036</td>\n",
       "      <td>2.057</td>\n",
       "      <td>2.160</td>\n",
       "      <td>-2.157</td>\n",
       "      <td>2.233</td>\n",
       "      <td>2.257</td>\n",
       "      <td>2.369</td>\n",
       "      <td>-2.602</td>\n",
       "      <td>-2.630</td>\n",
       "      <td>-2.761</td>\n",
       "      <td>2.723</td>\n",
       "      <td>2.858</td>\n",
       "      <td>2.888</td>\n",
       "    </tr>\n",
       "    <tr>\n",
       "      <th>3</th>\n",
       "      <td>-1.198</td>\n",
       "      <td>-3.385</td>\n",
       "      <td>3.376</td>\n",
       "      <td>-1.499</td>\n",
       "      <td>-1.457</td>\n",
       "      <td>-1.741</td>\n",
       "      <td>4.056</td>\n",
       "      <td>-4.045</td>\n",
       "      <td>1.796</td>\n",
       "      <td>1.746</td>\n",
       "      <td>2.086</td>\n",
       "      <td>-11.427</td>\n",
       "      <td>5.073</td>\n",
       "      <td>4.933</td>\n",
       "      <td>5.894</td>\n",
       "      <td>-5.059</td>\n",
       "      <td>-4.920</td>\n",
       "      <td>-5.878</td>\n",
       "      <td>2.184</td>\n",
       "      <td>2.609</td>\n",
       "      <td>2.538</td>\n",
       "    </tr>\n",
       "    <tr>\n",
       "      <th>4</th>\n",
       "      <td>-1.072</td>\n",
       "      <td>0.454</td>\n",
       "      <td>0.243</td>\n",
       "      <td>-1.365</td>\n",
       "      <td>-1.317</td>\n",
       "      <td>-1.288</td>\n",
       "      <td>-0.487</td>\n",
       "      <td>-0.260</td>\n",
       "      <td>1.463</td>\n",
       "      <td>1.412</td>\n",
       "      <td>1.380</td>\n",
       "      <td>0.110</td>\n",
       "      <td>-0.620</td>\n",
       "      <td>-0.598</td>\n",
       "      <td>-0.585</td>\n",
       "      <td>-0.332</td>\n",
       "      <td>-0.320</td>\n",
       "      <td>-0.313</td>\n",
       "      <td>1.798</td>\n",
       "      <td>1.758</td>\n",
       "      <td>1.696</td>\n",
       "    </tr>\n",
       "    <tr>\n",
       "      <th>5</th>\n",
       "      <td>-1.029</td>\n",
       "      <td>1.082</td>\n",
       "      <td>0.243</td>\n",
       "      <td>-1.240</td>\n",
       "      <td>-1.212</td>\n",
       "      <td>-1.118</td>\n",
       "      <td>-1.114</td>\n",
       "      <td>-0.250</td>\n",
       "      <td>1.277</td>\n",
       "      <td>1.248</td>\n",
       "      <td>1.151</td>\n",
       "      <td>0.263</td>\n",
       "      <td>-1.342</td>\n",
       "      <td>-1.312</td>\n",
       "      <td>-1.210</td>\n",
       "      <td>-0.301</td>\n",
       "      <td>-0.294</td>\n",
       "      <td>-0.272</td>\n",
       "      <td>1.503</td>\n",
       "      <td>1.386</td>\n",
       "      <td>1.355</td>\n",
       "    </tr>\n",
       "  </tbody>\n",
       "</table>\n",
       "</div>"
      ],
      "text/plain": [
       "      0      1      2      3      4      5      6      7      8      9   \\\n",
       "n                                                                         \n",
       "1 -1.198 -0.174 -1.100 -1.588 -1.536 -1.571  0.209  1.318  1.902  1.841   \n",
       "2 -1.240 -1.361  1.586 -1.641 -1.659 -1.741  1.688 -1.967  2.036  2.057   \n",
       "3 -1.198 -3.385  3.376 -1.499 -1.457 -1.741  4.056 -4.045  1.796  1.746   \n",
       "4 -1.072  0.454  0.243 -1.365 -1.317 -1.288 -0.487 -0.260  1.463  1.412   \n",
       "5 -1.029  1.082  0.243 -1.240 -1.212 -1.118 -1.114 -0.250  1.277  1.248   \n",
       "\n",
       "      10      11     12     13     14     15     16     17     18     19  \\\n",
       "n                                                                          \n",
       "1  1.882   0.191  0.276  0.267  0.274  1.746  1.689  1.728  2.439  2.495   \n",
       "2  2.160  -2.157  2.233  2.257  2.369 -2.602 -2.630 -2.761  2.723  2.858   \n",
       "3  2.086 -11.427  5.073  4.933  5.894 -5.059 -4.920 -5.878  2.184  2.609   \n",
       "4  1.380   0.110 -0.620 -0.598 -0.585 -0.332 -0.320 -0.313  1.798  1.758   \n",
       "5  1.151   0.263 -1.342 -1.312 -1.210 -0.301 -0.294 -0.272  1.503  1.386   \n",
       "\n",
       "      20  \n",
       "n         \n",
       "1  2.414  \n",
       "2  2.888  \n",
       "3  2.538  \n",
       "4  1.696  \n",
       "5  1.355  "
      ]
     },
     "execution_count": 15,
     "metadata": {},
     "output_type": "execute_result"
    }
   ],
   "source": [
    "X_num_poly = pd.DataFrame(X_num_poly_arr, X_num.index)\n",
    "X_num_poly.head()"
   ]
  },
  {
   "cell_type": "code",
   "execution_count": 16,
   "metadata": {},
   "outputs": [
    {
     "data": {
      "text/html": [
       "<div>\n",
       "<style scoped>\n",
       "    .dataframe tbody tr th:only-of-type {\n",
       "        vertical-align: middle;\n",
       "    }\n",
       "\n",
       "    .dataframe tbody tr th {\n",
       "        vertical-align: top;\n",
       "    }\n",
       "\n",
       "    .dataframe thead th {\n",
       "        text-align: right;\n",
       "    }\n",
       "</style>\n",
       "<table border=\"1\" class=\"dataframe\">\n",
       "  <thead>\n",
       "    <tr style=\"text-align: right;\">\n",
       "      <th></th>\n",
       "      <th>carat</th>\n",
       "      <th>depth</th>\n",
       "      <th>table</th>\n",
       "      <th>x</th>\n",
       "      <th>y</th>\n",
       "      <th>z</th>\n",
       "      <th>carat depth</th>\n",
       "      <th>carat table</th>\n",
       "      <th>carat x</th>\n",
       "      <th>carat y</th>\n",
       "      <th>carat z</th>\n",
       "      <th>depth table</th>\n",
       "      <th>depth x</th>\n",
       "      <th>depth y</th>\n",
       "      <th>depth z</th>\n",
       "      <th>table x</th>\n",
       "      <th>table y</th>\n",
       "      <th>table z</th>\n",
       "      <th>x y</th>\n",
       "      <th>x z</th>\n",
       "      <th>y z</th>\n",
       "    </tr>\n",
       "    <tr>\n",
       "      <th>n</th>\n",
       "      <th></th>\n",
       "      <th></th>\n",
       "      <th></th>\n",
       "      <th></th>\n",
       "      <th></th>\n",
       "      <th></th>\n",
       "      <th></th>\n",
       "      <th></th>\n",
       "      <th></th>\n",
       "      <th></th>\n",
       "      <th></th>\n",
       "      <th></th>\n",
       "      <th></th>\n",
       "      <th></th>\n",
       "      <th></th>\n",
       "      <th></th>\n",
       "      <th></th>\n",
       "      <th></th>\n",
       "      <th></th>\n",
       "      <th></th>\n",
       "      <th></th>\n",
       "    </tr>\n",
       "  </thead>\n",
       "  <tbody>\n",
       "    <tr>\n",
       "      <th>1</th>\n",
       "      <td>-1.198</td>\n",
       "      <td>-0.174</td>\n",
       "      <td>-1.100</td>\n",
       "      <td>-1.588</td>\n",
       "      <td>-1.536</td>\n",
       "      <td>-1.571</td>\n",
       "      <td>0.209</td>\n",
       "      <td>1.318</td>\n",
       "      <td>1.902</td>\n",
       "      <td>1.841</td>\n",
       "      <td>1.882</td>\n",
       "      <td>0.191</td>\n",
       "      <td>0.276</td>\n",
       "      <td>0.267</td>\n",
       "      <td>0.274</td>\n",
       "      <td>1.746</td>\n",
       "      <td>1.689</td>\n",
       "      <td>1.728</td>\n",
       "      <td>2.439</td>\n",
       "      <td>2.495</td>\n",
       "      <td>2.414</td>\n",
       "    </tr>\n",
       "    <tr>\n",
       "      <th>2</th>\n",
       "      <td>-1.240</td>\n",
       "      <td>-1.361</td>\n",
       "      <td>1.586</td>\n",
       "      <td>-1.641</td>\n",
       "      <td>-1.659</td>\n",
       "      <td>-1.741</td>\n",
       "      <td>1.688</td>\n",
       "      <td>-1.967</td>\n",
       "      <td>2.036</td>\n",
       "      <td>2.057</td>\n",
       "      <td>2.160</td>\n",
       "      <td>-2.157</td>\n",
       "      <td>2.233</td>\n",
       "      <td>2.257</td>\n",
       "      <td>2.369</td>\n",
       "      <td>-2.602</td>\n",
       "      <td>-2.630</td>\n",
       "      <td>-2.761</td>\n",
       "      <td>2.723</td>\n",
       "      <td>2.858</td>\n",
       "      <td>2.888</td>\n",
       "    </tr>\n",
       "    <tr>\n",
       "      <th>3</th>\n",
       "      <td>-1.198</td>\n",
       "      <td>-3.385</td>\n",
       "      <td>3.376</td>\n",
       "      <td>-1.499</td>\n",
       "      <td>-1.457</td>\n",
       "      <td>-1.741</td>\n",
       "      <td>4.056</td>\n",
       "      <td>-4.045</td>\n",
       "      <td>1.796</td>\n",
       "      <td>1.746</td>\n",
       "      <td>2.086</td>\n",
       "      <td>-11.427</td>\n",
       "      <td>5.073</td>\n",
       "      <td>4.933</td>\n",
       "      <td>5.894</td>\n",
       "      <td>-5.059</td>\n",
       "      <td>-4.920</td>\n",
       "      <td>-5.878</td>\n",
       "      <td>2.184</td>\n",
       "      <td>2.609</td>\n",
       "      <td>2.538</td>\n",
       "    </tr>\n",
       "    <tr>\n",
       "      <th>4</th>\n",
       "      <td>-1.072</td>\n",
       "      <td>0.454</td>\n",
       "      <td>0.243</td>\n",
       "      <td>-1.365</td>\n",
       "      <td>-1.317</td>\n",
       "      <td>-1.288</td>\n",
       "      <td>-0.487</td>\n",
       "      <td>-0.260</td>\n",
       "      <td>1.463</td>\n",
       "      <td>1.412</td>\n",
       "      <td>1.380</td>\n",
       "      <td>0.110</td>\n",
       "      <td>-0.620</td>\n",
       "      <td>-0.598</td>\n",
       "      <td>-0.585</td>\n",
       "      <td>-0.332</td>\n",
       "      <td>-0.320</td>\n",
       "      <td>-0.313</td>\n",
       "      <td>1.798</td>\n",
       "      <td>1.758</td>\n",
       "      <td>1.696</td>\n",
       "    </tr>\n",
       "    <tr>\n",
       "      <th>5</th>\n",
       "      <td>-1.029</td>\n",
       "      <td>1.082</td>\n",
       "      <td>0.243</td>\n",
       "      <td>-1.240</td>\n",
       "      <td>-1.212</td>\n",
       "      <td>-1.118</td>\n",
       "      <td>-1.114</td>\n",
       "      <td>-0.250</td>\n",
       "      <td>1.277</td>\n",
       "      <td>1.248</td>\n",
       "      <td>1.151</td>\n",
       "      <td>0.263</td>\n",
       "      <td>-1.342</td>\n",
       "      <td>-1.312</td>\n",
       "      <td>-1.210</td>\n",
       "      <td>-0.301</td>\n",
       "      <td>-0.294</td>\n",
       "      <td>-0.272</td>\n",
       "      <td>1.503</td>\n",
       "      <td>1.386</td>\n",
       "      <td>1.355</td>\n",
       "    </tr>\n",
       "  </tbody>\n",
       "</table>\n",
       "</div>"
      ],
      "text/plain": [
       "   carat  depth  table      x      y      z  carat depth  carat table  \\\n",
       "n                                                                       \n",
       "1 -1.198 -0.174 -1.100 -1.588 -1.536 -1.571        0.209        1.318   \n",
       "2 -1.240 -1.361  1.586 -1.641 -1.659 -1.741        1.688       -1.967   \n",
       "3 -1.198 -3.385  3.376 -1.499 -1.457 -1.741        4.056       -4.045   \n",
       "4 -1.072  0.454  0.243 -1.365 -1.317 -1.288       -0.487       -0.260   \n",
       "5 -1.029  1.082  0.243 -1.240 -1.212 -1.118       -1.114       -0.250   \n",
       "\n",
       "   carat x  carat y  carat z  depth table  depth x  depth y  depth z  table x  \\\n",
       "n                                                                               \n",
       "1    1.902    1.841    1.882        0.191    0.276    0.267    0.274    1.746   \n",
       "2    2.036    2.057    2.160       -2.157    2.233    2.257    2.369   -2.602   \n",
       "3    1.796    1.746    2.086      -11.427    5.073    4.933    5.894   -5.059   \n",
       "4    1.463    1.412    1.380        0.110   -0.620   -0.598   -0.585   -0.332   \n",
       "5    1.277    1.248    1.151        0.263   -1.342   -1.312   -1.210   -0.301   \n",
       "\n",
       "   table y  table z    x y    x z    y z  \n",
       "n                                         \n",
       "1    1.689    1.728  2.439  2.495  2.414  \n",
       "2   -2.630   -2.761  2.723  2.858  2.888  \n",
       "3   -4.920   -5.878  2.184  2.609  2.538  \n",
       "4   -0.320   -0.313  1.798  1.758  1.696  \n",
       "5   -0.294   -0.272  1.503  1.386  1.355  "
      ]
     },
     "execution_count": 16,
     "metadata": {},
     "output_type": "execute_result"
    }
   ],
   "source": [
    "X_num_poly.columns = pd.Series(model_poly.get_feature_names()).str.replace('x[0-9]+', lambda x: poly_dict.get(x.group()))\n",
    "X_num_poly.head()"
   ]
  },
  {
   "cell_type": "code",
   "execution_count": 200,
   "metadata": {},
   "outputs": [
    {
     "data": {
      "text/html": [
       "<div>\n",
       "<style scoped>\n",
       "    .dataframe tbody tr th:only-of-type {\n",
       "        vertical-align: middle;\n",
       "    }\n",
       "\n",
       "    .dataframe tbody tr th {\n",
       "        vertical-align: top;\n",
       "    }\n",
       "\n",
       "    .dataframe thead th {\n",
       "        text-align: right;\n",
       "    }\n",
       "</style>\n",
       "<table border=\"1\" class=\"dataframe\">\n",
       "  <thead>\n",
       "    <tr style=\"text-align: right;\">\n",
       "      <th></th>\n",
       "      <th>carat</th>\n",
       "      <th>depth</th>\n",
       "      <th>table</th>\n",
       "      <th>x</th>\n",
       "      <th>y</th>\n",
       "      <th>z</th>\n",
       "      <th>carat depth</th>\n",
       "      <th>carat table</th>\n",
       "      <th>carat x</th>\n",
       "      <th>carat y</th>\n",
       "      <th>carat z</th>\n",
       "      <th>depth table</th>\n",
       "      <th>depth x</th>\n",
       "      <th>depth y</th>\n",
       "      <th>depth z</th>\n",
       "      <th>table x</th>\n",
       "      <th>table y</th>\n",
       "      <th>table z</th>\n",
       "      <th>x y</th>\n",
       "      <th>x z</th>\n",
       "      <th>y z</th>\n",
       "      <th>cut_Good</th>\n",
       "      <th>cut_Ideal</th>\n",
       "      <th>cut_Premium</th>\n",
       "      <th>cut_Very Good</th>\n",
       "      <th>color_E</th>\n",
       "      <th>color_F</th>\n",
       "      <th>color_G</th>\n",
       "      <th>color_H</th>\n",
       "      <th>color_I</th>\n",
       "      <th>color_J</th>\n",
       "      <th>clarity_IF</th>\n",
       "      <th>clarity_SI1</th>\n",
       "      <th>clarity_SI2</th>\n",
       "      <th>clarity_VS1</th>\n",
       "      <th>clarity_VS2</th>\n",
       "      <th>clarity_VVS1</th>\n",
       "      <th>clarity_VVS2</th>\n",
       "    </tr>\n",
       "    <tr>\n",
       "      <th>n</th>\n",
       "      <th></th>\n",
       "      <th></th>\n",
       "      <th></th>\n",
       "      <th></th>\n",
       "      <th></th>\n",
       "      <th></th>\n",
       "      <th></th>\n",
       "      <th></th>\n",
       "      <th></th>\n",
       "      <th></th>\n",
       "      <th></th>\n",
       "      <th></th>\n",
       "      <th></th>\n",
       "      <th></th>\n",
       "      <th></th>\n",
       "      <th></th>\n",
       "      <th></th>\n",
       "      <th></th>\n",
       "      <th></th>\n",
       "      <th></th>\n",
       "      <th></th>\n",
       "      <th></th>\n",
       "      <th></th>\n",
       "      <th></th>\n",
       "      <th></th>\n",
       "      <th></th>\n",
       "      <th></th>\n",
       "      <th></th>\n",
       "      <th></th>\n",
       "      <th></th>\n",
       "      <th></th>\n",
       "      <th></th>\n",
       "      <th></th>\n",
       "      <th></th>\n",
       "      <th></th>\n",
       "      <th></th>\n",
       "      <th></th>\n",
       "      <th></th>\n",
       "    </tr>\n",
       "  </thead>\n",
       "  <tbody>\n",
       "    <tr>\n",
       "      <th>1</th>\n",
       "      <td>-1.198</td>\n",
       "      <td>-0.174</td>\n",
       "      <td>-1.100</td>\n",
       "      <td>-1.588</td>\n",
       "      <td>-1.536</td>\n",
       "      <td>-1.571</td>\n",
       "      <td>0.166</td>\n",
       "      <td>1.127</td>\n",
       "      <td>0.667</td>\n",
       "      <td>0.617</td>\n",
       "      <td>0.670</td>\n",
       "      <td>0.332</td>\n",
       "      <td>0.298</td>\n",
       "      <td>0.281</td>\n",
       "      <td>0.173</td>\n",
       "      <td>1.553</td>\n",
       "      <td>1.542</td>\n",
       "      <td>1.596</td>\n",
       "      <td>1.207</td>\n",
       "      <td>1.316</td>\n",
       "      <td>0.852</td>\n",
       "      <td>-0.316</td>\n",
       "      <td>1.226</td>\n",
       "      <td>-0.586</td>\n",
       "      <td>-0.537</td>\n",
       "      <td>2.123</td>\n",
       "      <td>-0.464</td>\n",
       "      <td>-0.515</td>\n",
       "      <td>-0.427</td>\n",
       "      <td>-0.334</td>\n",
       "      <td>-0.234</td>\n",
       "      <td>-0.185</td>\n",
       "      <td>-0.565</td>\n",
       "      <td>2.206</td>\n",
       "      <td>-0.423</td>\n",
       "      <td>-0.542</td>\n",
       "      <td>-0.27</td>\n",
       "      <td>-0.322</td>\n",
       "    </tr>\n",
       "    <tr>\n",
       "      <th>2</th>\n",
       "      <td>-1.240</td>\n",
       "      <td>-1.361</td>\n",
       "      <td>1.586</td>\n",
       "      <td>-1.641</td>\n",
       "      <td>-1.659</td>\n",
       "      <td>-1.741</td>\n",
       "      <td>1.526</td>\n",
       "      <td>-2.131</td>\n",
       "      <td>0.763</td>\n",
       "      <td>0.767</td>\n",
       "      <td>0.870</td>\n",
       "      <td>-1.267</td>\n",
       "      <td>2.233</td>\n",
       "      <td>2.166</td>\n",
       "      <td>2.206</td>\n",
       "      <td>-2.801</td>\n",
       "      <td>-2.881</td>\n",
       "      <td>-2.947</td>\n",
       "      <td>1.441</td>\n",
       "      <td>1.629</td>\n",
       "      <td>1.129</td>\n",
       "      <td>-0.316</td>\n",
       "      <td>-0.816</td>\n",
       "      <td>1.706</td>\n",
       "      <td>-0.537</td>\n",
       "      <td>2.123</td>\n",
       "      <td>-0.464</td>\n",
       "      <td>-0.515</td>\n",
       "      <td>-0.427</td>\n",
       "      <td>-0.334</td>\n",
       "      <td>-0.234</td>\n",
       "      <td>-0.185</td>\n",
       "      <td>1.769</td>\n",
       "      <td>-0.453</td>\n",
       "      <td>-0.423</td>\n",
       "      <td>-0.542</td>\n",
       "      <td>-0.27</td>\n",
       "      <td>-0.322</td>\n",
       "    </tr>\n",
       "    <tr>\n",
       "      <th>3</th>\n",
       "      <td>-1.198</td>\n",
       "      <td>-3.385</td>\n",
       "      <td>3.376</td>\n",
       "      <td>-1.499</td>\n",
       "      <td>-1.457</td>\n",
       "      <td>-1.741</td>\n",
       "      <td>3.703</td>\n",
       "      <td>-4.192</td>\n",
       "      <td>0.590</td>\n",
       "      <td>0.551</td>\n",
       "      <td>0.817</td>\n",
       "      <td>-7.577</td>\n",
       "      <td>5.040</td>\n",
       "      <td>4.702</td>\n",
       "      <td>5.626</td>\n",
       "      <td>-5.261</td>\n",
       "      <td>-5.225</td>\n",
       "      <td>-6.101</td>\n",
       "      <td>0.997</td>\n",
       "      <td>1.415</td>\n",
       "      <td>0.925</td>\n",
       "      <td>3.161</td>\n",
       "      <td>-0.816</td>\n",
       "      <td>-0.586</td>\n",
       "      <td>-0.537</td>\n",
       "      <td>2.123</td>\n",
       "      <td>-0.464</td>\n",
       "      <td>-0.515</td>\n",
       "      <td>-0.427</td>\n",
       "      <td>-0.334</td>\n",
       "      <td>-0.234</td>\n",
       "      <td>-0.185</td>\n",
       "      <td>-0.565</td>\n",
       "      <td>-0.453</td>\n",
       "      <td>2.367</td>\n",
       "      <td>-0.542</td>\n",
       "      <td>-0.27</td>\n",
       "      <td>-0.322</td>\n",
       "    </tr>\n",
       "    <tr>\n",
       "      <th>4</th>\n",
       "      <td>-1.072</td>\n",
       "      <td>0.454</td>\n",
       "      <td>0.243</td>\n",
       "      <td>-1.365</td>\n",
       "      <td>-1.317</td>\n",
       "      <td>-1.288</td>\n",
       "      <td>-0.473</td>\n",
       "      <td>-0.438</td>\n",
       "      <td>0.351</td>\n",
       "      <td>0.319</td>\n",
       "      <td>0.308</td>\n",
       "      <td>0.276</td>\n",
       "      <td>-0.588</td>\n",
       "      <td>-0.539</td>\n",
       "      <td>-0.659</td>\n",
       "      <td>-0.528</td>\n",
       "      <td>-0.516</td>\n",
       "      <td>-0.469</td>\n",
       "      <td>0.679</td>\n",
       "      <td>0.679</td>\n",
       "      <td>0.434</td>\n",
       "      <td>-0.316</td>\n",
       "      <td>-0.816</td>\n",
       "      <td>1.706</td>\n",
       "      <td>-0.537</td>\n",
       "      <td>-0.471</td>\n",
       "      <td>-0.464</td>\n",
       "      <td>-0.515</td>\n",
       "      <td>-0.427</td>\n",
       "      <td>2.991</td>\n",
       "      <td>-0.234</td>\n",
       "      <td>-0.185</td>\n",
       "      <td>-0.565</td>\n",
       "      <td>-0.453</td>\n",
       "      <td>-0.423</td>\n",
       "      <td>1.844</td>\n",
       "      <td>-0.27</td>\n",
       "      <td>-0.322</td>\n",
       "    </tr>\n",
       "    <tr>\n",
       "      <th>5</th>\n",
       "      <td>-1.029</td>\n",
       "      <td>1.082</td>\n",
       "      <td>0.243</td>\n",
       "      <td>-1.240</td>\n",
       "      <td>-1.212</td>\n",
       "      <td>-1.118</td>\n",
       "      <td>-1.050</td>\n",
       "      <td>-0.428</td>\n",
       "      <td>0.217</td>\n",
       "      <td>0.205</td>\n",
       "      <td>0.142</td>\n",
       "      <td>0.380</td>\n",
       "      <td>-1.302</td>\n",
       "      <td>-1.215</td>\n",
       "      <td>-1.266</td>\n",
       "      <td>-0.497</td>\n",
       "      <td>-0.490</td>\n",
       "      <td>-0.428</td>\n",
       "      <td>0.436</td>\n",
       "      <td>0.359</td>\n",
       "      <td>0.235</td>\n",
       "      <td>3.161</td>\n",
       "      <td>-0.816</td>\n",
       "      <td>-0.586</td>\n",
       "      <td>-0.537</td>\n",
       "      <td>-0.471</td>\n",
       "      <td>-0.464</td>\n",
       "      <td>-0.515</td>\n",
       "      <td>-0.427</td>\n",
       "      <td>-0.334</td>\n",
       "      <td>4.267</td>\n",
       "      <td>-0.185</td>\n",
       "      <td>-0.565</td>\n",
       "      <td>2.206</td>\n",
       "      <td>-0.423</td>\n",
       "      <td>-0.542</td>\n",
       "      <td>-0.27</td>\n",
       "      <td>-0.322</td>\n",
       "    </tr>\n",
       "  </tbody>\n",
       "</table>\n",
       "</div>"
      ],
      "text/plain": [
       "   carat  depth  table      x      y      z  carat depth  carat table  \\\n",
       "n                                                                       \n",
       "1 -1.198 -0.174 -1.100 -1.588 -1.536 -1.571        0.166        1.127   \n",
       "2 -1.240 -1.361  1.586 -1.641 -1.659 -1.741        1.526       -2.131   \n",
       "3 -1.198 -3.385  3.376 -1.499 -1.457 -1.741        3.703       -4.192   \n",
       "4 -1.072  0.454  0.243 -1.365 -1.317 -1.288       -0.473       -0.438   \n",
       "5 -1.029  1.082  0.243 -1.240 -1.212 -1.118       -1.050       -0.428   \n",
       "\n",
       "   carat x  carat y  carat z  depth table  depth x  depth y  depth z  table x  \\\n",
       "n                                                                               \n",
       "1    0.667    0.617    0.670        0.332    0.298    0.281    0.173    1.553   \n",
       "2    0.763    0.767    0.870       -1.267    2.233    2.166    2.206   -2.801   \n",
       "3    0.590    0.551    0.817       -7.577    5.040    4.702    5.626   -5.261   \n",
       "4    0.351    0.319    0.308        0.276   -0.588   -0.539   -0.659   -0.528   \n",
       "5    0.217    0.205    0.142        0.380   -1.302   -1.215   -1.266   -0.497   \n",
       "\n",
       "   table y  table z    x y    x z    y z  cut_Good  cut_Ideal  cut_Premium  \\\n",
       "n                                                                            \n",
       "1    1.542    1.596  1.207  1.316  0.852    -0.316      1.226       -0.586   \n",
       "2   -2.881   -2.947  1.441  1.629  1.129    -0.316     -0.816        1.706   \n",
       "3   -5.225   -6.101  0.997  1.415  0.925     3.161     -0.816       -0.586   \n",
       "4   -0.516   -0.469  0.679  0.679  0.434    -0.316     -0.816        1.706   \n",
       "5   -0.490   -0.428  0.436  0.359  0.235     3.161     -0.816       -0.586   \n",
       "\n",
       "   cut_Very Good  color_E  color_F  color_G  color_H  color_I  color_J  \\\n",
       "n                                                                        \n",
       "1         -0.537    2.123   -0.464   -0.515   -0.427   -0.334   -0.234   \n",
       "2         -0.537    2.123   -0.464   -0.515   -0.427   -0.334   -0.234   \n",
       "3         -0.537    2.123   -0.464   -0.515   -0.427   -0.334   -0.234   \n",
       "4         -0.537   -0.471   -0.464   -0.515   -0.427    2.991   -0.234   \n",
       "5         -0.537   -0.471   -0.464   -0.515   -0.427   -0.334    4.267   \n",
       "\n",
       "   clarity_IF  clarity_SI1  clarity_SI2  clarity_VS1  clarity_VS2  \\\n",
       "n                                                                   \n",
       "1      -0.185       -0.565        2.206       -0.423       -0.542   \n",
       "2      -0.185        1.769       -0.453       -0.423       -0.542   \n",
       "3      -0.185       -0.565       -0.453        2.367       -0.542   \n",
       "4      -0.185       -0.565       -0.453       -0.423        1.844   \n",
       "5      -0.185       -0.565        2.206       -0.423       -0.542   \n",
       "\n",
       "   clarity_VVS1  clarity_VVS2  \n",
       "n                              \n",
       "1         -0.27        -0.322  \n",
       "2         -0.27        -0.322  \n",
       "3         -0.27        -0.322  \n",
       "4         -0.27        -0.322  \n",
       "5         -0.27        -0.322  "
      ]
     },
     "execution_count": 200,
     "metadata": {},
     "output_type": "execute_result"
    }
   ],
   "source": [
    "X = X_num_poly.join(X_cat_dummy)\n",
    "X = (X - X.mean()) / X.std()\n",
    "X.head()"
   ]
  },
  {
   "cell_type": "markdown",
   "metadata": {},
   "source": [
    "## Scikit-learn (1.4) Frequency and Collinearity"
   ]
  },
  {
   "cell_type": "code",
   "execution_count": 201,
   "metadata": {},
   "outputs": [
    {
     "data": {
      "text/plain": [
       "carat           0.952\n",
       "depth           0.958\n",
       "table           0.817\n",
       "x               0.992\n",
       "y               0.992\n",
       "                ...  \n",
       "clarity_SI2     0.170\n",
       "clarity_VS1     0.151\n",
       "clarity_VS2     0.227\n",
       "clarity_VVS1    0.068\n",
       "clarity_VVS2    0.094\n",
       "Length: 38, dtype: float64"
      ]
     },
     "execution_count": 201,
     "metadata": {},
     "output_type": "execute_result"
    }
   ],
   "source": [
    "# We use the values besides most frequent and NA to check frequency\n",
    "S_freq = X.apply(lambda x: pd.value_counts(x).iloc[1:].sum() / x.shape[0])\n",
    "S_freq"
   ]
  },
  {
   "cell_type": "code",
   "execution_count": 202,
   "metadata": {},
   "outputs": [
    {
     "data": {
      "text/plain": [
       "(53940, 38)"
      ]
     },
     "execution_count": 202,
     "metadata": {},
     "output_type": "execute_result"
    }
   ],
   "source": [
    "# Remove sparse variables\n",
    "X = X.loc[:, S_freq > 0.01]\n",
    "X.shape"
   ]
  },
  {
   "cell_type": "code",
   "execution_count": 203,
   "metadata": {},
   "outputs": [
    {
     "data": {
      "text/plain": [
       "array([[ 0.   ,  0.   ,  0.   , ...,  0.   ,  0.   ,  0.   ],\n",
       "       [ 0.028,  0.   ,  0.   , ...,  0.   ,  0.   ,  0.   ],\n",
       "       [ 0.182, -0.296,  0.   , ...,  0.   ,  0.   ,  0.   ],\n",
       "       ..., \n",
       "       [-0.039, -0.009, -0.01 , ...,  0.   ,  0.   ,  0.   ],\n",
       "       [-0.168, -0.023, -0.069, ..., -0.146,  0.   ,  0.   ],\n",
       "       [-0.137, -0.019, -0.062, ..., -0.175, -0.087,  0.   ]])"
      ]
     },
     "execution_count": 203,
     "metadata": {},
     "output_type": "execute_result"
    }
   ],
   "source": [
    "# Create a triangle correlation matrix to detect collinearity\n",
    "R = np.tril(np.corrcoef(X, rowvar=0), k=-1)\n",
    "R"
   ]
  },
  {
   "cell_type": "code",
   "execution_count": 204,
   "metadata": {},
   "outputs": [
    {
     "data": {
      "text/plain": [
       "Index(['x', 'y', 'z', 'carat z', 'depth x', 'table x', 'table y', 'table z'], dtype='object')"
      ]
     },
     "execution_count": 204,
     "metadata": {},
     "output_type": "execute_result"
    }
   ],
   "source": [
    "# Find last collinearity variables\n",
    "X.columns[(np.abs(R) > 0.95).any(axis=1)]"
   ]
  },
  {
   "cell_type": "code",
   "execution_count": 205,
   "metadata": {},
   "outputs": [
    {
     "data": {
      "text/plain": [
       "Index(['carat', 'x', 'y', 'carat depth', 'carat table', 'carat x', 'table x'], dtype='object')"
      ]
     },
     "execution_count": 205,
     "metadata": {},
     "output_type": "execute_result"
    }
   ],
   "source": [
    "# Find first collinearity variables\n",
    "X.columns[(np.abs(R) > 0.95).any(axis=0)]"
   ]
  },
  {
   "cell_type": "code",
   "execution_count": 206,
   "metadata": {},
   "outputs": [
    {
     "data": {
      "text/plain": [
       "(53940, 30)"
      ]
     },
     "execution_count": 206,
     "metadata": {},
     "output_type": "execute_result"
    }
   ],
   "source": [
    "# Remove collinearity variables\n",
    "X = X.loc[:, ~(np.abs(R) > 0.95).any(axis=1)]\n",
    "X.shape"
   ]
  },
  {
   "cell_type": "markdown",
   "metadata": {
    "slideshow": {
     "slide_type": "subslide"
    }
   },
   "source": [
    "## Scikit-learn (2.1): Machine Learning Theory\n",
    "- Question of Machine Learning: given data $(X, Y)$, how to predict $Y$ with $X$?\n",
    "    - LM: $\\hat{Y} = X\\beta$\n",
    "    - GLM: $\\hat{Y} = g^{-1}(X\\beta)$\n",
    "    - Generally, $\\hat{Y} = f(X, \\theta)$, model family $f$ and parameter $\\theta$ can be complex\n",
    "- Compare *statistical modeling* with *machine learning*:\n",
    "    - Schools: mathematics vs. computer science\n",
    "    - Focus: statistical inference vs. prediction effectiveness\n",
    "    - Methods: formula-based vs. algorithm-based\n",
    "    - Assumptions: strict vs. weak\n",
    "    \n",
    "    \n",
    "Reference: [Difference between Machine Learning & Statistical Modeling, Tavish Srivastava](https://www.analyticsvidhya.com/blog/2015/07/difference-machine-learning-statistical-modeling/)"
   ]
  },
  {
   "cell_type": "markdown",
   "metadata": {
    "slideshow": {
     "slide_type": "subslide"
    }
   },
   "source": [
    "## Scikit-learn (2.2):  Machine Learning Theory: Loss Function"
   ]
  },
  {
   "cell_type": "markdown",
   "metadata": {},
   "source": [
    "- Q1: Two models predict $Y$ with $\\hat{Y}_1 = f_1(X, \\theta_1)$, $\\hat{Y}_2 = f_2(X, \\theta_2)$\n",
    "    - Which model is better for prediction? How to decide?\n",
    "- Loss function $L(Y, \\hat{Y})$: measure the error between true and predicted values, the smaller the better\n",
    "    - Sum of squared errors (L2 dist): $L(Y, \\hat{Y}) = \\sum_{i=1}^n(y_i - \\hat{y}_i)^2$\n",
    "    - Sum of absolute errors (L1 dist): $L(Y, \\hat{Y}) = \\sum_{i=1}^n|y_i - \\hat{y}_i|$\n",
    "    - Misclassification errors (L0 dist): $L(Y, \\hat{Y}) = \\sum_{i=1}^n1(y_i \\neq \\hat{y}_i)$\n",
    "    - Log loss for binary: $L(Y, \\hat{Y}) = -\\sum_{i=1}^n\\left(y_i\\log(\\hat{y}_i)+(1-y_i)\\log(1-\\hat{y}_i)\\right)$"
   ]
  },
  {
   "cell_type": "code",
   "execution_count": 207,
   "metadata": {
    "collapsed": true,
    "slideshow": {
     "slide_type": "fragment"
    }
   },
   "outputs": [],
   "source": [
    "y = np.array([0, 0, 1, 1, 1])\n",
    "yhat1 = np.array([0.2, 0.3, 0.6, 0.7, 0.6])\n",
    "yhat2 = np.array([0.1, 0.1, 0.9, 0.8, 0.3])"
   ]
  },
  {
   "cell_type": "code",
   "execution_count": 208,
   "metadata": {
    "collapsed": false
   },
   "outputs": [
    {
     "name": "stdout",
     "output_type": "stream",
     "text": [
      "0.108 0.112\n",
      "0.32 0.24\n",
      "0.0 0.2\n",
      "0.391628937345 0.348639580523\n"
     ]
    }
   ],
   "source": [
    "from sklearn import metrics\n",
    "print(metrics.mean_squared_error(y, yhat1), metrics.mean_squared_error(y, yhat2))\n",
    "print(metrics.mean_absolute_error(y, yhat1), metrics.mean_absolute_error(y, yhat2))\n",
    "print(metrics.zero_one_loss(y, yhat1 > 0.5), metrics.zero_one_loss(y, yhat2 > 0.5))\n",
    "print(metrics.log_loss(y, yhat1), metrics.log_loss(y, yhat2))"
   ]
  },
  {
   "cell_type": "markdown",
   "metadata": {
    "slideshow": {
     "slide_type": "subslide"
    }
   },
   "source": [
    "## Scikit-learn (2.3): Machine Learning Theory: Training-Validation Sets\n",
    "- Q2: How can we know the effectiveness of prediction on data outside sample?\n",
    "- Assumption: Sample are selected from population randomly\n",
    "- Method: Divide our sample randomly into 2 parts: training set and validation set\n",
    "    - Training Set $(X_T, Y_T)$: fitting model $\\hat{\\theta} = \\min_{\\theta\\in\\Theta_f}\\left[L(Y_T, \\hat{Y}_T) + \\lambda P(\\theta)\\right]$\n",
    "    - Validation Set $(X_V, Y_V)$: estimating prediction error $L(Y_V, \\hat{Y}_V)$ from trained $\\hat{\\theta}$"
   ]
  },
  {
   "cell_type": "code",
   "execution_count": 209,
   "metadata": {
    "collapsed": false,
    "slideshow": {
     "slide_type": "fragment"
    }
   },
   "outputs": [
    {
     "data": {
      "text/plain": [
       "Int64Index([ 4235, 43628, 15061, 21764, 48000,  1633, 40517, 33546, 18197,\n",
       "            42314,\n",
       "            ...\n",
       "            38042,  7496, 52841, 14709, 45641, 30070, 48503, 18090, 24104,\n",
       "            41809],\n",
       "           dtype='int64', name='n', length=10000)"
      ]
     },
     "execution_count": 209,
     "metadata": {},
     "output_type": "execute_result"
    }
   ],
   "source": [
    "# Randomly choose 5000 from index as validation set\n",
    "np.random.seed(1)\n",
    "ir_v = ir_lab[np.random.choice(len(ir_lab), 10000, replace=False)]\n",
    "ir_v"
   ]
  },
  {
   "cell_type": "code",
   "execution_count": 210,
   "metadata": {
    "collapsed": false
   },
   "outputs": [
    {
     "data": {
      "text/plain": [
       "Int64Index([    2,     4,     9,    10,    11,    12,    14,    17,    22,\n",
       "               25,\n",
       "            ...\n",
       "            53923, 53926, 53928, 53929, 53931, 53932, 53933, 53935, 53936,\n",
       "            53937],\n",
       "           dtype='int64', name='n', length=29708)"
      ]
     },
     "execution_count": 210,
     "metadata": {},
     "output_type": "execute_result"
    }
   ],
   "source": [
    "# Use other labeled index as training set\n",
    "ir_t = ir_lab.difference(ir_v) \n",
    "ir_t"
   ]
  },
  {
   "cell_type": "markdown",
   "metadata": {
    "slideshow": {
     "slide_type": "subslide"
    }
   },
   "source": [
    "## Scikit-learn (2.4): Machine Learning Theory: Cross Validation\n",
    "- Q4: How about the unused validation set?\n",
    "- Cross-validation (CV): \n",
    "    1. Divide data $(X, Y)$ into $K$ parts $(X_{(1)}, Y_{(1)}), \\cdots, (X_{(K)}, Y_{(K)})$\n",
    "    2. Each time $i$, select $(X_{(i)}, Y_{(i)})$ as validation set, leaving other parts as training set, train a model and calculate the validation error.\n",
    "    3. For $i = 1,2,\\cdots K$, repeat step 2 and get $K$ models and $K$ validation errors, use mean validation errors to estimate the prediction of model\n",
    "    4. For prediction of new data $X_{new}$, use the $K$ trained models to predict $\\hat{Y}_{new(1)}, \\cdots, \\hat{Y}_{new(K)}$, and calculate the mean $\\hat{Y}_{new}$ as final prediction"
   ]
  },
  {
   "cell_type": "code",
   "execution_count": 211,
   "metadata": {
    "collapsed": false,
    "slideshow": {
     "slide_type": "fragment"
    }
   },
   "outputs": [
    {
     "name": "stdout",
     "output_type": "stream",
     "text": [
      "7942 [14673 10420 11790 ..., 48024 23835 18769]\n",
      "7942 [20486  5161 46840 ..., 28921 18522 10678]\n",
      "7942 [20494 36719 12989 ..., 37943 52551 45799]\n",
      "7941 [49427 13106 17213 ..., 41469 19461 48675]\n",
      "7941 [43461 29647  7927 ..., 24176 38142 21401]\n"
     ]
    }
   ],
   "source": [
    "# Randomly split index equally into k = 5 folds\n",
    "np.random.seed(123)\n",
    "cvfold = np.array_split(np.random.permutation(ir_lab), 5)\n",
    "for ir_v in cvfold:\n",
    "    print(len(ir_v), ir_v)"
   ]
  },
  {
   "cell_type": "code",
   "execution_count": 212,
   "metadata": {
    "collapsed": false
   },
   "outputs": [
    {
     "data": {
      "text/plain": [
       "((7942,), (31766,))"
      ]
     },
     "execution_count": 212,
     "metadata": {},
     "output_type": "execute_result"
    }
   ],
   "source": [
    "# select fold 0 as validation set, leaving others as training set\n",
    "ir_v = cvfold[0]\n",
    "ir_t = np.concatenate(np.delete(cvfold, 0))\n",
    "ir_v.shape, ir_t.shape"
   ]
  },
  {
   "cell_type": "markdown",
   "metadata": {
    "slideshow": {
     "slide_type": "subslide"
    }
   },
   "source": [
    "## Scikit-learn (3): An Example for CV Training: Linear Regression"
   ]
  },
  {
   "cell_type": "markdown",
   "metadata": {},
   "source": [
    "- We will show how to compile cross-validation procedures with scikit-learn models\n",
    "- In the next, we will build an extendable machine learning system step by step"
   ]
  },
  {
   "cell_type": "markdown",
   "metadata": {
    "slideshow": {
     "slide_type": "subslide"
    }
   },
   "source": [
    "## Scikit-learn (3.1): Single Model Training\n",
    "\n",
    "Commonly-used procedure for scikit-learn models:\n",
    "1. create a sklearn model with initiation parameters: `model = MODEL_FUNCTION(...)` \n",
    "2. Fit model with training data: `model.fit(X, Y)`\n",
    "3. Transform/predict validation data with same columns: `model.transform(X_new)`, or `model.predict(X_new)`\n",
    "4. Check important model attributes (coefficients of model, feature importance, ...)\n",
    "5. Evaluate the loss of prediction on validation set"
   ]
  },
  {
   "cell_type": "code",
   "execution_count": 213,
   "metadata": {
    "collapsed": false
   },
   "outputs": [
    {
     "data": {
      "text/plain": [
       "((31766, 30), (7942, 30), (31766,), (7942,))"
      ]
     },
     "execution_count": 213,
     "metadata": {},
     "output_type": "execute_result"
    }
   ],
   "source": [
    "# Split X and Y with training-validation index\n",
    "X_t = X.loc[ir_t]\n",
    "X_v = X.loc[ir_v]\n",
    "Y_t = Y.loc[ir_t]\n",
    "Y_v = Y.loc[ir_v]\n",
    "X_t.shape, X_v.shape, Y_t.shape, Y_v.shape"
   ]
  },
  {
   "cell_type": "code",
   "execution_count": 214,
   "metadata": {
    "collapsed": false
   },
   "outputs": [
    {
     "data": {
      "text/plain": [
       "LinearRegression(copy_X=True, fit_intercept=True, n_jobs=1, normalize=False)"
      ]
     },
     "execution_count": 214,
     "metadata": {},
     "output_type": "execute_result"
    }
   ],
   "source": [
    "# Train a linear model in scikit-learn\n",
    "from sklearn import linear_model\n",
    "model_lm = linear_model.LinearRegression()\n",
    "model_lm.fit(X_t, Y_t)"
   ]
  },
  {
   "cell_type": "code",
   "execution_count": 215,
   "metadata": {
    "collapsed": false
   },
   "outputs": [
    {
     "data": {
      "text/plain": [
       "array([  4.061e+03,   3.947e-01,  -2.135e+01,  -1.455e+02,  -1.208e+02,\n",
       "        -1.623e+03,   1.530e+03,   1.039e+01,   2.596e+02,  -1.813e+02,\n",
       "         8.355e+02,   3.791e+02,  -9.727e+02,   6.111e+01,   2.261e+02,\n",
       "         1.411e+02,   1.412e+02,  -7.363e+01,  -9.083e+01,  -1.902e+02,\n",
       "        -3.503e+02,  -4.466e+02,  -5.144e+02,   9.231e+02,   1.499e+03,\n",
       "         9.615e+02,   1.576e+03,   1.710e+03,   1.218e+03,   1.387e+03])"
      ]
     },
     "execution_count": 215,
     "metadata": {},
     "output_type": "execute_result"
    }
   ],
   "source": [
    "# Coefficients of the model\n",
    "model_lm.coef_"
   ]
  },
  {
   "cell_type": "code",
   "execution_count": 216,
   "metadata": {
    "collapsed": false
   },
   "outputs": [
    {
     "data": {
      "text/plain": [
       "array([ 6384.359,  4841.293,  5646.837, ...,  2334.886,  8499.037,\n",
       "        6406.842])"
      ]
     },
     "execution_count": 216,
     "metadata": {},
     "output_type": "execute_result"
    }
   ],
   "source": [
    "# Prediction on traing-validation set\n",
    "Yhat_t = model_lm.predict(X_t)\n",
    "Yhat_v = model_lm.predict(X_v)\n",
    "Yhat_v"
   ]
  },
  {
   "cell_type": "code",
   "execution_count": 217,
   "metadata": {
    "collapsed": false
   },
   "outputs": [
    {
     "name": "stdout",
     "output_type": "stream",
     "text": [
      "1195453.11865 1124230.24602\n"
     ]
    }
   ],
   "source": [
    "# Measure the training-validation loss\n",
    "print(metrics.mean_squared_error(Y_t, Yhat_t), metrics.mean_squared_error(Y_v, Yhat_v))"
   ]
  },
  {
   "cell_type": "markdown",
   "metadata": {
    "slideshow": {
     "slide_type": "subslide"
    }
   },
   "source": [
    "## Scikit-learn (3.2): Cross-Validation"
   ]
  },
  {
   "cell_type": "code",
   "execution_count": 218,
   "metadata": {},
   "outputs": [],
   "source": [
    "import time"
   ]
  },
  {
   "cell_type": "code",
   "execution_count": 219,
   "metadata": {},
   "outputs": [
    {
     "name": "stdout",
     "output_type": "stream",
     "text": [
      "CV fold: 0 / 5, training / validation sample: 31766 / 7942\n",
      "    Model: LinearRegression, training / validation loss of 1195453.1187 / 1124230.2460, time: 0.02s\n",
      "CV fold: 1 / 5, training / validation sample: 31766 / 7942\n",
      "    Model: LinearRegression, training / validation loss of 1173425.1747 / 1216519.3269, time: 0.02s\n",
      "CV fold: 2 / 5, training / validation sample: 31766 / 7942\n",
      "    Model: LinearRegression, training / validation loss of 1151868.3602 / 31732262.8501, time: 0.02s\n",
      "CV fold: 3 / 5, training / validation sample: 31767 / 7941\n",
      "    Model: LinearRegression, training / validation loss of 1153809.0552 / 2033567.7364, time: 0.02s\n",
      "CV fold: 4 / 5, training / validation sample: 31767 / 7941\n",
      "    Model: LinearRegression, training / validation loss of 1162905.5278 / 1263047.8782, time: 0.02s\n"
     ]
    }
   ],
   "source": [
    "model_L = []\n",
    "for i_cv, ir_v in enumerate(cvfold):\n",
    "    ir_t = np.concatenate(np.delete(cvfold, i_cv))\n",
    "    print(\"CV fold: {} / {}, training / validation sample: {} / {}\".format(i_cv, len(cvfold), len(ir_t), len(ir_v)))\n",
    "    X_t, X_v = X.loc[ir_t], X.loc[ir_v]\n",
    "    Y_t, Y_v = Y.loc[ir_t], Y.loc[ir_v]\n",
    "    time_start = time.time()\n",
    "    model = linear_model.LinearRegression()\n",
    "    model.fit(X_t, Y_t)\n",
    "    Yhat_t = model.predict(X_t)\n",
    "    Yhat_v = model.predict(X_v)\n",
    "    loss_t = metrics.mean_squared_error(Y_t, Yhat_t)\n",
    "    loss_v = metrics.mean_squared_error(Y_v, Yhat_v)\n",
    "    print(\"    Model: {}, training / validation loss of {:.4f} / {:.4f}, time: {:.2f}s\".format(\n",
    "        model.__class__.__name__, loss_t, loss_v, time.time() - time_start))\n",
    "    model_L.append(model)"
   ]
  },
  {
   "cell_type": "markdown",
   "metadata": {
    "slideshow": {
     "slide_type": "subslide"
    }
   },
   "source": [
    "## Scikit-learn (3.3): Cross-Validation Prediction"
   ]
  },
  {
   "cell_type": "code",
   "execution_count": 220,
   "metadata": {},
   "outputs": [
    {
     "data": {
      "text/plain": [
       "((14232,), (14232, 30))"
      ]
     },
     "execution_count": 220,
     "metadata": {},
     "output_type": "execute_result"
    }
   ],
   "source": [
    "# Prepare the prediction dataset\n",
    "Y_test = da_true.loc[ir_unlab, \"price\"]\n",
    "X_test = X.loc[ir_unlab]\n",
    "Y_test.shape, X_test.shape"
   ]
  },
  {
   "cell_type": "code",
   "execution_count": 221,
   "metadata": {},
   "outputs": [
    {
     "name": "stdout",
     "output_type": "stream",
     "text": [
      "CV fold: 0 / 5, Model: LinearRegression, test loss: 1433637.9177\n",
      "CV fold: 1 / 5, Model: LinearRegression, test loss: 1396212.3983\n",
      "CV fold: 2 / 5, Model: LinearRegression, test loss: 1272658.1702\n",
      "CV fold: 3 / 5, Model: LinearRegression, test loss: 3951809.6878\n",
      "CV fold: 4 / 5, Model: LinearRegression, test loss: 1443855.5761\n"
     ]
    }
   ],
   "source": [
    "Yhat_test_L = []\n",
    "for i, model in enumerate(model_L):\n",
    "    Yhat_test = model.predict(X_test)\n",
    "    loss_test = metrics.mean_squared_error(Y_test, Yhat_test)\n",
    "    print(\"CV fold: {} / {}, Model: {}, test loss: {:.4f}\".format(i, len(model_L), model.__class__.__name__, loss_test))\n",
    "    Yhat_test_L.append(Yhat_test)"
   ]
  },
  {
   "cell_type": "code",
   "execution_count": 222,
   "metadata": {},
   "outputs": [
    {
     "data": {
      "text/plain": [
       "1622698.9956051891"
      ]
     },
     "execution_count": 222,
     "metadata": {},
     "output_type": "execute_result"
    }
   ],
   "source": [
    "# Mean CV model\n",
    "metrics.mean_squared_error(Y_test, np.mean(Yhat_test_L, axis=0))"
   ]
  },
  {
   "cell_type": "code",
   "execution_count": 223,
   "metadata": {},
   "outputs": [
    {
     "data": {
      "text/plain": [
       "1438273.0358240714"
      ]
     },
     "execution_count": 223,
     "metadata": {},
     "output_type": "execute_result"
    }
   ],
   "source": [
    "# Full sample model\n",
    "model_lm = linear_model.LinearRegression()\n",
    "model_lm.fit(X.loc[ir_lab], Y.loc[ir_lab])\n",
    "Yhat_test = model_lm.predict(X_test)\n",
    "metrics.mean_squared_error(Y_test, Yhat_test)"
   ]
  },
  {
   "cell_type": "markdown",
   "metadata": {
    "slideshow": {
     "slide_type": "subslide"
    }
   },
   "source": [
    "## Scikit-learn (4.1): Over-Fitting and Penalty Function"
   ]
  },
  {
   "cell_type": "markdown",
   "metadata": {},
   "source": [
    "- To train a machine learning model, when we only $\\min_{\\theta\\in\\Theta_f}L(Y, \\hat{Y})$:\n",
    "\n",
    "- An extremely complex model may always be \"better\" in training set (over-fitting)\n",
    "    - Fit 10,000-order polynomials on $Y$ of sample-size 10,000\n",
    "    - A too complex model may not be true for population out of sample\n",
    "    - A too complex model may be unstable\n",
    "    \n",
    "- Method: find a simpler model $\\hat{\\theta}$ by $\\min_{\\theta\\in\\Theta_f}\\left[L(Y, \\hat{Y}) + \\lambda P(\\theta)\\right]$\n",
    "    - Loss function $L(Y, \\hat{Y})$: control the errors of fitting\n",
    "    - Penalty function $P(\\theta)$: measure the complexity of model\n",
    "        - Ridge (L2 dist): $P(\\beta) = \\sum_{i=1}^p\\beta_i^2$\n",
    "        - Lasso (L1 dist): $P(\\beta) = \\sum_{i=1}^p|\\beta_i|$\n",
    "        - AIC/BIC (L0 dist): $P(\\beta) = \\sum_{i=1}^p1(\\beta_i\\neq 0)$\n",
    "    - Penalty coefficient $\\lambda$: greater $\\lambda \\rightarrow$ simpler model"
   ]
  },
  {
   "cell_type": "code",
   "execution_count": 224,
   "metadata": {
    "collapsed": false,
    "scrolled": true,
    "slideshow": {
     "slide_type": "fragment"
    }
   },
   "outputs": [
    {
     "data": {
      "text/plain": [
       "<matplotlib.axes._subplots.AxesSubplot at 0x1a335ea160>"
      ]
     },
     "execution_count": 224,
     "metadata": {},
     "output_type": "execute_result"
    },
    {
     "data": {
      "image/png": "[encoded data removed]",
      "text/plain": [
       "<Figure size 864x648 with 1 Axes>"
      ]
     },
     "metadata": {},
     "output_type": "display_data"
    }
   ],
   "source": [
    "path_lasso = linear_model.lasso_path(X_t, Y_t)\n",
    "pd.DataFrame(path_lasso[1].T, index=path_lasso[0], columns=X.columns).plot(figsize=[12, 9], grid=True)"
   ]
  },
  {
   "cell_type": "code",
   "execution_count": 232,
   "metadata": {},
   "outputs": [
    {
     "name": "stdout",
     "output_type": "stream",
     "text": [
      "1225151.28373 1317950.28495\n"
     ]
    }
   ],
   "source": [
    "model_lasso = linear_model.Lasso(alpha=10)\n",
    "model_lasso.fit(X_t, Y_t)\n",
    "Yhat_t = model_lasso.predict(X_t)\n",
    "Yhat_v = model_lasso.predict(X_v)\n",
    "print(metrics.mean_squared_error(Y_t, Yhat_t), metrics.mean_squared_error(Y_v, Yhat_v))"
   ]
  },
  {
   "cell_type": "code",
   "execution_count": 233,
   "metadata": {},
   "outputs": [
    {
     "data": {
      "text/plain": [
       "array([ 3979.436,   -30.838,   -25.764,  -237.711,  -128.402,    -0.   ,\n",
       "          -0.   ,     9.816,   254.369,  -168.253,   267.921,   145.786,\n",
       "          -0.   ,    -0.   ,    94.485,    11.102,    31.61 ,    -0.   ,\n",
       "         -25.547,  -106.927,  -277.806,  -377.141,  -464.002,   584.63 ,\n",
       "         739.905,   294.953,   929.289,   963.859,   751.172,   856.191])"
      ]
     },
     "execution_count": 233,
     "metadata": {},
     "output_type": "execute_result"
    }
   ],
   "source": [
    "model_lasso.coef_"
   ]
  },
  {
   "cell_type": "code",
   "execution_count": 234,
   "metadata": {},
   "outputs": [
    {
     "name": "stdout",
     "output_type": "stream",
     "text": [
      "1215760.98406 1315151.52614\n"
     ]
    }
   ],
   "source": [
    "model_ridge = linear_model.Ridge(alpha=400)\n",
    "model_ridge.fit(X_t, Y_t)\n",
    "Yhat_t = model_ridge.predict(X_t)\n",
    "Yhat_v = model_ridge.predict(X_v)\n",
    "print(metrics.mean_squared_error(Y_t, Yhat_t), metrics.mean_squared_error(Y_v, Yhat_v))"
   ]
  },
  {
   "cell_type": "code",
   "execution_count": 235,
   "metadata": {},
   "outputs": [
    {
     "data": {
      "text/plain": [
       "array([ 3925.144,   -21.855,   -21.84 ,  -284.757,  -133.916,  -133.955,\n",
       "          68.884,    11.211,   286.392,  -133.661,   439.727,   155.661,\n",
       "        -105.376,    80.591,   243.671,   148.562,   161.514,   -51.936,\n",
       "         -72.097,  -154.215,  -317.344,  -407.241,  -484.052,   581.679,\n",
       "         744.928,   314.009,   927.283,   960.895,   742.388,   848.527])"
      ]
     },
     "execution_count": 235,
     "metadata": {},
     "output_type": "execute_result"
    }
   ],
   "source": [
    "model_ridge.coef_"
   ]
  },
  {
   "cell_type": "code",
   "execution_count": 236,
   "metadata": {},
   "outputs": [
    {
     "name": "stdout",
     "output_type": "stream",
     "text": [
      "L1 / L2 beta of Lasso 11756.92 / 20619685.92\n",
      "L1 / L2 beta of Ridge: 12963.31 / 20550867.99\n",
      "L1 / L2 beta of linear reg: 21922.19 / 37426258.89\n"
     ]
    }
   ],
   "source": [
    "print(\"L1 / L2 beta of Lasso {:.2f} / {:.2f}\".format(np.abs(model_lasso.coef_).sum(), (model_lasso.coef_ ** 2).sum()))\n",
    "print(\"L1 / L2 beta of Ridge: {:.2f} / {:.2f}\".format(np.abs(model_ridge.coef_).sum(), (model_ridge.coef_ ** 2).sum()))\n",
    "print(\"L1 / L2 beta of linear reg: {:.2f} / {:.2f}\".format(np.abs(model_lm.coef_).sum(), (model_lm.coef_ ** 2).sum()))"
   ]
  },
  {
   "cell_type": "code",
   "execution_count": 237,
   "metadata": {},
   "outputs": [],
   "source": [
    "def cv_train(X, Y, cvfold, f_model=linear_model.LinearRegression, f_loss=metrics.mean_squared_error, **kwargs):\n",
    "    model_L = []\n",
    "    for i_cv, ir_v in enumerate(cvfold):\n",
    "        ir_t = np.concatenate(np.delete(cvfold, i_cv))\n",
    "        print(\"CV fold: {} / {}, training / validation sample: {} / {}\".format(i_cv, len(cvfold), len(ir_t), len(ir_v)))\n",
    "        X_t, X_v = X.loc[ir_t], X.loc[ir_v]\n",
    "        Y_t, Y_v = Y.loc[ir_t], Y.loc[ir_v]\n",
    "        time_start = time.time()\n",
    "        model = f_model(**kwargs)\n",
    "        model.fit(X_t, Y_t)\n",
    "        Yhat_t = model.predict(X_t)\n",
    "        Yhat_v = model.predict(X_v)\n",
    "        loss_t = f_loss(Y_t, Yhat_t)\n",
    "        loss_v = f_loss(Y_v, Yhat_v)\n",
    "        print(\"    Model: {}, training / validation loss of {:.4f} / {:.4f}, time: {:.2f}s\".format(\n",
    "            model.__class__.__name__, loss_t, loss_v, time.time() - time_start))\n",
    "        model_L.append(model)\n",
    "    return(model_L)"
   ]
  },
  {
   "cell_type": "code",
   "execution_count": 240,
   "metadata": {
    "collapsed": false,
    "slideshow": {
     "slide_type": "fragment"
    }
   },
   "outputs": [
    {
     "name": "stdout",
     "output_type": "stream",
     "text": [
      "CV fold: 0 / 5, training / validation sample: 31766 / 7942\n",
      "    Model: Lasso, training / validation loss of 1257281.4516 / 1178116.6709, time: 0.17s\n",
      "CV fold: 1 / 5, training / validation sample: 31766 / 7942\n",
      "    Model: Lasso, training / validation loss of 1232800.9340 / 1301651.6815, time: 0.17s\n",
      "CV fold: 2 / 5, training / validation sample: 31766 / 7942\n",
      "    Model: Lasso, training / validation loss of 1236627.0369 / 1672570.5187, time: 0.11s\n",
      "CV fold: 3 / 5, training / validation sample: 31767 / 7941\n",
      "    Model: Lasso, training / validation loss of 1246959.6684 / 1202646.0025, time: 0.15s\n",
      "CV fold: 4 / 5, training / validation sample: 31767 / 7941\n",
      "    Model: Lasso, training / validation loss of 1225151.2837 / 1317950.2849, time: 0.13s\n"
     ]
    }
   ],
   "source": [
    "model_L_lasso = cv_train(X, Y, cvfold, f_model=linear_model.Lasso, alpha=10)"
   ]
  },
  {
   "cell_type": "code",
   "execution_count": 239,
   "metadata": {},
   "outputs": [
    {
     "name": "stdout",
     "output_type": "stream",
     "text": [
      "CV fold: 0 / 5, training / validation sample: 31766 / 7942\n",
      "    Model: Ridge, training / validation loss of 1249698.5781 / 1167716.2816, time: 0.02s\n",
      "CV fold: 1 / 5, training / validation sample: 31766 / 7942\n",
      "    Model: Ridge, training / validation loss of 1224873.3657 / 1292738.6774, time: 0.02s\n",
      "CV fold: 2 / 5, training / validation sample: 31766 / 7942\n",
      "    Model: Ridge, training / validation loss of 1225851.1420 / 2323788.9323, time: 0.02s\n",
      "CV fold: 3 / 5, training / validation sample: 31767 / 7941\n",
      "    Model: Ridge, training / validation loss of 1240310.2826 / 1202394.9120, time: 0.02s\n",
      "CV fold: 4 / 5, training / validation sample: 31767 / 7941\n",
      "    Model: Ridge, training / validation loss of 1215760.9841 / 1315151.5261, time: 0.01s\n"
     ]
    }
   ],
   "source": [
    "model_L_ridge = cv_train(X, Y, cvfold, f_model=linear_model.Ridge, alpha=400)"
   ]
  },
  {
   "cell_type": "code",
   "execution_count": 100,
   "metadata": {
    "collapsed": false
   },
   "outputs": [
    {
     "data": {
      "text/plain": [
       "1373436.6828441089"
      ]
     },
     "execution_count": 100,
     "metadata": {},
     "output_type": "execute_result"
    }
   ],
   "source": [
    "model_lasso = linear_model.Lasso(alpha=10)\n",
    "model_lasso.fit(X.loc[ir_lab], Y.loc[ir_lab])\n",
    "Yhat_test = model_lasso.predict(X_test)\n",
    "metrics.mean_squared_error(Y_test, Yhat_test)"
   ]
  },
  {
   "cell_type": "code",
   "execution_count": 241,
   "metadata": {},
   "outputs": [
    {
     "data": {
      "text/plain": [
       "1307695.1192697012"
      ]
     },
     "execution_count": 241,
     "metadata": {},
     "output_type": "execute_result"
    }
   ],
   "source": [
    "model_ridge = linear_model.Ridge(alpha=400)\n",
    "model_ridge.fit(X.loc[ir_lab], Y.loc[ir_lab])\n",
    "Yhat_test = model_ridge.predict(X_test)\n",
    "metrics.mean_squared_error(Y_test, Yhat_test)"
   ]
  },
  {
   "cell_type": "markdown",
   "metadata": {
    "slideshow": {
     "slide_type": "subslide"
    }
   },
   "source": [
    "## Scikit-learn (3.3): Select Penalty Coefficients"
   ]
  },
  {
   "cell_type": "markdown",
   "metadata": {},
   "source": [
    "- How to select best penalty coeffient $\\hat{\\lambda}$, or more generally, best hyperparameters of model?\n",
    "    - Step 1. Try different $\\lambda$ on the model\n",
    "        - Method 1: Build several models with different $\\lambda$\n",
    "        - Method 2: If exists, a stepwise model for $\\lambda$ can save computation time\n",
    "    - Step 2. Calculate CV validation loss, and select the $\\hat{\\lambda}$ minimizing it\n",
    "    - Step 3. If used for variable selection, choose important variables under $\\hat{\\lambda}$"
   ]
  },
  {
   "cell_type": "markdown",
   "metadata": {
    "slideshow": {
     "slide_type": "subslide"
    }
   },
   "source": [
    "## Scikit-learn(4.1): Decision Tree Models\n",
    "- Can we detect non-linear relationship without adding polynomial terms?\n",
    "- Non-linear models: e.g. tree-based methods $\\hat{Y} = Tree(X, \\theta)$"
   ]
  },
  {
   "cell_type": "code",
   "execution_count": 249,
   "metadata": {},
   "outputs": [
    {
     "name": "stdout",
     "output_type": "stream",
     "text": [
      "26.0344067743 775654.118782\n"
     ]
    }
   ],
   "source": [
    "import sklearn.tree as tree\n",
    "model_tree = tree.DecisionTreeRegressor()\n",
    "model_tree.fit(X_t, Y_t)\n",
    "Yhat_t = model_tree.predict(X_t)\n",
    "Yhat_v = model_tree.predict(X_v)\n",
    "print(metrics.mean_squared_error(Y_t, Yhat_t), metrics.mean_squared_error(Y_v, Yhat_v))"
   ]
  },
  {
   "cell_type": "code",
   "execution_count": 253,
   "metadata": {},
   "outputs": [
    {
     "data": {
      "text/plain": [
       "carat           0.644\n",
       "x y             0.220\n",
       "clarity_SI2     0.020\n",
       "carat y         0.014\n",
       "clarity_SI1     0.014\n",
       "y z             0.012\n",
       "color_J         0.012\n",
       "color_I         0.009\n",
       "color_H         0.007\n",
       "clarity_VVS1    0.005\n",
       "dtype: float64"
      ]
     },
     "execution_count": 253,
     "metadata": {},
     "output_type": "execute_result"
    }
   ],
   "source": [
    "pd.Series(model_tree.feature_importances_, X.columns).sort_values(ascending=False).head(10)"
   ]
  },
  {
   "cell_type": "code",
   "execution_count": 242,
   "metadata": {
    "collapsed": false,
    "slideshow": {
     "slide_type": "fragment"
    }
   },
   "outputs": [
    {
     "name": "stdout",
     "output_type": "stream",
     "text": [
      "CV fold: 0 / 5, training / validation sample: 31766 / 7942\n",
      "    Model: DecisionTreeRegressor, training / validation loss of 20.5502 / 724906.2633, time: 0.55s\n",
      "CV fold: 1 / 5, training / validation sample: 31766 / 7942\n",
      "    Model: DecisionTreeRegressor, training / validation loss of 23.3130 / 835967.6493, time: 0.53s\n",
      "CV fold: 2 / 5, training / validation sample: 31766 / 7942\n",
      "    Model: DecisionTreeRegressor, training / validation loss of 32.0173 / 737821.8172, time: 0.54s\n",
      "CV fold: 3 / 5, training / validation sample: 31767 / 7941\n",
      "    Model: DecisionTreeRegressor, training / validation loss of 30.0136 / 860066.0633, time: 0.53s\n",
      "CV fold: 4 / 5, training / validation sample: 31767 / 7941\n",
      "    Model: DecisionTreeRegressor, training / validation loss of 26.0344 / 784917.6993, time: 0.54s\n"
     ]
    }
   ],
   "source": [
    "model_L_tree = cv_train(X, Y, cvfold, tree.DecisionTreeRegressor)"
   ]
  },
  {
   "cell_type": "code",
   "execution_count": 244,
   "metadata": {
    "collapsed": false
   },
   "outputs": [
    {
     "name": "stdout",
     "output_type": "stream",
     "text": [
      "CV fold: 0 / 5, training / validation sample: 31766 / 7942\n",
      "    Model: DecisionTreeRegressor, training / validation loss of 160685.5519 / 663499.0495, time: 0.39s\n",
      "CV fold: 1 / 5, training / validation sample: 31766 / 7942\n",
      "    Model: DecisionTreeRegressor, training / validation loss of 162957.4567 / 740674.4441, time: 0.39s\n",
      "CV fold: 2 / 5, training / validation sample: 31766 / 7942\n",
      "    Model: DecisionTreeRegressor, training / validation loss of 163416.6810 / 694207.7732, time: 0.41s\n",
      "CV fold: 3 / 5, training / validation sample: 31767 / 7941\n",
      "    Model: DecisionTreeRegressor, training / validation loss of 153775.0330 / 842325.5883, time: 0.40s\n",
      "CV fold: 4 / 5, training / validation sample: 31767 / 7941\n",
      "    Model: DecisionTreeRegressor, training / validation loss of 166967.6538 / 709757.2085, time: 0.40s\n"
     ]
    }
   ],
   "source": [
    "# Limit the depth of tree to control model complexity\n",
    "model_L_tree = cv_train(X, Y, cvfold, tree.DecisionTreeRegressor, max_depth=15)"
   ]
  },
  {
   "cell_type": "code",
   "execution_count": 255,
   "metadata": {},
   "outputs": [
    {
     "data": {
      "text/plain": [
       "703881.66034046595"
      ]
     },
     "execution_count": 255,
     "metadata": {},
     "output_type": "execute_result"
    }
   ],
   "source": [
    "model_tree = tree.DecisionTreeRegressor(max_depth=15)\n",
    "model_tree.fit(X.loc[ir_lab], Y.loc[ir_lab])\n",
    "Yhat_test = model_tree.predict(X_test)\n",
    "metrics.mean_squared_error(Y_test, Yhat_test)"
   ]
  },
  {
   "cell_type": "code",
   "execution_count": 279,
   "metadata": {},
   "outputs": [],
   "source": [
    "def cv_predict(X, Y, model_L, f_loss=metrics.mean_squared_error):\n",
    "    Yhat_L = []\n",
    "    for i, model in enumerate(model_L):\n",
    "        Yhat = model.predict(X)\n",
    "        loss = f_loss(Y, Yhat)\n",
    "        print(\"CV fold: {} / {}, Model: {}, test loss: {:.4f}\".format(i, len(model_L), model.__class__.__name__, loss))\n",
    "        Yhat_L.append(Yhat)\n",
    "    print(\"Average CV predictor test loss: {:.4f}\".format(f_loss(Y, np.mean(Yhat_L, axis=0))))\n",
    "    return(np.vstack(Yhat_L).T)"
   ]
  },
  {
   "cell_type": "code",
   "execution_count": 280,
   "metadata": {},
   "outputs": [
    {
     "name": "stdout",
     "output_type": "stream",
     "text": [
      "CV fold: 0 / 5, Model: DecisionTreeRegressor, test loss: 720827.3576\n",
      "CV fold: 1 / 5, Model: DecisionTreeRegressor, test loss: 821173.3539\n",
      "CV fold: 2 / 5, Model: DecisionTreeRegressor, test loss: 769580.6414\n",
      "CV fold: 3 / 5, Model: DecisionTreeRegressor, test loss: 828119.5141\n",
      "CV fold: 4 / 5, Model: DecisionTreeRegressor, test loss: 753521.4227\n",
      "Average CV predictor test loss: 529090.8605\n"
     ]
    }
   ],
   "source": [
    "Yhat_cv_tree = cv_predict(X_test, Y_test, model_L_tree)"
   ]
  },
  {
   "cell_type": "markdown",
   "metadata": {
    "slideshow": {
     "slide_type": "subslide"
    }
   },
   "source": [
    "## Scikit-learn(4.2): Random Forest"
   ]
  },
  {
   "cell_type": "markdown",
   "metadata": {},
   "source": [
    "- Build $M$ trees at the same time in each model\n",
    "- To increase diversity of trees, when building each tree $\\hat{\\theta}_i$:\n",
    "    - Randomly bootstrap $(X, Y)$ to $(X_{(i)}, Y_{(i)})$ \n",
    "    - Randomly select a subset of variables $\\Theta_{i}$\n",
    "- $\\hat{\\theta}_i  = \\arg\\min_{\\theta_i \\in \\Theta_{i}}L\\left(Y_{(i)}, Tree(X_{(i)}, \\theta_i)\\right)$\n",
    "- $\\hat{Y} = \\frac{1}{M}\\sum_{i=1}^M Tree(X, \\hat{\\theta}_i)$"
   ]
  },
  {
   "cell_type": "code",
   "execution_count": 245,
   "metadata": {
    "collapsed": false,
    "slideshow": {
     "slide_type": "fragment"
    }
   },
   "outputs": [
    {
     "name": "stdout",
     "output_type": "stream",
     "text": [
      "CV fold: 0 / 5, training / validation sample: 31766 / 7942\n",
      "    Model: RandomForestRegressor, training / validation loss of 83297.8757 / 454464.0117, time: 3.50s\n",
      "CV fold: 1 / 5, training / validation sample: 31766 / 7942\n",
      "    Model: RandomForestRegressor, training / validation loss of 83410.5577 / 493339.0047, time: 3.47s\n",
      "CV fold: 2 / 5, training / validation sample: 31766 / 7942\n",
      "    Model: RandomForestRegressor, training / validation loss of 86083.9441 / 444552.3266, time: 3.48s\n",
      "CV fold: 3 / 5, training / validation sample: 31767 / 7941\n",
      "    Model: RandomForestRegressor, training / validation loss of 85748.9303 / 494191.9059, time: 3.53s\n",
      "CV fold: 4 / 5, training / validation sample: 31767 / 7941\n",
      "    Model: RandomForestRegressor, training / validation loss of 92420.4180 / 492346.8307, time: 3.46s\n"
     ]
    }
   ],
   "source": [
    "from sklearn import ensemble\n",
    "model_L_rf = cv_train(X, Y, cvfold, ensemble.RandomForestRegressor, n_estimators=10)"
   ]
  },
  {
   "cell_type": "code",
   "execution_count": 246,
   "metadata": {
    "collapsed": false
   },
   "outputs": [
    {
     "data": {
      "text/plain": [
       "cut_Very Good    2.163e-04\n",
       "cut_Good         2.278e-04\n",
       "cut_Premium      3.285e-04\n",
       "table            7.900e-04\n",
       "cut_Ideal        7.941e-04\n",
       "                   ...    \n",
       "clarity_SI2      1.887e-02\n",
       "y z              4.553e-02\n",
       "carat y          8.078e-02\n",
       "x y              1.198e-01\n",
       "carat            6.454e-01\n",
       "Length: 30, dtype: float64"
      ]
     },
     "execution_count": 246,
     "metadata": {},
     "output_type": "execute_result"
    }
   ],
   "source": [
    "pd.DataFrame([model.feature_importances_ for model in model_L_rf], columns=X.columns).mean().sort_values()"
   ]
  },
  {
   "cell_type": "markdown",
   "metadata": {
    "slideshow": {
     "slide_type": "subslide"
    }
   },
   "source": [
    "## Scikit-learn(4.3): Gradient Boosting Trees"
   ]
  },
  {
   "cell_type": "markdown",
   "metadata": {},
   "source": [
    "- Build $M$ trees stepwisely for residuals in each model\n",
    "- To reduce over-fitting, when building each tree $\\hat{\\theta}_i$:\n",
    "    - Restrict max depth of tree\n",
    "    - Restrict step size $\\eta < 1$\n",
    "- $\\hat{\\theta}_i  = \\arg\\min_{\\theta_i \\in \\Theta}L\\left(Y - \\eta\\sum_{j=1}^{i-1}Tree(X, \\theta_j), Tree(X, \\theta_i)\\right)$\n",
    "- $\\hat{Y} = \\eta\\sum_{i=1}^M Tree(X, \\hat{\\theta}_i)$"
   ]
  },
  {
   "cell_type": "code",
   "execution_count": 247,
   "metadata": {
    "collapsed": false,
    "scrolled": true,
    "slideshow": {
     "slide_type": "fragment"
    }
   },
   "outputs": [
    {
     "name": "stdout",
     "output_type": "stream",
     "text": [
      "CV fold: 0 / 5, training / validation sample: 31766 / 7942\n",
      "    Model: GradientBoostingRegressor, training / validation loss of 217558.8845 / 404180.2179, time: 4.46s\n",
      "CV fold: 1 / 5, training / validation sample: 31766 / 7942\n",
      "    Model: GradientBoostingRegressor, training / validation loss of 218540.9691 / 462562.2644, time: 4.81s\n",
      "CV fold: 2 / 5, training / validation sample: 31766 / 7942\n",
      "    Model: GradientBoostingRegressor, training / validation loss of 227652.8995 / 439257.5792, time: 4.52s\n",
      "CV fold: 3 / 5, training / validation sample: 31767 / 7941\n",
      "    Model: GradientBoostingRegressor, training / validation loss of 213694.5172 / 449693.4169, time: 4.42s\n",
      "CV fold: 4 / 5, training / validation sample: 31767 / 7941\n",
      "    Model: GradientBoostingRegressor, training / validation loss of 215316.0274 / 442238.0211, time: 4.56s\n"
     ]
    }
   ],
   "source": [
    "model_L_gbt = cv_train(X, Y, cvfold, ensemble.GradientBoostingRegressor, n_estimators=100, learning_rate=0.2, max_depth=6, max_features=0.3)"
   ]
  },
  {
   "cell_type": "code",
   "execution_count": 248,
   "metadata": {},
   "outputs": [
    {
     "data": {
      "text/plain": [
       "cut_Good         0.002\n",
       "cut_Very Good    0.003\n",
       "cut_Premium      0.005\n",
       "cut_Ideal        0.007\n",
       "color_E          0.012\n",
       "                 ...  \n",
       "x z              0.058\n",
       "y z              0.060\n",
       "carat y          0.077\n",
       "carat x          0.078\n",
       "carat            0.168\n",
       "Length: 30, dtype: float64"
      ]
     },
     "execution_count": 248,
     "metadata": {},
     "output_type": "execute_result"
    }
   ],
   "source": [
    "pd.DataFrame([model.feature_importances_ for model in model_L_gbt], columns=X.columns).mean().sort_values()"
   ]
  }
 ],
 "metadata": {
  "kernelspec": {
   "display_name": "Python 3",
   "language": "python",
   "name": "python3"
  },
  "language_info": {
   "codemirror_mode": {
    "name": "ipython",
    "version": 3
   },
   "file_extension": ".py",
   "mimetype": "text/x-python",
   "name": "python",
   "nbconvert_exporter": "python",
   "pygments_lexer": "ipython3",
   "version": "3.6.4"
  }
 },
 "nbformat": 4,
 "nbformat_minor": 2
}
