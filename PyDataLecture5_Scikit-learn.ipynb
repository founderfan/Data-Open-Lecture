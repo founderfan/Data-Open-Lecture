{
 "cells": [
  {
   "cell_type": "markdown",
   "metadata": {
    "slideshow": {
     "slide_type": "slide"
    }
   },
   "source": [
    "# Scikit-learn for Machine Learning"
   ]
  },
  {
   "cell_type": "markdown",
   "metadata": {
    "slideshow": {
     "slide_type": "subslide"
    }
   },
   "source": [
    "## Preparation\n",
    "\n",
    "- Download and Install [Anaconda](https://www.continuum.io/downloads) (Python 3 version)\n",
    "- Run command in a new shell: `jupyter lab`\n",
    "- If you run jupyter lab in a linux server through ssh, open a new terminal\n",
    "    - `ssh -L 8000:localhost:(jupyter port, default is 8888) (user)@(server address)`\n",
    "    - after log in, `jupyter notebook list`, check and copy the token of your jupyter\n",
    "    - open browser http://localhost:8000/, enter the token\n",
    "- Create a new notebook: Left-upper area -> \"+\" (New launcher) -> Notebook -> Python 3"
   ]
  },
  {
   "cell_type": "markdown",
   "metadata": {
    "slideshow": {
     "slide_type": "subslide"
    }
   },
   "source": [
    "## What is Scikit-learn?\n",
    "\n",
    "- Scikit-learn: Machine Learning in Python\n",
    "    - Simple and efficient tools for data mining and data analysis\n",
    "    - Accessible to everybody, and reusable in various contexts\n",
    "    - Built on NumPy, SciPy, and matplotlib\n",
    "    - Open source, commercially usable - BSD license\n",
    "- Features:\n",
    "    - Classification\n",
    "    - Regression\n",
    "    - Clustering\n",
    "    - Dimensionality reduction\n",
    "    - Model selection\n",
    "    - Preprocessing\n",
    "\n",
    "Reference: [Scikit-learn official site](http://scikit-learn.org/stable/)"
   ]
  },
  {
   "cell_type": "markdown",
   "metadata": {
    "slideshow": {
     "slide_type": "subslide"
    }
   },
   "source": [
    "## Contents\n",
    "\n",
    "1. Machine Learning Theory\n",
    "    - Loss Function\n",
    "    - Training-Validation Sets\n",
    "    - Cross-Validation\n",
    "2. An Example for CV Training: Linear Regression\n",
    "3. Over-fitting\n",
    "    - Penalty Function\n",
    "    - Ridge and Lasso\n",
    "    - Select Penalty Coeffient\n",
    "4. Tree-based Models\n",
    "    - Decision Tree\n",
    "    - Random Forest\n",
    "    - Gradient Boosting Trees"
   ]
  },
  {
   "cell_type": "markdown",
   "metadata": {
    "slideshow": {
     "slide_type": "subslide"
    }
   },
   "source": [
    "## Scikit-learn (0) Prepare Data"
   ]
  },
  {
   "cell_type": "code",
   "execution_count": 1,
   "metadata": {
    "collapsed": false,
    "scrolled": true,
    "slideshow": {
     "slide_type": "-"
    }
   },
   "outputs": [
    {
     "name": "stdout",
     "output_type": "stream",
     "text": [
      "/Users/fangda/Stat\n"
     ]
    }
   ],
   "source": [
    "# Load modules and set options\n",
    "import numpy as np\n",
    "import pandas as pd\n",
    "import matplotlib.pyplot as plt\n",
    "\n",
    "np.set_printoptions(precision = 3)\n",
    "pd.set_option('precision', 3)\n",
    "%matplotlib notebook\n",
    "%cd ~/Stat"
   ]
  },
  {
   "cell_type": "code",
   "execution_count": 2,
   "metadata": {
    "collapsed": false,
    "scrolled": true,
    "slideshow": {
     "slide_type": "-"
    }
   },
   "outputs": [
    {
     "data": {
      "text/plain": [
       "((53940, 10), (14232, 10))"
      ]
     },
     "execution_count": 2,
     "metadata": {},
     "output_type": "execute_result"
    }
   ],
   "source": [
    "# Load price-missing data and true label data\n",
    "da = pd.read_csv(\"Diamonds.csv\", index_col = \"n\")\n",
    "da_true = pd.read_csv(\"Diamonds_predict_true.csv\", index_col = \"n\")\n",
    "da.shape, da_true.shape"
   ]
  },
  {
   "cell_type": "code",
   "execution_count": 3,
   "metadata": {
    "collapsed": false
   },
   "outputs": [
    {
     "data": {
      "text/plain": [
       "((53940,), (53940, 9))"
      ]
     },
     "execution_count": 3,
     "metadata": {},
     "output_type": "execute_result"
    }
   ],
   "source": [
    "# Separate X and Y\n",
    "Y, X = da['price'], da.drop('price', axis = 1)\n",
    "Y.shape, X.shape"
   ]
  },
  {
   "cell_type": "code",
   "execution_count": 4,
   "metadata": {
    "collapsed": false
   },
   "outputs": [
    {
     "data": {
      "text/plain": [
       "((14232,), (39708,))"
      ]
     },
     "execution_count": 4,
     "metadata": {},
     "output_type": "execute_result"
    }
   ],
   "source": [
    "# Denote labeled and unlabeled row index\n",
    "ir_unlab, ir_lab = da.index[Y.isnull()], da.index[~Y.isnull()]\n",
    "ir_unlab.shape, ir_lab.shape"
   ]
  },
  {
   "cell_type": "markdown",
   "metadata": {
    "slideshow": {
     "slide_type": "subslide"
    }
   },
   "source": [
    "## Scikit-learn (1.1): Machine Learning Theory\n",
    "- Question of Machine Learning: given data $(X, Y)$, how to predict $Y$ with $X$?\n",
    "    - LM: $\\hat{Y} = X\\beta$\n",
    "    - GLM: $\\hat{Y} = g^{-1}(X\\beta)$\n",
    "    - Generally, $\\hat{Y} = f(X, \\theta)$, model family $f$ and parameter $\\theta$ can be complex\n",
    "- Compare *statistical modeling* with *machine learning*:\n",
    "    - Schools: mathematics vs. computer science\n",
    "    - Focus: statistical inference vs. prediction effectiveness\n",
    "    - Methods: formula-based vs. algorithm-based\n",
    "    - Assumptions: strict vs. weak\n",
    "    \n",
    "    \n",
    "Reference: [Difference between Machine Learning & Statistical Modeling, Tavish Srivastava](https://www.analyticsvidhya.com/blog/2015/07/difference-machine-learning-statistical-modeling/)"
   ]
  },
  {
   "cell_type": "markdown",
   "metadata": {
    "slideshow": {
     "slide_type": "subslide"
    }
   },
   "source": [
    "## Scikit-learn (1.2):  Machine Learning Theory: Loss Function"
   ]
  },
  {
   "cell_type": "markdown",
   "metadata": {},
   "source": [
    "- Q1: Two models predict $Y$ with $\\hat{Y}_1 = f_1(X, \\theta_1)$, $\\hat{Y}_2 = f_2(X, \\theta_2)$\n",
    "    - Which model is better for prediction? How to decide?\n",
    "- Loss function $L(Y, \\hat{Y})$: measure the error between true and predicted values, the smaller the better\n",
    "    - Sum of squared errors (L2 dist): $L(Y, \\hat{Y}) = \\sum_{i=1}^n(y_i - \\hat{y}_i)^2$\n",
    "    - Sum of absolute errors (L1 dist): $L(Y, \\hat{Y}) = \\sum_{i=1}^n|y_i - \\hat{y}_i|$\n",
    "    - Misclassification errors (L0 dist): $L(Y, \\hat{Y}) = \\sum_{i=1}^n1(y_i \\neq \\hat{y}_i)$\n",
    "    - Log loss for binary: $L(Y, \\hat{Y}) = -\\sum_{i=1}^n\\left(y_i\\log(\\hat{y}_i)+(1-y_i)\\log(1-\\hat{y}_i)\\right)$"
   ]
  },
  {
   "cell_type": "code",
   "execution_count": 5,
   "metadata": {
    "collapsed": true,
    "slideshow": {
     "slide_type": "fragment"
    }
   },
   "outputs": [],
   "source": [
    "y = np.array([0, 0, 1, 1, 1])\n",
    "yhat1 = np.array([0.2, 0.3, 0.6, 0.7, 0.6])\n",
    "yhat2 = np.array([0.1, 0.1, 0.9, 0.8, 0.3])"
   ]
  },
  {
   "cell_type": "code",
   "execution_count": 6,
   "metadata": {
    "collapsed": false
   },
   "outputs": [
    {
     "name": "stdout",
     "output_type": "stream",
     "text": [
      "0.108 0.112\n",
      "0.32 0.24\n",
      "0.0 0.2\n",
      "0.391628937345 0.348639580523\n"
     ]
    }
   ],
   "source": [
    "import sklearn.metrics as met\n",
    "print(met.mean_squared_error(y, yhat1), met.mean_squared_error(y, yhat2))\n",
    "print(met.mean_absolute_error(y, yhat1), met.mean_absolute_error(y, yhat2))\n",
    "print(met.zero_one_loss(y, yhat1 > 0.5), met.zero_one_loss(y, yhat2 > 0.5))\n",
    "print(met.log_loss(y, yhat1), met.log_loss(y, yhat2))"
   ]
  },
  {
   "cell_type": "markdown",
   "metadata": {
    "slideshow": {
     "slide_type": "subslide"
    }
   },
   "source": [
    "## How to get help\n",
    "\n",
    "- From Function Help: ? + function\n",
    "    - ?met.log_loss\n",
    "- From Autofill with *Tab*:\n",
    "    - met. + *Tab*\n",
    "- From Google: Your Question (what you want to do) + scikit-learn\n",
    "    - logistic regression scikit-learn\n",
    "    - speed up random forest scikit-learn\n",
    "- From Official Website: http://scikit-learn.org/"
   ]
  },
  {
   "cell_type": "markdown",
   "metadata": {
    "slideshow": {
     "slide_type": "subslide"
    }
   },
   "source": [
    "## Scikit-learn (1.3): Machine Learning Theory: Training-Validation Sets\n",
    "- Q2: How can we know the effectiveness of prediction on data outside sample?\n",
    "- Assumption: Sample are selected from population randomly\n",
    "- Method: Divide our sample randomly into 2 parts: training set and validation set\n",
    "    - Training Set $(X_T, Y_T)$: fitting model $\\hat{\\theta} = \\min_{\\theta\\in\\Theta_f}\\left[L(Y_T, \\hat{Y}_T) + \\lambda P(\\theta)\\right]$\n",
    "    - Validation Set $(X_V, Y_V)$: estimating prediction error $L(Y_V, \\hat{Y}_V)$ from trained $\\hat{\\theta}$"
   ]
  },
  {
   "cell_type": "code",
   "execution_count": 7,
   "metadata": {
    "collapsed": false,
    "slideshow": {
     "slide_type": "fragment"
    }
   },
   "outputs": [
    {
     "data": {
      "text/plain": [
       "(10000,)"
      ]
     },
     "execution_count": 7,
     "metadata": {},
     "output_type": "execute_result"
    }
   ],
   "source": [
    "# Randomly choose 5000 from index as validation set\n",
    "np.random.seed(1) \n",
    "ir_v = np.random.choice(ir_lab, 10000, replace = False) \n",
    "ir_v.shape"
   ]
  },
  {
   "cell_type": "code",
   "execution_count": 8,
   "metadata": {
    "collapsed": false
   },
   "outputs": [
    {
     "data": {
      "text/plain": [
       "(29708,)"
      ]
     },
     "execution_count": 8,
     "metadata": {},
     "output_type": "execute_result"
    }
   ],
   "source": [
    "# Use other labeled index as training set\n",
    "ir_t = ir_lab.difference(ir_v) \n",
    "ir_t.shape"
   ]
  },
  {
   "cell_type": "markdown",
   "metadata": {
    "slideshow": {
     "slide_type": "subslide"
    }
   },
   "source": [
    "## Scikit-learn (1.4): Machine Learning Theory: Cross Validation\n",
    "- Q4: How about the unused validation set?\n",
    "- Cross-validation (CV): \n",
    "    1. Divide data $(X, Y)$ into $K$ parts $(X_{(1)}, Y_{(1)}), \\cdots, (X_{(K)}, Y_{(K)})$\n",
    "    2. Each time $i$, select $(X_{(i)}, Y_{(i)})$ as validation set, leaving other parts as training set, train a model and calculate the validation error.\n",
    "    3. For $i = 1,2,\\cdots K$, repeat step 2 and get $K$ models and $K$ validation errors, use mean validation errors to estimate the prediction of model\n",
    "    4. For prediction of new data $X_{new}$, use the $K$ trained models to predict $\\hat{Y}_{new(1)}, \\cdots, \\hat{Y}_{new(K)}$, and calculate the mean $\\hat{Y}_{new}$ as final prediction"
   ]
  },
  {
   "cell_type": "code",
   "execution_count": 9,
   "metadata": {
    "collapsed": false,
    "slideshow": {
     "slide_type": "fragment"
    }
   },
   "outputs": [
    {
     "data": {
      "text/plain": [
       "[(7942,), (7942,), (7942,), (7941,), (7941,)]"
      ]
     },
     "execution_count": 9,
     "metadata": {},
     "output_type": "execute_result"
    }
   ],
   "source": [
    "# Randomly split index equally into k = 5 folds\n",
    "def Kfolds(x, k = 5, seed = 1):\n",
    "    np.random.seed(seed)\n",
    "    op = np.array_split(np.random.permutation(x), k)\n",
    "    return(op)\n",
    "ir_cv = Kfolds(ir_lab)\n",
    "[i.shape for i in ir_cv]"
   ]
  },
  {
   "cell_type": "code",
   "execution_count": 10,
   "metadata": {
    "collapsed": false
   },
   "outputs": [
    {
     "data": {
      "text/plain": [
       "((7942,), (31766,))"
      ]
     },
     "execution_count": 10,
     "metadata": {},
     "output_type": "execute_result"
    }
   ],
   "source": [
    "# select fold 0 as validation set, leaving others as training set\n",
    "ir_v = ir_cv[0]\n",
    "ir_t = np.setdiff1d(np.hstack(ir_cv), ir_v)\n",
    "ir_v.shape, ir_t.shape"
   ]
  },
  {
   "cell_type": "markdown",
   "metadata": {
    "slideshow": {
     "slide_type": "subslide"
    }
   },
   "source": [
    "## Scikit-learn (2.1): An Example for CV Training: Linear Regression"
   ]
  },
  {
   "cell_type": "markdown",
   "metadata": {},
   "source": [
    "- We will show how to compile cross-validation procedures with scikit-learn models\n",
    "- In the next, we will build an extendable machine learning system step by step"
   ]
  },
  {
   "cell_type": "code",
   "execution_count": 11,
   "metadata": {
    "collapsed": true,
    "slideshow": {
     "slide_type": "skip"
    }
   },
   "outputs": [],
   "source": [
    "pd.set_option('display.max_rows', 5)\n",
    "pd.set_option('display.max_columns', 100)"
   ]
  },
  {
   "cell_type": "code",
   "execution_count": 12,
   "metadata": {
    "collapsed": false
   },
   "outputs": [
    {
     "data": {
      "text/html": [
       "<div>\n",
       "<table border=\"1\" class=\"dataframe\">\n",
       "  <thead>\n",
       "    <tr style=\"text-align: right;\">\n",
       "      <th></th>\n",
       "      <th>carat</th>\n",
       "      <th>depth</th>\n",
       "      <th>table</th>\n",
       "      <th>x</th>\n",
       "      <th>y</th>\n",
       "      <th>z</th>\n",
       "      <th>cut_Good</th>\n",
       "      <th>cut_Ideal</th>\n",
       "      <th>cut_Premium</th>\n",
       "      <th>cut_Very Good</th>\n",
       "      <th>color_E</th>\n",
       "      <th>color_F</th>\n",
       "      <th>color_G</th>\n",
       "      <th>color_H</th>\n",
       "      <th>color_I</th>\n",
       "      <th>color_J</th>\n",
       "      <th>clarity_IF</th>\n",
       "      <th>clarity_SI1</th>\n",
       "      <th>clarity_SI2</th>\n",
       "      <th>clarity_VS1</th>\n",
       "      <th>clarity_VS2</th>\n",
       "      <th>clarity_VVS1</th>\n",
       "      <th>clarity_VVS2</th>\n",
       "    </tr>\n",
       "    <tr>\n",
       "      <th>n</th>\n",
       "      <th></th>\n",
       "      <th></th>\n",
       "      <th></th>\n",
       "      <th></th>\n",
       "      <th></th>\n",
       "      <th></th>\n",
       "      <th></th>\n",
       "      <th></th>\n",
       "      <th></th>\n",
       "      <th></th>\n",
       "      <th></th>\n",
       "      <th></th>\n",
       "      <th></th>\n",
       "      <th></th>\n",
       "      <th></th>\n",
       "      <th></th>\n",
       "      <th></th>\n",
       "      <th></th>\n",
       "      <th></th>\n",
       "      <th></th>\n",
       "      <th></th>\n",
       "      <th></th>\n",
       "      <th></th>\n",
       "    </tr>\n",
       "  </thead>\n",
       "  <tbody>\n",
       "    <tr>\n",
       "      <th>1</th>\n",
       "      <td>0.23</td>\n",
       "      <td>61.5</td>\n",
       "      <td>55.0</td>\n",
       "      <td>3.95</td>\n",
       "      <td>3.98</td>\n",
       "      <td>2.43</td>\n",
       "      <td>0</td>\n",
       "      <td>1</td>\n",
       "      <td>0</td>\n",
       "      <td>0</td>\n",
       "      <td>1</td>\n",
       "      <td>0</td>\n",
       "      <td>0</td>\n",
       "      <td>0</td>\n",
       "      <td>0</td>\n",
       "      <td>0</td>\n",
       "      <td>0</td>\n",
       "      <td>0</td>\n",
       "      <td>1</td>\n",
       "      <td>0</td>\n",
       "      <td>0</td>\n",
       "      <td>0</td>\n",
       "      <td>0</td>\n",
       "    </tr>\n",
       "    <tr>\n",
       "      <th>2</th>\n",
       "      <td>0.21</td>\n",
       "      <td>59.8</td>\n",
       "      <td>61.0</td>\n",
       "      <td>3.89</td>\n",
       "      <td>3.84</td>\n",
       "      <td>2.31</td>\n",
       "      <td>0</td>\n",
       "      <td>0</td>\n",
       "      <td>1</td>\n",
       "      <td>0</td>\n",
       "      <td>1</td>\n",
       "      <td>0</td>\n",
       "      <td>0</td>\n",
       "      <td>0</td>\n",
       "      <td>0</td>\n",
       "      <td>0</td>\n",
       "      <td>0</td>\n",
       "      <td>1</td>\n",
       "      <td>0</td>\n",
       "      <td>0</td>\n",
       "      <td>0</td>\n",
       "      <td>0</td>\n",
       "      <td>0</td>\n",
       "    </tr>\n",
       "  </tbody>\n",
       "</table>\n",
       "</div>"
      ],
      "text/plain": [
       "   carat  depth  table     x     y     z  cut_Good  cut_Ideal  cut_Premium  \\\n",
       "n                                                                            \n",
       "1   0.23   61.5   55.0  3.95  3.98  2.43         0          1            0   \n",
       "2   0.21   59.8   61.0  3.89  3.84  2.31         0          0            1   \n",
       "\n",
       "   cut_Very Good  color_E  color_F  color_G  color_H  color_I  color_J  \\\n",
       "n                                                                        \n",
       "1              0        1        0        0        0        0        0   \n",
       "2              0        1        0        0        0        0        0   \n",
       "\n",
       "   clarity_IF  clarity_SI1  clarity_SI2  clarity_VS1  clarity_VS2  \\\n",
       "n                                                                   \n",
       "1           0            0            1            0            0   \n",
       "2           0            1            0            0            0   \n",
       "\n",
       "   clarity_VVS1  clarity_VVS2  \n",
       "n                              \n",
       "1             0             0  \n",
       "2             0             0  "
      ]
     },
     "execution_count": 12,
     "metadata": {},
     "output_type": "execute_result"
    }
   ],
   "source": [
    "# Make sure all variable to be numeric for model\n",
    "X = pd.get_dummies(X, drop_first = True)\n",
    "X.head(2)"
   ]
  },
  {
   "cell_type": "code",
   "execution_count": 13,
   "metadata": {
    "collapsed": false
   },
   "outputs": [
    {
     "data": {
      "text/plain": [
       "((31766, 23), (7942, 23), (31766,), (7942,))"
      ]
     },
     "execution_count": 13,
     "metadata": {},
     "output_type": "execute_result"
    }
   ],
   "source": [
    "# Split X and Y with training-validation index\n",
    "Xt = X.loc[ir_t]\n",
    "Xv = X.loc[ir_v]\n",
    "Yt = Y.loc[ir_t]\n",
    "Yv = Y.loc[ir_v]\n",
    "Xt.shape, Xv.shape, Yt.shape, Yv.shape"
   ]
  },
  {
   "cell_type": "markdown",
   "metadata": {
    "slideshow": {
     "slide_type": "subslide"
    }
   },
   "source": [
    "## Scikit-learn (2.2): Single Model Training"
   ]
  },
  {
   "cell_type": "code",
   "execution_count": 14,
   "metadata": {
    "collapsed": false
   },
   "outputs": [
    {
     "data": {
      "text/plain": [
       "LinearRegression(copy_X=True, fit_intercept=True, n_jobs=1, normalize=False)"
      ]
     },
     "execution_count": 14,
     "metadata": {},
     "output_type": "execute_result"
    }
   ],
   "source": [
    "# Train a linear model in scikit-learn\n",
    "import sklearn.linear_model as lm\n",
    "model_lm = lm.LinearRegression()\n",
    "model_lm.fit(Xt, Yt)"
   ]
  },
  {
   "cell_type": "code",
   "execution_count": 15,
   "metadata": {
    "collapsed": false
   },
   "outputs": [
    {
     "data": {
      "text/plain": [
       "array([ 11641.894,    -66.581,    -25.287,  -1140.763,    -12.209,\n",
       "          -63.557,    551.371,    841.153,    754.372,    708.06 ,\n",
       "         -177.767,   -244.366,   -447.098,   -956.701,  -1445.476,\n",
       "        -2299.875,   5297.921,   3686.544,   2714.422,   4585.986,\n",
       "         4267.393,   4996.976,   4937.163])"
      ]
     },
     "execution_count": 15,
     "metadata": {},
     "output_type": "execute_result"
    }
   ],
   "source": [
    "# Coefficients of the model\n",
    "model_lm.coef_"
   ]
  },
  {
   "cell_type": "code",
   "execution_count": 16,
   "metadata": {
    "collapsed": false
   },
   "outputs": [
    {
     "data": {
      "text/plain": [
       "array([ 4134.981,  2131.571,  6300.447, ...,  1760.954,   277.292,\n",
       "         934.741])"
      ]
     },
     "execution_count": 16,
     "metadata": {},
     "output_type": "execute_result"
    }
   ],
   "source": [
    "# Prediction on traing-validation set\n",
    "Ythat = model_lm.predict(Xt)\n",
    "Yvhat = model_lm.predict(Xv)\n",
    "Yvhat"
   ]
  },
  {
   "cell_type": "code",
   "execution_count": 17,
   "metadata": {
    "collapsed": false
   },
   "outputs": [
    {
     "data": {
      "text/plain": [
       "(1222405.0419276247, 1351848.6373490358)"
      ]
     },
     "execution_count": 17,
     "metadata": {},
     "output_type": "execute_result"
    }
   ],
   "source": [
    "# Measure the training-validation loss\n",
    "met.mean_squared_error(Yt.values, Ythat), met.mean_squared_error(Yv.values, Yvhat)"
   ]
  },
  {
   "cell_type": "markdown",
   "metadata": {
    "slideshow": {
     "slide_type": "subslide"
    }
   },
   "source": [
    "## Scikit-learn (2.3): Cross-Validation Training"
   ]
  },
  {
   "cell_type": "code",
   "execution_count": 18,
   "metadata": {
    "collapsed": false
   },
   "outputs": [
    {
     "data": {
      "text/plain": [
       "loss_train    1.247e+06\n",
       "loss_val      1.263e+06\n",
       "dtype: float64"
      ]
     },
     "execution_count": 18,
     "metadata": {},
     "output_type": "execute_result"
    }
   ],
   "source": [
    "def cv_train(X, Y, ir_cv, fmodel, fscore = met.mean_squared_error, **kwargs):\n",
    "    modelL, losstL, lossvL = [], [], []\n",
    "    for ir_v in ir_cv:\n",
    "        # Create training-validation sets\n",
    "        ir_t = np.setdiff1d(np.hstack(ir_cv), ir_v)\n",
    "        Xt, Xv, Yt, Yv = X.loc[ir_t], X.loc[ir_v], Y.loc[ir_t], Y.loc[ir_v]\n",
    "        # Train a scikit-learn model\n",
    "        model = fmodel(**kwargs)\n",
    "        model.fit(Xt, Yt)\n",
    "        # predict and get training-validation loss\n",
    "        Ythat = model.predict(Xt)\n",
    "        losst = fscore(Yt.values, Ythat)\n",
    "        Yvhat = model.predict(Xv)\n",
    "        lossv = fscore(Yv.values, Yvhat)\n",
    "        # save model and training-validation loss\n",
    "        modelL.append(model)\n",
    "        losstL.append(losst)\n",
    "        lossvL.append(lossv)\n",
    "    op = {\"modelL\": modelL, \n",
    "          \"loss\": pd.DataFrame({\"loss_train\": losstL, \"loss_val\": lossvL})}\n",
    "    return(op)\n",
    "\n",
    "# Train linear regression CV models with MSE loss\n",
    "md_lm = cv_train(X, Y, ir_cv, lm.LinearRegression)\n",
    "md_lm[\"loss\"].mean()"
   ]
  },
  {
   "cell_type": "markdown",
   "metadata": {
    "slideshow": {
     "slide_type": "subslide"
    }
   },
   "source": [
    "## Scikit-learn (2.4): Cross-Validation Prediction"
   ]
  },
  {
   "cell_type": "code",
   "execution_count": 19,
   "metadata": {
    "collapsed": false
   },
   "outputs": [
    {
     "data": {
      "text/plain": [
       "((14232,), (14232, 23))"
      ]
     },
     "execution_count": 19,
     "metadata": {},
     "output_type": "execute_result"
    }
   ],
   "source": [
    "# Prepare the prediction dataset\n",
    "Yp = da_true.loc[ir_unlab, \"price\"]\n",
    "Xp = X.loc[ir_unlab]\n",
    "Yp.shape, Xp.shape"
   ]
  },
  {
   "cell_type": "code",
   "execution_count": 20,
   "metadata": {
    "collapsed": false
   },
   "outputs": [
    {
     "data": {
      "text/plain": [
       "([1362963.7291103753,\n",
       "  1361001.7484534772,\n",
       "  1365815.447840391,\n",
       "  1358742.7597344865,\n",
       "  1363723.8601751626],\n",
       " 1362449.5090627784)"
      ]
     },
     "execution_count": 20,
     "metadata": {},
     "output_type": "execute_result"
    }
   ],
   "source": [
    "def cv_pred(X, Y, modelL, fscore = met.mean_squared_error):\n",
    "    # Predict Yhat for each CV model\n",
    "    YhatL = [model.predict(X) for model in modelL]\n",
    "    # Get prediction loss for each Yhat\n",
    "    lossL = [fscore(Yp.values, Yhat) for Yhat in YhatL]\n",
    "    op = {\"YhatL\": YhatL, \"lossL\": lossL}\n",
    "    return(op)\n",
    "\n",
    "# Calculate prediction loss for each model on prediction data (Xp, Yp)\n",
    "op_pred = cv_pred(Xp, Yp, md_lm[\"modelL\"])\n",
    "op_pred[\"lossL\"], np.mean(op_pred[\"lossL\"])"
   ]
  },
  {
   "cell_type": "code",
   "execution_count": 21,
   "metadata": {
    "collapsed": false
   },
   "outputs": [
    {
     "data": {
      "text/plain": [
       "1360221.642421219"
      ]
     },
     "execution_count": 21,
     "metadata": {},
     "output_type": "execute_result"
    }
   ],
   "source": [
    "# Calculate the loss of mean CV prediction\n",
    "met.mean_squared_error(Yp.values, np.mean(op_pred[\"YhatL\"], axis = 0))"
   ]
  },
  {
   "cell_type": "markdown",
   "metadata": {
    "slideshow": {
     "slide_type": "subslide"
    }
   },
   "source": [
    "## Scikit-learn (3.1): Over-Fitting"
   ]
  },
  {
   "cell_type": "markdown",
   "metadata": {},
   "source": [
    "- To train a machine learning model, when we only $\\min_{\\theta\\in\\Theta_f}L(Y, \\hat{Y})$:\n",
    "- An extremely complex model may always be \"better\" in training set (over-fitting)\n",
    "    - Fit 10,000-order polynomials on $Y$ of sample-size 10,000\n",
    "    - A too complex model may not be true for population out of sample\n",
    "    - A too complex model may be unstable"
   ]
  },
  {
   "cell_type": "code",
   "execution_count": 22,
   "metadata": {
    "collapsed": false,
    "slideshow": {
     "slide_type": "fragment"
    }
   },
   "outputs": [
    {
     "data": {
      "text/plain": [
       "((53940, 23), (53940, 46), (53940, 115))"
      ]
     },
     "execution_count": 22,
     "metadata": {},
     "output_type": "execute_result"
    }
   ],
   "source": [
    "Xpoly2 = pd.concat([X, X**2], axis = 1)\n",
    "Xpoly5 = pd.concat([X**(1+i) for i in range(5)], axis = 1)\n",
    "X.shape, Xpoly2.shape, Xpoly5.shape"
   ]
  },
  {
   "cell_type": "code",
   "execution_count": 23,
   "metadata": {
    "collapsed": false
   },
   "outputs": [
    {
     "data": {
      "text/html": [
       "<div>\n",
       "<table border=\"1\" class=\"dataframe\">\n",
       "  <thead>\n",
       "    <tr style=\"text-align: right;\">\n",
       "      <th></th>\n",
       "      <th>X</th>\n",
       "      <th>Xpoly2</th>\n",
       "      <th>Xpoly5</th>\n",
       "    </tr>\n",
       "  </thead>\n",
       "  <tbody>\n",
       "    <tr>\n",
       "      <th>loss_train</th>\n",
       "      <td>1.247e+06</td>\n",
       "      <td>1.172e+06</td>\n",
       "      <td>1.037e+06</td>\n",
       "    </tr>\n",
       "    <tr>\n",
       "      <th>loss_val</th>\n",
       "      <td>1.263e+06</td>\n",
       "      <td>3.141e+08</td>\n",
       "      <td>3.119e+13</td>\n",
       "    </tr>\n",
       "  </tbody>\n",
       "</table>\n",
       "</div>"
      ],
      "text/plain": [
       "                    X     Xpoly2     Xpoly5\n",
       "loss_train  1.247e+06  1.172e+06  1.037e+06\n",
       "loss_val    1.263e+06  3.141e+08  3.119e+13"
      ]
     },
     "execution_count": 23,
     "metadata": {},
     "output_type": "execute_result"
    }
   ],
   "source": [
    "pd.concat([cv_train(i, Y, ir_cv, lm.LinearRegression)['loss'].mean()\n",
    "     for i in [X, Xpoly2, Xpoly5]], axis = 1, keys = [\"X\", \"Xpoly2\", \"Xpoly5\"])"
   ]
  },
  {
   "cell_type": "markdown",
   "metadata": {
    "slideshow": {
     "slide_type": "subslide"
    }
   },
   "source": [
    "## Scikit-learn (3.2): Penalty Function"
   ]
  },
  {
   "cell_type": "markdown",
   "metadata": {},
   "source": [
    "- Method: find a simpler model $\\hat{\\theta}$ by $\\min_{\\theta\\in\\Theta_f}\\left[L(Y, \\hat{Y}) + \\lambda P(\\theta)\\right]$\n",
    "    - Loss function $L(Y, \\hat{Y})$: control the errors of fitting\n",
    "    - Penalty function $P(\\theta)$: measure the complexity of model\n",
    "        - Ridge (L2 dist): $P(\\beta) = \\sum_{i=1}^p\\beta_i^2$\n",
    "        - Lasso (L1 dist): $P(\\beta) = \\sum_{i=1}^p|\\beta_i|$\n",
    "        - AIC/BIC (L0 dist): $P(\\beta) = \\sum_{i=1}^p1(\\beta_i\\neq 0)$\n",
    "    - Penalty coefficient $\\lambda$: greater $\\lambda \\rightarrow$ simpler model"
   ]
  },
  {
   "cell_type": "code",
   "execution_count": 24,
   "metadata": {
    "collapsed": false,
    "slideshow": {
     "slide_type": "fragment"
    }
   },
   "outputs": [
    {
     "data": {
      "text/html": [
       "<div>\n",
       "<table border=\"1\" class=\"dataframe\">\n",
       "  <thead>\n",
       "    <tr style=\"text-align: right;\">\n",
       "      <th></th>\n",
       "      <th>X</th>\n",
       "      <th>Xpoly2</th>\n",
       "      <th>Xpoly5</th>\n",
       "    </tr>\n",
       "  </thead>\n",
       "  <tbody>\n",
       "    <tr>\n",
       "      <th>loss_train</th>\n",
       "      <td>1.923e+06</td>\n",
       "      <td>1.538e+06</td>\n",
       "      <td>1.277e+06</td>\n",
       "    </tr>\n",
       "    <tr>\n",
       "      <th>loss_val</th>\n",
       "      <td>1.944e+06</td>\n",
       "      <td>2.267e+06</td>\n",
       "      <td>4.666e+10</td>\n",
       "    </tr>\n",
       "  </tbody>\n",
       "</table>\n",
       "</div>"
      ],
      "text/plain": [
       "                    X     Xpoly2     Xpoly5\n",
       "loss_train  1.923e+06  1.538e+06  1.277e+06\n",
       "loss_val    1.944e+06  2.267e+06  4.666e+10"
      ]
     },
     "execution_count": 24,
     "metadata": {},
     "output_type": "execute_result"
    }
   ],
   "source": [
    "pd.concat(\n",
    "    [cv_train(i, Y, ir_cv, lm.Ridge, alpha = 0.1, normalize = True)['loss'].mean()\n",
    "     for i in [X, Xpoly2, Xpoly5]], axis = 1, keys = [\"X\", \"Xpoly2\", \"Xpoly5\"])"
   ]
  },
  {
   "cell_type": "code",
   "execution_count": 25,
   "metadata": {
    "collapsed": false
   },
   "outputs": [
    {
     "name": "stderr",
     "output_type": "stream",
     "text": [
      "/Users/fangda/anaconda/lib/python3.5/site-packages/sklearn/linear_model/coordinate_descent.py:479: ConvergenceWarning: Objective did not converge. You might want to increase the number of iterations. Fitting data with very small alpha may cause precision problems.\n",
      "  ConvergenceWarning)\n"
     ]
    },
    {
     "data": {
      "text/html": [
       "<div>\n",
       "<table border=\"1\" class=\"dataframe\">\n",
       "  <thead>\n",
       "    <tr style=\"text-align: right;\">\n",
       "      <th></th>\n",
       "      <th>X</th>\n",
       "      <th>Xpoly2</th>\n",
       "      <th>Xpoly5</th>\n",
       "    </tr>\n",
       "  </thead>\n",
       "  <tbody>\n",
       "    <tr>\n",
       "      <th>loss_train</th>\n",
       "      <td>1.396e+06</td>\n",
       "      <td>1.411e+06</td>\n",
       "      <td>1.251e+06</td>\n",
       "    </tr>\n",
       "    <tr>\n",
       "      <th>loss_val</th>\n",
       "      <td>1.400e+06</td>\n",
       "      <td>1.417e+06</td>\n",
       "      <td>3.316e+11</td>\n",
       "    </tr>\n",
       "  </tbody>\n",
       "</table>\n",
       "</div>"
      ],
      "text/plain": [
       "                    X     Xpoly2     Xpoly5\n",
       "loss_train  1.396e+06  1.411e+06  1.251e+06\n",
       "loss_val    1.400e+06  1.417e+06  3.316e+11"
      ]
     },
     "execution_count": 25,
     "metadata": {},
     "output_type": "execute_result"
    }
   ],
   "source": [
    "pd.concat(\n",
    "    [cv_train(i, Y, ir_cv, lm.Lasso, alpha = 0.1, normalize = True)['loss'].mean()\n",
    "     for i in [X, Xpoly2, Xpoly5]], axis = 1, keys = [\"X\", \"Xpoly2\", \"Xpoly5\"])"
   ]
  },
  {
   "cell_type": "markdown",
   "metadata": {
    "slideshow": {
     "slide_type": "subslide"
    }
   },
   "source": [
    "## Scikit-learn (3.3): Select Penalty Coefficients"
   ]
  },
  {
   "cell_type": "markdown",
   "metadata": {},
   "source": [
    "- How to select best penalty coeffient $\\hat{\\lambda}$, or more generally, best hyperparameters of model?\n",
    "    - Step 1. Try different $\\lambda$ on the model\n",
    "        - Method 1: Build several models with different $\\lambda$\n",
    "        - Method 2: If exists, a stepwise model for $\\lambda$ can save computation time\n",
    "    - Step 2. Calculate CV validation loss, and select the $\\hat{\\lambda}$ minimizing it\n",
    "    - Step 3. If used for variable selection, choose important variables under $\\hat{\\lambda}$"
   ]
  },
  {
   "cell_type": "code",
   "execution_count": 26,
   "metadata": {
    "collapsed": false,
    "scrolled": true,
    "slideshow": {
     "slide_type": "fragment"
    }
   },
   "outputs": [
    {
     "data": {
      "application/javascript": [
       "/* Put everything inside the global mpl namespace */\n",
       "window.mpl = {};\n",
       "\n",
       "mpl.get_websocket_type = function() {\n",
       "    if (typeof(WebSocket) !== 'undefined') {\n",
       "        return WebSocket;\n",
       "    } else if (typeof(MozWebSocket) !== 'undefined') {\n",
       "        return MozWebSocket;\n",
       "    } else {\n",
       "        alert('Your browser does not have WebSocket support.' +\n",
       "              'Please try Chrome, Safari or Firefox ≥ 6. ' +\n",
       "              'Firefox 4 and 5 are also supported but you ' +\n",
       "              'have to enable WebSockets in about:config.');\n",
       "    };\n",
       "}\n",
       "\n",
       "mpl.figure = function(figure_id, websocket, ondownload, parent_element) {\n",
       "    this.id = figure_id;\n",
       "\n",
       "    this.ws = websocket;\n",
       "\n",
       "    this.supports_binary = (this.ws.binaryType != undefined);\n",
       "\n",
       "    if (!this.supports_binary) {\n",
       "        var warnings = document.getElementById(\"mpl-warnings\");\n",
       "        if (warnings) {\n",
       "            warnings.style.display = 'block';\n",
       "            warnings.textContent = (\n",
       "                \"This browser does not support binary websocket messages. \" +\n",
       "                    \"Performance may be slow.\");\n",
       "        }\n",
       "    }\n",
       "\n",
       "    this.imageObj = new Image();\n",
       "\n",
       "    this.context = undefined;\n",
       "    this.message = undefined;\n",
       "    this.canvas = undefined;\n",
       "    this.rubberband_canvas = undefined;\n",
       "    this.rubberband_context = undefined;\n",
       "    this.format_dropdown = undefined;\n",
       "\n",
       "    this.image_mode = 'full';\n",
       "\n",
       "    this.root = $('<div/>');\n",
       "    this._root_extra_style(this.root)\n",
       "    this.root.attr('style', 'display: inline-block');\n",
       "\n",
       "    $(parent_element).append(this.root);\n",
       "\n",
       "    this._init_header(this);\n",
       "    this._init_canvas(this);\n",
       "    this._init_toolbar(this);\n",
       "\n",
       "    var fig = this;\n",
       "\n",
       "    this.waiting = false;\n",
       "\n",
       "    this.ws.onopen =  function () {\n",
       "            fig.send_message(\"supports_binary\", {value: fig.supports_binary});\n",
       "            fig.send_message(\"send_image_mode\", {});\n",
       "            fig.send_message(\"refresh\", {});\n",
       "        }\n",
       "\n",
       "    this.imageObj.onload = function() {\n",
       "            if (fig.image_mode == 'full') {\n",
       "                // Full images could contain transparency (where diff images\n",
       "                // almost always do), so we need to clear the canvas so that\n",
       "                // there is no ghosting.\n",
       "                fig.context.clearRect(0, 0, fig.canvas.width, fig.canvas.height);\n",
       "            }\n",
       "            fig.context.drawImage(fig.imageObj, 0, 0);\n",
       "        };\n",
       "\n",
       "    this.imageObj.onunload = function() {\n",
       "        this.ws.close();\n",
       "    }\n",
       "\n",
       "    this.ws.onmessage = this._make_on_message_function(this);\n",
       "\n",
       "    this.ondownload = ondownload;\n",
       "}\n",
       "\n",
       "mpl.figure.prototype._init_header = function() {\n",
       "    var titlebar = $(\n",
       "        '<div class=\"ui-dialog-titlebar ui-widget-header ui-corner-all ' +\n",
       "        'ui-helper-clearfix\"/>');\n",
       "    var titletext = $(\n",
       "        '<div class=\"ui-dialog-title\" style=\"width: 100%; ' +\n",
       "        'text-align: center; padding: 3px;\"/>');\n",
       "    titlebar.append(titletext)\n",
       "    this.root.append(titlebar);\n",
       "    this.header = titletext[0];\n",
       "}\n",
       "\n",
       "\n",
       "\n",
       "mpl.figure.prototype._canvas_extra_style = function(canvas_div) {\n",
       "\n",
       "}\n",
       "\n",
       "\n",
       "mpl.figure.prototype._root_extra_style = function(canvas_div) {\n",
       "\n",
       "}\n",
       "\n",
       "mpl.figure.prototype._init_canvas = function() {\n",
       "    var fig = this;\n",
       "\n",
       "    var canvas_div = $('<div/>');\n",
       "\n",
       "    canvas_div.attr('style', 'position: relative; clear: both; outline: 0');\n",
       "\n",
       "    function canvas_keyboard_event(event) {\n",
       "        return fig.key_event(event, event['data']);\n",
       "    }\n",
       "\n",
       "    canvas_div.keydown('key_press', canvas_keyboard_event);\n",
       "    canvas_div.keyup('key_release', canvas_keyboard_event);\n",
       "    this.canvas_div = canvas_div\n",
       "    this._canvas_extra_style(canvas_div)\n",
       "    this.root.append(canvas_div);\n",
       "\n",
       "    var canvas = $('<canvas/>');\n",
       "    canvas.addClass('mpl-canvas');\n",
       "    canvas.attr('style', \"left: 0; top: 0; z-index: 0; outline: 0\")\n",
       "\n",
       "    this.canvas = canvas[0];\n",
       "    this.context = canvas[0].getContext(\"2d\");\n",
       "\n",
       "    var rubberband = $('<canvas/>');\n",
       "    rubberband.attr('style', \"position: absolute; left: 0; top: 0; z-index: 1;\")\n",
       "\n",
       "    var pass_mouse_events = true;\n",
       "\n",
       "    canvas_div.resizable({\n",
       "        start: function(event, ui) {\n",
       "            pass_mouse_events = false;\n",
       "        },\n",
       "        resize: function(event, ui) {\n",
       "            fig.request_resize(ui.size.width, ui.size.height);\n",
       "        },\n",
       "        stop: function(event, ui) {\n",
       "            pass_mouse_events = true;\n",
       "            fig.request_resize(ui.size.width, ui.size.height);\n",
       "        },\n",
       "    });\n",
       "\n",
       "    function mouse_event_fn(event) {\n",
       "        if (pass_mouse_events)\n",
       "            return fig.mouse_event(event, event['data']);\n",
       "    }\n",
       "\n",
       "    rubberband.mousedown('button_press', mouse_event_fn);\n",
       "    rubberband.mouseup('button_release', mouse_event_fn);\n",
       "    // Throttle sequential mouse events to 1 every 20ms.\n",
       "    rubberband.mousemove('motion_notify', mouse_event_fn);\n",
       "\n",
       "    rubberband.mouseenter('figure_enter', mouse_event_fn);\n",
       "    rubberband.mouseleave('figure_leave', mouse_event_fn);\n",
       "\n",
       "    canvas_div.on(\"wheel\", function (event) {\n",
       "        event = event.originalEvent;\n",
       "        event['data'] = 'scroll'\n",
       "        if (event.deltaY < 0) {\n",
       "            event.step = 1;\n",
       "        } else {\n",
       "            event.step = -1;\n",
       "        }\n",
       "        mouse_event_fn(event);\n",
       "    });\n",
       "\n",
       "    canvas_div.append(canvas);\n",
       "    canvas_div.append(rubberband);\n",
       "\n",
       "    this.rubberband = rubberband;\n",
       "    this.rubberband_canvas = rubberband[0];\n",
       "    this.rubberband_context = rubberband[0].getContext(\"2d\");\n",
       "    this.rubberband_context.strokeStyle = \"#000000\";\n",
       "\n",
       "    this._resize_canvas = function(width, height) {\n",
       "        // Keep the size of the canvas, canvas container, and rubber band\n",
       "        // canvas in synch.\n",
       "        canvas_div.css('width', width)\n",
       "        canvas_div.css('height', height)\n",
       "\n",
       "        canvas.attr('width', width);\n",
       "        canvas.attr('height', height);\n",
       "\n",
       "        rubberband.attr('width', width);\n",
       "        rubberband.attr('height', height);\n",
       "    }\n",
       "\n",
       "    // Set the figure to an initial 600x600px, this will subsequently be updated\n",
       "    // upon first draw.\n",
       "    this._resize_canvas(600, 600);\n",
       "\n",
       "    // Disable right mouse context menu.\n",
       "    $(this.rubberband_canvas).bind(\"contextmenu\",function(e){\n",
       "        return false;\n",
       "    });\n",
       "\n",
       "    function set_focus () {\n",
       "        canvas.focus();\n",
       "        canvas_div.focus();\n",
       "    }\n",
       "\n",
       "    window.setTimeout(set_focus, 100);\n",
       "}\n",
       "\n",
       "mpl.figure.prototype._init_toolbar = function() {\n",
       "    var fig = this;\n",
       "\n",
       "    var nav_element = $('<div/>')\n",
       "    nav_element.attr('style', 'width: 100%');\n",
       "    this.root.append(nav_element);\n",
       "\n",
       "    // Define a callback function for later on.\n",
       "    function toolbar_event(event) {\n",
       "        return fig.toolbar_button_onclick(event['data']);\n",
       "    }\n",
       "    function toolbar_mouse_event(event) {\n",
       "        return fig.toolbar_button_onmouseover(event['data']);\n",
       "    }\n",
       "\n",
       "    for(var toolbar_ind in mpl.toolbar_items) {\n",
       "        var name = mpl.toolbar_items[toolbar_ind][0];\n",
       "        var tooltip = mpl.toolbar_items[toolbar_ind][1];\n",
       "        var image = mpl.toolbar_items[toolbar_ind][2];\n",
       "        var method_name = mpl.toolbar_items[toolbar_ind][3];\n",
       "\n",
       "        if (!name) {\n",
       "            // put a spacer in here.\n",
       "            continue;\n",
       "        }\n",
       "        var button = $('<button/>');\n",
       "        button.addClass('ui-button ui-widget ui-state-default ui-corner-all ' +\n",
       "                        'ui-button-icon-only');\n",
       "        button.attr('role', 'button');\n",
       "        button.attr('aria-disabled', 'false');\n",
       "        button.click(method_name, toolbar_event);\n",
       "        button.mouseover(tooltip, toolbar_mouse_event);\n",
       "\n",
       "        var icon_img = $('<span/>');\n",
       "        icon_img.addClass('ui-button-icon-primary ui-icon');\n",
       "        icon_img.addClass(image);\n",
       "        icon_img.addClass('ui-corner-all');\n",
       "\n",
       "        var tooltip_span = $('<span/>');\n",
       "        tooltip_span.addClass('ui-button-text');\n",
       "        tooltip_span.html(tooltip);\n",
       "\n",
       "        button.append(icon_img);\n",
       "        button.append(tooltip_span);\n",
       "\n",
       "        nav_element.append(button);\n",
       "    }\n",
       "\n",
       "    var fmt_picker_span = $('<span/>');\n",
       "\n",
       "    var fmt_picker = $('<select/>');\n",
       "    fmt_picker.addClass('mpl-toolbar-option ui-widget ui-widget-content');\n",
       "    fmt_picker_span.append(fmt_picker);\n",
       "    nav_element.append(fmt_picker_span);\n",
       "    this.format_dropdown = fmt_picker[0];\n",
       "\n",
       "    for (var ind in mpl.extensions) {\n",
       "        var fmt = mpl.extensions[ind];\n",
       "        var option = $(\n",
       "            '<option/>', {selected: fmt === mpl.default_extension}).html(fmt);\n",
       "        fmt_picker.append(option)\n",
       "    }\n",
       "\n",
       "    // Add hover states to the ui-buttons\n",
       "    $( \".ui-button\" ).hover(\n",
       "        function() { $(this).addClass(\"ui-state-hover\");},\n",
       "        function() { $(this).removeClass(\"ui-state-hover\");}\n",
       "    );\n",
       "\n",
       "    var status_bar = $('<span class=\"mpl-message\"/>');\n",
       "    nav_element.append(status_bar);\n",
       "    this.message = status_bar[0];\n",
       "}\n",
       "\n",
       "mpl.figure.prototype.request_resize = function(x_pixels, y_pixels) {\n",
       "    // Request matplotlib to resize the figure. Matplotlib will then trigger a resize in the client,\n",
       "    // which will in turn request a refresh of the image.\n",
       "    this.send_message('resize', {'width': x_pixels, 'height': y_pixels});\n",
       "}\n",
       "\n",
       "mpl.figure.prototype.send_message = function(type, properties) {\n",
       "    properties['type'] = type;\n",
       "    properties['figure_id'] = this.id;\n",
       "    this.ws.send(JSON.stringify(properties));\n",
       "}\n",
       "\n",
       "mpl.figure.prototype.send_draw_message = function() {\n",
       "    if (!this.waiting) {\n",
       "        this.waiting = true;\n",
       "        this.ws.send(JSON.stringify({type: \"draw\", figure_id: this.id}));\n",
       "    }\n",
       "}\n",
       "\n",
       "\n",
       "mpl.figure.prototype.handle_save = function(fig, msg) {\n",
       "    var format_dropdown = fig.format_dropdown;\n",
       "    var format = format_dropdown.options[format_dropdown.selectedIndex].value;\n",
       "    fig.ondownload(fig, format);\n",
       "}\n",
       "\n",
       "\n",
       "mpl.figure.prototype.handle_resize = function(fig, msg) {\n",
       "    var size = msg['size'];\n",
       "    if (size[0] != fig.canvas.width || size[1] != fig.canvas.height) {\n",
       "        fig._resize_canvas(size[0], size[1]);\n",
       "        fig.send_message(\"refresh\", {});\n",
       "    };\n",
       "}\n",
       "\n",
       "mpl.figure.prototype.handle_rubberband = function(fig, msg) {\n",
       "    var x0 = msg['x0'];\n",
       "    var y0 = fig.canvas.height - msg['y0'];\n",
       "    var x1 = msg['x1'];\n",
       "    var y1 = fig.canvas.height - msg['y1'];\n",
       "    x0 = Math.floor(x0) + 0.5;\n",
       "    y0 = Math.floor(y0) + 0.5;\n",
       "    x1 = Math.floor(x1) + 0.5;\n",
       "    y1 = Math.floor(y1) + 0.5;\n",
       "    var min_x = Math.min(x0, x1);\n",
       "    var min_y = Math.min(y0, y1);\n",
       "    var width = Math.abs(x1 - x0);\n",
       "    var height = Math.abs(y1 - y0);\n",
       "\n",
       "    fig.rubberband_context.clearRect(\n",
       "        0, 0, fig.canvas.width, fig.canvas.height);\n",
       "\n",
       "    fig.rubberband_context.strokeRect(min_x, min_y, width, height);\n",
       "}\n",
       "\n",
       "mpl.figure.prototype.handle_figure_label = function(fig, msg) {\n",
       "    // Updates the figure title.\n",
       "    fig.header.textContent = msg['label'];\n",
       "}\n",
       "\n",
       "mpl.figure.prototype.handle_cursor = function(fig, msg) {\n",
       "    var cursor = msg['cursor'];\n",
       "    switch(cursor)\n",
       "    {\n",
       "    case 0:\n",
       "        cursor = 'pointer';\n",
       "        break;\n",
       "    case 1:\n",
       "        cursor = 'default';\n",
       "        break;\n",
       "    case 2:\n",
       "        cursor = 'crosshair';\n",
       "        break;\n",
       "    case 3:\n",
       "        cursor = 'move';\n",
       "        break;\n",
       "    }\n",
       "    fig.rubberband_canvas.style.cursor = cursor;\n",
       "}\n",
       "\n",
       "mpl.figure.prototype.handle_message = function(fig, msg) {\n",
       "    fig.message.textContent = msg['message'];\n",
       "}\n",
       "\n",
       "mpl.figure.prototype.handle_draw = function(fig, msg) {\n",
       "    // Request the server to send over a new figure.\n",
       "    fig.send_draw_message();\n",
       "}\n",
       "\n",
       "mpl.figure.prototype.handle_image_mode = function(fig, msg) {\n",
       "    fig.image_mode = msg['mode'];\n",
       "}\n",
       "\n",
       "mpl.figure.prototype.updated_canvas_event = function() {\n",
       "    // Called whenever the canvas gets updated.\n",
       "    this.send_message(\"ack\", {});\n",
       "}\n",
       "\n",
       "// A function to construct a web socket function for onmessage handling.\n",
       "// Called in the figure constructor.\n",
       "mpl.figure.prototype._make_on_message_function = function(fig) {\n",
       "    return function socket_on_message(evt) {\n",
       "        if (evt.data instanceof Blob) {\n",
       "            /* FIXME: We get \"Resource interpreted as Image but\n",
       "             * transferred with MIME type text/plain:\" errors on\n",
       "             * Chrome.  But how to set the MIME type?  It doesn't seem\n",
       "             * to be part of the websocket stream */\n",
       "            evt.data.type = \"image/png\";\n",
       "\n",
       "            /* Free the memory for the previous frames */\n",
       "            if (fig.imageObj.src) {\n",
       "                (window.URL || window.webkitURL).revokeObjectURL(\n",
       "                    fig.imageObj.src);\n",
       "            }\n",
       "\n",
       "            fig.imageObj.src = (window.URL || window.webkitURL).createObjectURL(\n",
       "                evt.data);\n",
       "            fig.updated_canvas_event();\n",
       "            fig.waiting = false;\n",
       "            return;\n",
       "        }\n",
       "        else if (typeof evt.data === 'string' && evt.data.slice(0, 21) == \"data:image/png;base64\") {\n",
       "            fig.imageObj.src = evt.data;\n",
       "            fig.updated_canvas_event();\n",
       "            fig.waiting = false;\n",
       "            return;\n",
       "        }\n",
       "\n",
       "        var msg = JSON.parse(evt.data);\n",
       "        var msg_type = msg['type'];\n",
       "\n",
       "        // Call the  \"handle_{type}\" callback, which takes\n",
       "        // the figure and JSON message as its only arguments.\n",
       "        try {\n",
       "            var callback = fig[\"handle_\" + msg_type];\n",
       "        } catch (e) {\n",
       "            console.log(\"No handler for the '\" + msg_type + \"' message type: \", msg);\n",
       "            return;\n",
       "        }\n",
       "\n",
       "        if (callback) {\n",
       "            try {\n",
       "                // console.log(\"Handling '\" + msg_type + \"' message: \", msg);\n",
       "                callback(fig, msg);\n",
       "            } catch (e) {\n",
       "                console.log(\"Exception inside the 'handler_\" + msg_type + \"' callback:\", e, e.stack, msg);\n",
       "            }\n",
       "        }\n",
       "    };\n",
       "}\n",
       "\n",
       "// from http://stackoverflow.com/questions/1114465/getting-mouse-location-in-canvas\n",
       "mpl.findpos = function(e) {\n",
       "    //this section is from http://www.quirksmode.org/js/events_properties.html\n",
       "    var targ;\n",
       "    if (!e)\n",
       "        e = window.event;\n",
       "    if (e.target)\n",
       "        targ = e.target;\n",
       "    else if (e.srcElement)\n",
       "        targ = e.srcElement;\n",
       "    if (targ.nodeType == 3) // defeat Safari bug\n",
       "        targ = targ.parentNode;\n",
       "\n",
       "    // jQuery normalizes the pageX and pageY\n",
       "    // pageX,Y are the mouse positions relative to the document\n",
       "    // offset() returns the position of the element relative to the document\n",
       "    var x = e.pageX - $(targ).offset().left;\n",
       "    var y = e.pageY - $(targ).offset().top;\n",
       "\n",
       "    return {\"x\": x, \"y\": y};\n",
       "};\n",
       "\n",
       "/*\n",
       " * return a copy of an object with only non-object keys\n",
       " * we need this to avoid circular references\n",
       " * http://stackoverflow.com/a/24161582/3208463\n",
       " */\n",
       "function simpleKeys (original) {\n",
       "  return Object.keys(original).reduce(function (obj, key) {\n",
       "    if (typeof original[key] !== 'object')\n",
       "        obj[key] = original[key]\n",
       "    return obj;\n",
       "  }, {});\n",
       "}\n",
       "\n",
       "mpl.figure.prototype.mouse_event = function(event, name) {\n",
       "    var canvas_pos = mpl.findpos(event)\n",
       "\n",
       "    if (name === 'button_press')\n",
       "    {\n",
       "        this.canvas.focus();\n",
       "        this.canvas_div.focus();\n",
       "    }\n",
       "\n",
       "    var x = canvas_pos.x;\n",
       "    var y = canvas_pos.y;\n",
       "\n",
       "    this.send_message(name, {x: x, y: y, button: event.button,\n",
       "                             step: event.step,\n",
       "                             guiEvent: simpleKeys(event)});\n",
       "\n",
       "    /* This prevents the web browser from automatically changing to\n",
       "     * the text insertion cursor when the button is pressed.  We want\n",
       "     * to control all of the cursor setting manually through the\n",
       "     * 'cursor' event from matplotlib */\n",
       "    event.preventDefault();\n",
       "    return false;\n",
       "}\n",
       "\n",
       "mpl.figure.prototype._key_event_extra = function(event, name) {\n",
       "    // Handle any extra behaviour associated with a key event\n",
       "}\n",
       "\n",
       "mpl.figure.prototype.key_event = function(event, name) {\n",
       "\n",
       "    // Prevent repeat events\n",
       "    if (name == 'key_press')\n",
       "    {\n",
       "        if (event.which === this._key)\n",
       "            return;\n",
       "        else\n",
       "            this._key = event.which;\n",
       "    }\n",
       "    if (name == 'key_release')\n",
       "        this._key = null;\n",
       "\n",
       "    var value = '';\n",
       "    if (event.ctrlKey && event.which != 17)\n",
       "        value += \"ctrl+\";\n",
       "    if (event.altKey && event.which != 18)\n",
       "        value += \"alt+\";\n",
       "    if (event.shiftKey && event.which != 16)\n",
       "        value += \"shift+\";\n",
       "\n",
       "    value += 'k';\n",
       "    value += event.which.toString();\n",
       "\n",
       "    this._key_event_extra(event, name);\n",
       "\n",
       "    this.send_message(name, {key: value,\n",
       "                             guiEvent: simpleKeys(event)});\n",
       "    return false;\n",
       "}\n",
       "\n",
       "mpl.figure.prototype.toolbar_button_onclick = function(name) {\n",
       "    if (name == 'download') {\n",
       "        this.handle_save(this, null);\n",
       "    } else {\n",
       "        this.send_message(\"toolbar_button\", {name: name});\n",
       "    }\n",
       "};\n",
       "\n",
       "mpl.figure.prototype.toolbar_button_onmouseover = function(tooltip) {\n",
       "    this.message.textContent = tooltip;\n",
       "};\n",
       "mpl.toolbar_items = [[\"Home\", \"Reset original view\", \"fa fa-home icon-home\", \"home\"], [\"Back\", \"Back to  previous view\", \"fa fa-arrow-left icon-arrow-left\", \"back\"], [\"Forward\", \"Forward to next view\", \"fa fa-arrow-right icon-arrow-right\", \"forward\"], [\"\", \"\", \"\", \"\"], [\"Pan\", \"Pan axes with left mouse, zoom with right\", \"fa fa-arrows icon-move\", \"pan\"], [\"Zoom\", \"Zoom to rectangle\", \"fa fa-square-o icon-check-empty\", \"zoom\"], [\"\", \"\", \"\", \"\"], [\"Download\", \"Download plot\", \"fa fa-floppy-o icon-save\", \"download\"]];\n",
       "\n",
       "mpl.extensions = [\"eps\", \"jpeg\", \"pdf\", \"png\", \"ps\", \"raw\", \"svg\", \"tif\"];\n",
       "\n",
       "mpl.default_extension = \"png\";var comm_websocket_adapter = function(comm) {\n",
       "    // Create a \"websocket\"-like object which calls the given IPython comm\n",
       "    // object with the appropriate methods. Currently this is a non binary\n",
       "    // socket, so there is still some room for performance tuning.\n",
       "    var ws = {};\n",
       "\n",
       "    ws.close = function() {\n",
       "        comm.close()\n",
       "    };\n",
       "    ws.send = function(m) {\n",
       "        //console.log('sending', m);\n",
       "        comm.send(m);\n",
       "    };\n",
       "    // Register the callback with on_msg.\n",
       "    comm.on_msg(function(msg) {\n",
       "        //console.log('receiving', msg['content']['data'], msg);\n",
       "        // Pass the mpl event to the overriden (by mpl) onmessage function.\n",
       "        ws.onmessage(msg['content']['data'])\n",
       "    });\n",
       "    return ws;\n",
       "}\n",
       "\n",
       "mpl.mpl_figure_comm = function(comm, msg) {\n",
       "    // This is the function which gets called when the mpl process\n",
       "    // starts-up an IPython Comm through the \"matplotlib\" channel.\n",
       "\n",
       "    var id = msg.content.data.id;\n",
       "    // Get hold of the div created by the display call when the Comm\n",
       "    // socket was opened in Python.\n",
       "    var element = $(\"#\" + id);\n",
       "    var ws_proxy = comm_websocket_adapter(comm)\n",
       "\n",
       "    function ondownload(figure, format) {\n",
       "        window.open(figure.imageObj.src);\n",
       "    }\n",
       "\n",
       "    var fig = new mpl.figure(id, ws_proxy,\n",
       "                           ondownload,\n",
       "                           element.get(0));\n",
       "\n",
       "    // Call onopen now - mpl needs it, as it is assuming we've passed it a real\n",
       "    // web socket which is closed, not our websocket->open comm proxy.\n",
       "    ws_proxy.onopen();\n",
       "\n",
       "    fig.parent_element = element.get(0);\n",
       "    fig.cell_info = mpl.find_output_cell(\"<div id='\" + id + \"'></div>\");\n",
       "    if (!fig.cell_info) {\n",
       "        console.error(\"Failed to find cell for figure\", id, fig);\n",
       "        return;\n",
       "    }\n",
       "\n",
       "    var output_index = fig.cell_info[2]\n",
       "    var cell = fig.cell_info[0];\n",
       "\n",
       "};\n",
       "\n",
       "mpl.figure.prototype.handle_close = function(fig, msg) {\n",
       "    fig.root.unbind('remove')\n",
       "\n",
       "    // Update the output cell to use the data from the current canvas.\n",
       "    fig.push_to_output();\n",
       "    var dataURL = fig.canvas.toDataURL();\n",
       "    // Re-enable the keyboard manager in IPython - without this line, in FF,\n",
       "    // the notebook keyboard shortcuts fail.\n",
       "    IPython.keyboard_manager.enable()\n",
       "    $(fig.parent_element).html('<img src=\"' + dataURL + '\">');\n",
       "    fig.close_ws(fig, msg);\n",
       "}\n",
       "\n",
       "mpl.figure.prototype.close_ws = function(fig, msg){\n",
       "    fig.send_message('closing', msg);\n",
       "    // fig.ws.close()\n",
       "}\n",
       "\n",
       "mpl.figure.prototype.push_to_output = function(remove_interactive) {\n",
       "    // Turn the data on the canvas into data in the output cell.\n",
       "    var dataURL = this.canvas.toDataURL();\n",
       "    this.cell_info[1]['text/html'] = '<img src=\"' + dataURL + '\">';\n",
       "}\n",
       "\n",
       "mpl.figure.prototype.updated_canvas_event = function() {\n",
       "    // Tell IPython that the notebook contents must change.\n",
       "    IPython.notebook.set_dirty(true);\n",
       "    this.send_message(\"ack\", {});\n",
       "    var fig = this;\n",
       "    // Wait a second, then push the new image to the DOM so\n",
       "    // that it is saved nicely (might be nice to debounce this).\n",
       "    setTimeout(function () { fig.push_to_output() }, 1000);\n",
       "}\n",
       "\n",
       "mpl.figure.prototype._init_toolbar = function() {\n",
       "    var fig = this;\n",
       "\n",
       "    var nav_element = $('<div/>')\n",
       "    nav_element.attr('style', 'width: 100%');\n",
       "    this.root.append(nav_element);\n",
       "\n",
       "    // Define a callback function for later on.\n",
       "    function toolbar_event(event) {\n",
       "        return fig.toolbar_button_onclick(event['data']);\n",
       "    }\n",
       "    function toolbar_mouse_event(event) {\n",
       "        return fig.toolbar_button_onmouseover(event['data']);\n",
       "    }\n",
       "\n",
       "    for(var toolbar_ind in mpl.toolbar_items){\n",
       "        var name = mpl.toolbar_items[toolbar_ind][0];\n",
       "        var tooltip = mpl.toolbar_items[toolbar_ind][1];\n",
       "        var image = mpl.toolbar_items[toolbar_ind][2];\n",
       "        var method_name = mpl.toolbar_items[toolbar_ind][3];\n",
       "\n",
       "        if (!name) { continue; };\n",
       "\n",
       "        var button = $('<button class=\"btn btn-default\" href=\"#\" title=\"' + name + '\"><i class=\"fa ' + image + ' fa-lg\"></i></button>');\n",
       "        button.click(method_name, toolbar_event);\n",
       "        button.mouseover(tooltip, toolbar_mouse_event);\n",
       "        nav_element.append(button);\n",
       "    }\n",
       "\n",
       "    // Add the status bar.\n",
       "    var status_bar = $('<span class=\"mpl-message\" style=\"text-align:right; float: right;\"/>');\n",
       "    nav_element.append(status_bar);\n",
       "    this.message = status_bar[0];\n",
       "\n",
       "    // Add the close button to the window.\n",
       "    var buttongrp = $('<div class=\"btn-group inline pull-right\"></div>');\n",
       "    var button = $('<button class=\"btn btn-mini btn-primary\" href=\"#\" title=\"Stop Interaction\"><i class=\"fa fa-power-off icon-remove icon-large\"></i></button>');\n",
       "    button.click(function (evt) { fig.handle_close(fig, {}); } );\n",
       "    button.mouseover('Stop Interaction', toolbar_mouse_event);\n",
       "    buttongrp.append(button);\n",
       "    var titlebar = this.root.find($('.ui-dialog-titlebar'));\n",
       "    titlebar.prepend(buttongrp);\n",
       "}\n",
       "\n",
       "mpl.figure.prototype._root_extra_style = function(el){\n",
       "    var fig = this\n",
       "    el.on(\"remove\", function(){\n",
       "\tfig.close_ws(fig, {});\n",
       "    });\n",
       "}\n",
       "\n",
       "mpl.figure.prototype._canvas_extra_style = function(el){\n",
       "    // this is important to make the div 'focusable\n",
       "    el.attr('tabindex', 0)\n",
       "    // reach out to IPython and tell the keyboard manager to turn it's self\n",
       "    // off when our div gets focus\n",
       "\n",
       "    // location in version 3\n",
       "    if (IPython.notebook.keyboard_manager) {\n",
       "        IPython.notebook.keyboard_manager.register_events(el);\n",
       "    }\n",
       "    else {\n",
       "        // location in version 2\n",
       "        IPython.keyboard_manager.register_events(el);\n",
       "    }\n",
       "\n",
       "}\n",
       "\n",
       "mpl.figure.prototype._key_event_extra = function(event, name) {\n",
       "    var manager = IPython.notebook.keyboard_manager;\n",
       "    if (!manager)\n",
       "        manager = IPython.keyboard_manager;\n",
       "\n",
       "    // Check for shift+enter\n",
       "    if (event.shiftKey && event.which == 13) {\n",
       "        this.canvas_div.blur();\n",
       "        event.shiftKey = false;\n",
       "        // Send a \"J\" for go to next cell\n",
       "        event.which = 74;\n",
       "        event.keyCode = 74;\n",
       "        manager.command_mode();\n",
       "        manager.handle_keydown(event);\n",
       "    }\n",
       "}\n",
       "\n",
       "mpl.figure.prototype.handle_save = function(fig, msg) {\n",
       "    fig.ondownload(fig, null);\n",
       "}\n",
       "\n",
       "\n",
       "mpl.find_output_cell = function(html_output) {\n",
       "    // Return the cell and output element which can be found *uniquely* in the notebook.\n",
       "    // Note - this is a bit hacky, but it is done because the \"notebook_saving.Notebook\"\n",
       "    // IPython event is triggered only after the cells have been serialised, which for\n",
       "    // our purposes (turning an active figure into a static one), is too late.\n",
       "    var cells = IPython.notebook.get_cells();\n",
       "    var ncells = cells.length;\n",
       "    for (var i=0; i<ncells; i++) {\n",
       "        var cell = cells[i];\n",
       "        if (cell.cell_type === 'code'){\n",
       "            for (var j=0; j<cell.output_area.outputs.length; j++) {\n",
       "                var data = cell.output_area.outputs[j];\n",
       "                if (data.data) {\n",
       "                    // IPython >= 3 moved mimebundle to data attribute of output\n",
       "                    data = data.data;\n",
       "                }\n",
       "                if (data['text/html'] == html_output) {\n",
       "                    return [cell, data, j];\n",
       "                }\n",
       "            }\n",
       "        }\n",
       "    }\n",
       "}\n",
       "\n",
       "// Register the function which deals with the matplotlib target/channel.\n",
       "// The kernel may be null if the page has been refreshed.\n",
       "if (IPython.notebook.kernel != null) {\n",
       "    IPython.notebook.kernel.comm_manager.register_target('matplotlib', mpl.mpl_figure_comm);\n",
       "}\n"
      ],
      "text/plain": [
       "<IPython.core.display.Javascript object>"
      ]
     },
     "metadata": {},
     "output_type": "display_data"
    },
    {
     "data": {
      "text/html": [
       "<img src=\"data:image/png;base64,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\">"
      ],
      "text/plain": [
       "<IPython.core.display.HTML object>"
      ]
     },
     "metadata": {},
     "output_type": "display_data"
    },
    {
     "data": {
      "text/plain": [
       "<matplotlib.axes._subplots.AxesSubplot at 0x122deb240>"
      ]
     },
     "execution_count": 26,
     "metadata": {},
     "output_type": "execute_result"
    }
   ],
   "source": [
    "path_lasso = lm.lasso_path((Xt - Xt.mean())/Xt.std(), Yt)\n",
    "pd.DataFrame(path_lasso[1].T, index = path_lasso[0], columns = X.columns).plot()"
   ]
  },
  {
   "cell_type": "markdown",
   "metadata": {
    "slideshow": {
     "slide_type": "subslide"
    }
   },
   "source": [
    "## Scikit-learn(4.1): Decision Tree Models\n",
    "- Can we detect non-linear relationship without adding polynomial terms?\n",
    "- Non-linear models: e.g. tree-based methods $\\hat{Y} = Tree(X, \\theta)$"
   ]
  },
  {
   "cell_type": "code",
   "execution_count": 27,
   "metadata": {
    "collapsed": false,
    "slideshow": {
     "slide_type": "fragment"
    }
   },
   "outputs": [
    {
     "data": {
      "text/plain": [
       "loss_train        26.107\n",
       "loss_val      743744.096\n",
       "dtype: float64"
      ]
     },
     "execution_count": 27,
     "metadata": {},
     "output_type": "execute_result"
    }
   ],
   "source": [
    "import sklearn.tree as tree\n",
    "md_tree = cv_train(X, Y, ir_cv, tree.DecisionTreeRegressor)\n",
    "md_tree[\"loss\"].mean()"
   ]
  },
  {
   "cell_type": "code",
   "execution_count": 28,
   "metadata": {
    "collapsed": false,
    "scrolled": true
   },
   "outputs": [
    {
     "data": {
      "text/plain": [
       "cut_Very Good    2.735e-04\n",
       "cut_Good         4.159e-04\n",
       "                   ...    \n",
       "y                2.598e-01\n",
       "carat            6.303e-01\n",
       "dtype: float64"
      ]
     },
     "execution_count": 28,
     "metadata": {},
     "output_type": "execute_result"
    }
   ],
   "source": [
    "# The distribution of variable used as tree split\n",
    "wL_tree = [model.feature_importances_ for model in md_tree[\"modelL\"]]\n",
    "pd.DataFrame(wL_tree, columns = X.columns).mean().sort_values()"
   ]
  },
  {
   "cell_type": "code",
   "execution_count": 29,
   "metadata": {
    "collapsed": false
   },
   "outputs": [
    {
     "data": {
      "text/plain": [
       "loss_train    166954.960\n",
       "loss_val      669473.576\n",
       "dtype: float64"
      ]
     },
     "execution_count": 29,
     "metadata": {},
     "output_type": "execute_result"
    }
   ],
   "source": [
    "# Limit the depth of tree to control model complexity\n",
    "cv_train(X, Y, ir_cv, tree.DecisionTreeRegressor, max_depth = 15)[\"loss\"].mean()"
   ]
  },
  {
   "cell_type": "markdown",
   "metadata": {
    "slideshow": {
     "slide_type": "subslide"
    }
   },
   "source": [
    "## Scikit-learn(4.2): Random Forest"
   ]
  },
  {
   "cell_type": "markdown",
   "metadata": {},
   "source": [
    "- Build $M$ trees at the same time in each model\n",
    "- To increase diversity of trees, when building each tree $\\hat{\\theta}_i$:\n",
    "    - Randomly bootstrap $(X, Y)$ to $(X_{(i)}, Y_{(i)})$ \n",
    "    - Randomly select a subset of variables $\\Theta_{i}$\n",
    "- $\\hat{\\theta}_i  = \\arg\\min_{\\theta_i \\in \\Theta_{i}}L\\left(Y_{(i)}, Tree(X_{(i)}, \\theta_i)\\right)$\n",
    "- $\\hat{Y} = \\frac{1}{M}\\sum_{i=1}^M Tree(X, \\hat{\\theta}_i)$"
   ]
  },
  {
   "cell_type": "code",
   "execution_count": 30,
   "metadata": {
    "collapsed": false,
    "slideshow": {
     "slide_type": "fragment"
    }
   },
   "outputs": [
    {
     "data": {
      "text/plain": [
       "loss_train     84272.896\n",
       "loss_val      452528.303\n",
       "dtype: float64"
      ]
     },
     "execution_count": 30,
     "metadata": {},
     "output_type": "execute_result"
    }
   ],
   "source": [
    "import sklearn.ensemble as ensm\n",
    "md_rf = cv_train(X, Y, ir_cv, ensm.RandomForestRegressor, n_estimators=10)\n",
    "md_rf[\"loss\"].mean()"
   ]
  },
  {
   "cell_type": "code",
   "execution_count": 31,
   "metadata": {
    "collapsed": false
   },
   "outputs": [
    {
     "data": {
      "text/plain": [
       "cut_Very Good    3.324e-04\n",
       "cut_Good         4.420e-04\n",
       "                   ...    \n",
       "carat            4.139e-01\n",
       "y                4.714e-01\n",
       "dtype: float64"
      ]
     },
     "execution_count": 31,
     "metadata": {},
     "output_type": "execute_result"
    }
   ],
   "source": [
    "wL_rf = [model.feature_importances_ for model in md_rf[\"modelL\"]]\n",
    "pd.DataFrame(wL_rf, columns = X.columns).mean().sort_values()"
   ]
  },
  {
   "cell_type": "code",
   "execution_count": 32,
   "metadata": {
    "collapsed": false
   },
   "outputs": [
    {
     "data": {
      "text/plain": [
       "482715.59347832418"
      ]
     },
     "execution_count": 32,
     "metadata": {},
     "output_type": "execute_result"
    }
   ],
   "source": [
    "np.mean(cv_pred(Xp, Yp, md_rf[\"modelL\"])['lossL'])"
   ]
  },
  {
   "cell_type": "markdown",
   "metadata": {
    "slideshow": {
     "slide_type": "subslide"
    }
   },
   "source": [
    "## Scikit-learn(4.3): Gradient Boosting Trees"
   ]
  },
  {
   "cell_type": "markdown",
   "metadata": {},
   "source": [
    "- Build $M$ trees stepwisely for residuals in each model\n",
    "- To reduce over-fitting, when building each tree $\\hat{\\theta}_i$:\n",
    "    - Restrict max depth of tree\n",
    "    - Restrict step size $\\eta < 1$\n",
    "- $\\hat{\\theta}_i  = \\arg\\min_{\\theta_i \\in \\Theta}L\\left(Y - \\eta\\sum_{j=1}^{i-1}Tree(X, \\theta_j), Tree(X, \\theta_i)\\right)$\n",
    "- $\\hat{Y} = \\eta\\sum_{i=1}^M Tree(X, \\hat{\\theta}_i)$"
   ]
  },
  {
   "cell_type": "code",
   "execution_count": 33,
   "metadata": {
    "collapsed": false,
    "scrolled": true,
    "slideshow": {
     "slide_type": "fragment"
    }
   },
   "outputs": [
    {
     "data": {
      "text/plain": [
       "loss_train    294816.887\n",
       "loss_val      414659.551\n",
       "dtype: float64"
      ]
     },
     "execution_count": 33,
     "metadata": {},
     "output_type": "execute_result"
    }
   ],
   "source": [
    "md_gbt = cv_train(X, Y, ir_cv, ensm.GradientBoostingRegressor, n_estimators = 300, learning_rate = 0.3)\n",
    "md_gbt[\"loss\"].mean()"
   ]
  },
  {
   "cell_type": "code",
   "execution_count": 34,
   "metadata": {
    "collapsed": false
   },
   "outputs": [
    {
     "data": {
      "text/plain": [
       "cut_Very Good    0.001\n",
       "cut_Good         0.002\n",
       "                 ...  \n",
       "carat            0.131\n",
       "y                0.180\n",
       "dtype: float64"
      ]
     },
     "execution_count": 34,
     "metadata": {},
     "output_type": "execute_result"
    }
   ],
   "source": [
    "wL_gbt = [model.feature_importances_ for model in md_gbt[\"modelL\"]]\n",
    "pd.DataFrame(wL_gbt, columns = X.columns).mean().sort_values()"
   ]
  },
  {
   "cell_type": "code",
   "execution_count": 35,
   "metadata": {
    "collapsed": false
   },
   "outputs": [
    {
     "data": {
      "text/plain": [
       "444176.13327725837"
      ]
     },
     "execution_count": 35,
     "metadata": {},
     "output_type": "execute_result"
    }
   ],
   "source": [
    "np.mean(cv_pred(Xp, Yp, md_gbt[\"modelL\"])['lossL'])"
   ]
  }
 ],
 "metadata": {
  "kernelspec": {
   "display_name": "Python 3",
   "language": "python",
   "name": "python3"
  },
  "language_info": {
   "codemirror_mode": {
    "name": "ipython",
    "version": 3
   },
   "file_extension": ".py",
   "mimetype": "text/x-python",
   "name": "python",
   "nbconvert_exporter": "python",
   "pygments_lexer": "ipython3",
   "version": "3.6.4"
  }
 },
 "nbformat": 4,
 "nbformat_minor": 2
}
