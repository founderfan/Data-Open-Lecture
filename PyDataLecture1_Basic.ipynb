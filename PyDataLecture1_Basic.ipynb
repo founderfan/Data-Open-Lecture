{
 "cells": [
  {
   "cell_type": "markdown",
   "metadata": {
    "slideshow": {
     "slide_type": "slide"
    }
   },
   "source": [
    "# Data Open Lecture: An Introduction of Python\n",
    "\n",
    "### Fangda Fan\n",
    "\n",
    "### Dec 2016"
   ]
  },
  {
   "cell_type": "raw",
   "metadata": {
    "slideshow": {
     "slide_type": "skip"
    }
   },
   "source": [
    "jupyter-nbconvert --to slides ./PythonDataLecture.ipynb --reveal-prefix=reveal.js"
   ]
  },
  {
   "cell_type": "markdown",
   "metadata": {
    "slideshow": {
     "slide_type": "slide"
    }
   },
   "source": [
    "## Contents\n",
    "\n",
    "- Basic Python Syntax\n",
    "- Numpy Array for Vectorize Operation\n",
    "- Pandas DataFrame for Data Analysis\n",
    "- Statsmodels for Statistical Modeling\n",
    "- Scikit-learn for Machine Learning\n",
    "- Review: Data Analysis for Titanic"
   ]
  },
  {
   "cell_type": "markdown",
   "metadata": {
    "slideshow": {
     "slide_type": "subslide"
    }
   },
   "source": [
    "## Preparation\n",
    "\n",
    "- Bring your laptop\n",
    "- Download and Install [Anaconda](https://www.continuum.io/downloads) (Python 3.5 version)\n",
    "- Open Jupyter Notebook\n",
    "- Create a new notebook: Right-upper area $\\rightarrow$ New $\\rightarrow$ Notebooks $\\rightarrow$ Python\n",
    "- Be ready to type in code!"
   ]
  },
  {
   "cell_type": "markdown",
   "metadata": {
    "slideshow": {
     "slide_type": "subslide"
    }
   },
   "source": [
    "## Our Goal\n",
    "\n",
    "- Focus on how to *analyze data* with Python\n",
    "- Not a Python tutorial\n",
    "- Final Project: Make a good submission on [Titanic](https://www.kaggle.com/c/titanic) of [Kaggle](https://www.kaggle.com/) (a machine learning competition website)"
   ]
  },
  {
   "cell_type": "markdown",
   "metadata": {
    "slideshow": {
     "slide_type": "subslide"
    }
   },
   "source": [
    "## What is Python?\n",
    "\n",
    "- A widely used high-level, general-purpose language\n",
    "- Highly readable\n",
    "- Abundant Modules\n",
    "- A [comparsion](https://www.datacamp.com/community/tutorials/r-or-python-for-data-analysis) between Python and R\n",
    "- A [poll](http://www.kdnuggets.com/polls/2015/r-vs-python.html): Primary programming language for Analytics, Data Mining, Data Science tasks:\n",
    "    - R: 51% (2015) vs. 46% (2014)\n",
    "    - Python: 29% (2015) vs. 23% (2014)\n",
    "    - Others(Java, Matlab, SAS, etc): 17% (2015) vs. 23% (2014)\n",
    "    - None: 2% (2015) vs. 8% (2014)"
   ]
  },
  {
   "cell_type": "code",
   "execution_count": 1,
   "metadata": {
    "collapsed": false,
    "slideshow": {
     "slide_type": "fragment"
    }
   },
   "outputs": [
    {
     "data": {
      "text/html": [
       "<div>\n",
       "<table border=\"1\" class=\"dataframe\">\n",
       "  <thead>\n",
       "    <tr style=\"text-align: right;\">\n",
       "      <th></th>\n",
       "      <th>2015</th>\n",
       "      <th>2014</th>\n",
       "    </tr>\n",
       "  </thead>\n",
       "  <tbody>\n",
       "    <tr>\n",
       "      <th>R</th>\n",
       "      <td>51</td>\n",
       "      <td>46</td>\n",
       "    </tr>\n",
       "    <tr>\n",
       "      <th>Python</th>\n",
       "      <td>29</td>\n",
       "      <td>23</td>\n",
       "    </tr>\n",
       "    <tr>\n",
       "      <th>Others</th>\n",
       "      <td>17</td>\n",
       "      <td>23</td>\n",
       "    </tr>\n",
       "    <tr>\n",
       "      <th>None</th>\n",
       "      <td>2</td>\n",
       "      <td>8</td>\n",
       "    </tr>\n",
       "  </tbody>\n",
       "</table>\n",
       "</div>"
      ],
      "text/plain": [
       "        2015  2014\n",
       "R         51    46\n",
       "Python    29    23\n",
       "Others    17    23\n",
       "None       2     8"
      ]
     },
     "execution_count": 1,
     "metadata": {},
     "output_type": "execute_result"
    }
   ],
   "source": [
    "import pandas as pd\n",
    "da = pd.DataFrame([[51, 46], [29, 23], [17, 23], [2, 8]], \n",
    "                  index = [\"R\", \"Python\", \"Others\", \"None\"], \n",
    "                  columns = [\"2015\", \"2014\"])\n",
    "da"
   ]
  },
  {
   "cell_type": "code",
   "execution_count": 2,
   "metadata": {
    "collapsed": true
   },
   "outputs": [],
   "source": [
    "?da.plot"
   ]
  },
  {
   "cell_type": "code",
   "execution_count": 2,
   "metadata": {
    "collapsed": false,
    "slideshow": {
     "slide_type": "subslide"
    }
   },
   "outputs": [
    {
     "data": {
      "text/plain": [
       "R         48.5\n",
       "Python    26.0\n",
       "Others    20.0\n",
       "None       5.0\n",
       "dtype: float64"
      ]
     },
     "execution_count": 2,
     "metadata": {},
     "output_type": "execute_result"
    }
   ],
   "source": [
    "da.mean(axis = 1)"
   ]
  },
  {
   "cell_type": "code",
   "execution_count": 3,
   "metadata": {
    "collapsed": false,
    "slideshow": {
     "slide_type": "fragment"
    }
   },
   "outputs": [
    {
     "data": {
      "application/javascript": [
       "/* Put everything inside the global mpl namespace */\n",
       "window.mpl = {};\n",
       "\n",
       "mpl.get_websocket_type = function() {\n",
       "    if (typeof(WebSocket) !== 'undefined') {\n",
       "        return WebSocket;\n",
       "    } else if (typeof(MozWebSocket) !== 'undefined') {\n",
       "        return MozWebSocket;\n",
       "    } else {\n",
       "        alert('Your browser does not have WebSocket support.' +\n",
       "              'Please try Chrome, Safari or Firefox ≥ 6. ' +\n",
       "              'Firefox 4 and 5 are also supported but you ' +\n",
       "              'have to enable WebSockets in about:config.');\n",
       "    };\n",
       "}\n",
       "\n",
       "mpl.figure = function(figure_id, websocket, ondownload, parent_element) {\n",
       "    this.id = figure_id;\n",
       "\n",
       "    this.ws = websocket;\n",
       "\n",
       "    this.supports_binary = (this.ws.binaryType != undefined);\n",
       "\n",
       "    if (!this.supports_binary) {\n",
       "        var warnings = document.getElementById(\"mpl-warnings\");\n",
       "        if (warnings) {\n",
       "            warnings.style.display = 'block';\n",
       "            warnings.textContent = (\n",
       "                \"This browser does not support binary websocket messages. \" +\n",
       "                    \"Performance may be slow.\");\n",
       "        }\n",
       "    }\n",
       "\n",
       "    this.imageObj = new Image();\n",
       "\n",
       "    this.context = undefined;\n",
       "    this.message = undefined;\n",
       "    this.canvas = undefined;\n",
       "    this.rubberband_canvas = undefined;\n",
       "    this.rubberband_context = undefined;\n",
       "    this.format_dropdown = undefined;\n",
       "\n",
       "    this.image_mode = 'full';\n",
       "\n",
       "    this.root = $('<div/>');\n",
       "    this._root_extra_style(this.root)\n",
       "    this.root.attr('style', 'display: inline-block');\n",
       "\n",
       "    $(parent_element).append(this.root);\n",
       "\n",
       "    this._init_header(this);\n",
       "    this._init_canvas(this);\n",
       "    this._init_toolbar(this);\n",
       "\n",
       "    var fig = this;\n",
       "\n",
       "    this.waiting = false;\n",
       "\n",
       "    this.ws.onopen =  function () {\n",
       "            fig.send_message(\"supports_binary\", {value: fig.supports_binary});\n",
       "            fig.send_message(\"send_image_mode\", {});\n",
       "            fig.send_message(\"refresh\", {});\n",
       "        }\n",
       "\n",
       "    this.imageObj.onload = function() {\n",
       "            if (fig.image_mode == 'full') {\n",
       "                // Full images could contain transparency (where diff images\n",
       "                // almost always do), so we need to clear the canvas so that\n",
       "                // there is no ghosting.\n",
       "                fig.context.clearRect(0, 0, fig.canvas.width, fig.canvas.height);\n",
       "            }\n",
       "            fig.context.drawImage(fig.imageObj, 0, 0);\n",
       "        };\n",
       "\n",
       "    this.imageObj.onunload = function() {\n",
       "        this.ws.close();\n",
       "    }\n",
       "\n",
       "    this.ws.onmessage = this._make_on_message_function(this);\n",
       "\n",
       "    this.ondownload = ondownload;\n",
       "}\n",
       "\n",
       "mpl.figure.prototype._init_header = function() {\n",
       "    var titlebar = $(\n",
       "        '<div class=\"ui-dialog-titlebar ui-widget-header ui-corner-all ' +\n",
       "        'ui-helper-clearfix\"/>');\n",
       "    var titletext = $(\n",
       "        '<div class=\"ui-dialog-title\" style=\"width: 100%; ' +\n",
       "        'text-align: center; padding: 3px;\"/>');\n",
       "    titlebar.append(titletext)\n",
       "    this.root.append(titlebar);\n",
       "    this.header = titletext[0];\n",
       "}\n",
       "\n",
       "\n",
       "\n",
       "mpl.figure.prototype._canvas_extra_style = function(canvas_div) {\n",
       "\n",
       "}\n",
       "\n",
       "\n",
       "mpl.figure.prototype._root_extra_style = function(canvas_div) {\n",
       "\n",
       "}\n",
       "\n",
       "mpl.figure.prototype._init_canvas = function() {\n",
       "    var fig = this;\n",
       "\n",
       "    var canvas_div = $('<div/>');\n",
       "\n",
       "    canvas_div.attr('style', 'position: relative; clear: both; outline: 0');\n",
       "\n",
       "    function canvas_keyboard_event(event) {\n",
       "        return fig.key_event(event, event['data']);\n",
       "    }\n",
       "\n",
       "    canvas_div.keydown('key_press', canvas_keyboard_event);\n",
       "    canvas_div.keyup('key_release', canvas_keyboard_event);\n",
       "    this.canvas_div = canvas_div\n",
       "    this._canvas_extra_style(canvas_div)\n",
       "    this.root.append(canvas_div);\n",
       "\n",
       "    var canvas = $('<canvas/>');\n",
       "    canvas.addClass('mpl-canvas');\n",
       "    canvas.attr('style', \"left: 0; top: 0; z-index: 0; outline: 0\")\n",
       "\n",
       "    this.canvas = canvas[0];\n",
       "    this.context = canvas[0].getContext(\"2d\");\n",
       "\n",
       "    var rubberband = $('<canvas/>');\n",
       "    rubberband.attr('style', \"position: absolute; left: 0; top: 0; z-index: 1;\")\n",
       "\n",
       "    var pass_mouse_events = true;\n",
       "\n",
       "    canvas_div.resizable({\n",
       "        start: function(event, ui) {\n",
       "            pass_mouse_events = false;\n",
       "        },\n",
       "        resize: function(event, ui) {\n",
       "            fig.request_resize(ui.size.width, ui.size.height);\n",
       "        },\n",
       "        stop: function(event, ui) {\n",
       "            pass_mouse_events = true;\n",
       "            fig.request_resize(ui.size.width, ui.size.height);\n",
       "        },\n",
       "    });\n",
       "\n",
       "    function mouse_event_fn(event) {\n",
       "        if (pass_mouse_events)\n",
       "            return fig.mouse_event(event, event['data']);\n",
       "    }\n",
       "\n",
       "    rubberband.mousedown('button_press', mouse_event_fn);\n",
       "    rubberband.mouseup('button_release', mouse_event_fn);\n",
       "    // Throttle sequential mouse events to 1 every 20ms.\n",
       "    rubberband.mousemove('motion_notify', mouse_event_fn);\n",
       "\n",
       "    rubberband.mouseenter('figure_enter', mouse_event_fn);\n",
       "    rubberband.mouseleave('figure_leave', mouse_event_fn);\n",
       "\n",
       "    canvas_div.on(\"wheel\", function (event) {\n",
       "        event = event.originalEvent;\n",
       "        event['data'] = 'scroll'\n",
       "        if (event.deltaY < 0) {\n",
       "            event.step = 1;\n",
       "        } else {\n",
       "            event.step = -1;\n",
       "        }\n",
       "        mouse_event_fn(event);\n",
       "    });\n",
       "\n",
       "    canvas_div.append(canvas);\n",
       "    canvas_div.append(rubberband);\n",
       "\n",
       "    this.rubberband = rubberband;\n",
       "    this.rubberband_canvas = rubberband[0];\n",
       "    this.rubberband_context = rubberband[0].getContext(\"2d\");\n",
       "    this.rubberband_context.strokeStyle = \"#000000\";\n",
       "\n",
       "    this._resize_canvas = function(width, height) {\n",
       "        // Keep the size of the canvas, canvas container, and rubber band\n",
       "        // canvas in synch.\n",
       "        canvas_div.css('width', width)\n",
       "        canvas_div.css('height', height)\n",
       "\n",
       "        canvas.attr('width', width);\n",
       "        canvas.attr('height', height);\n",
       "\n",
       "        rubberband.attr('width', width);\n",
       "        rubberband.attr('height', height);\n",
       "    }\n",
       "\n",
       "    // Set the figure to an initial 600x600px, this will subsequently be updated\n",
       "    // upon first draw.\n",
       "    this._resize_canvas(600, 600);\n",
       "\n",
       "    // Disable right mouse context menu.\n",
       "    $(this.rubberband_canvas).bind(\"contextmenu\",function(e){\n",
       "        return false;\n",
       "    });\n",
       "\n",
       "    function set_focus () {\n",
       "        canvas.focus();\n",
       "        canvas_div.focus();\n",
       "    }\n",
       "\n",
       "    window.setTimeout(set_focus, 100);\n",
       "}\n",
       "\n",
       "mpl.figure.prototype._init_toolbar = function() {\n",
       "    var fig = this;\n",
       "\n",
       "    var nav_element = $('<div/>')\n",
       "    nav_element.attr('style', 'width: 100%');\n",
       "    this.root.append(nav_element);\n",
       "\n",
       "    // Define a callback function for later on.\n",
       "    function toolbar_event(event) {\n",
       "        return fig.toolbar_button_onclick(event['data']);\n",
       "    }\n",
       "    function toolbar_mouse_event(event) {\n",
       "        return fig.toolbar_button_onmouseover(event['data']);\n",
       "    }\n",
       "\n",
       "    for(var toolbar_ind in mpl.toolbar_items) {\n",
       "        var name = mpl.toolbar_items[toolbar_ind][0];\n",
       "        var tooltip = mpl.toolbar_items[toolbar_ind][1];\n",
       "        var image = mpl.toolbar_items[toolbar_ind][2];\n",
       "        var method_name = mpl.toolbar_items[toolbar_ind][3];\n",
       "\n",
       "        if (!name) {\n",
       "            // put a spacer in here.\n",
       "            continue;\n",
       "        }\n",
       "        var button = $('<button/>');\n",
       "        button.addClass('ui-button ui-widget ui-state-default ui-corner-all ' +\n",
       "                        'ui-button-icon-only');\n",
       "        button.attr('role', 'button');\n",
       "        button.attr('aria-disabled', 'false');\n",
       "        button.click(method_name, toolbar_event);\n",
       "        button.mouseover(tooltip, toolbar_mouse_event);\n",
       "\n",
       "        var icon_img = $('<span/>');\n",
       "        icon_img.addClass('ui-button-icon-primary ui-icon');\n",
       "        icon_img.addClass(image);\n",
       "        icon_img.addClass('ui-corner-all');\n",
       "\n",
       "        var tooltip_span = $('<span/>');\n",
       "        tooltip_span.addClass('ui-button-text');\n",
       "        tooltip_span.html(tooltip);\n",
       "\n",
       "        button.append(icon_img);\n",
       "        button.append(tooltip_span);\n",
       "\n",
       "        nav_element.append(button);\n",
       "    }\n",
       "\n",
       "    var fmt_picker_span = $('<span/>');\n",
       "\n",
       "    var fmt_picker = $('<select/>');\n",
       "    fmt_picker.addClass('mpl-toolbar-option ui-widget ui-widget-content');\n",
       "    fmt_picker_span.append(fmt_picker);\n",
       "    nav_element.append(fmt_picker_span);\n",
       "    this.format_dropdown = fmt_picker[0];\n",
       "\n",
       "    for (var ind in mpl.extensions) {\n",
       "        var fmt = mpl.extensions[ind];\n",
       "        var option = $(\n",
       "            '<option/>', {selected: fmt === mpl.default_extension}).html(fmt);\n",
       "        fmt_picker.append(option)\n",
       "    }\n",
       "\n",
       "    // Add hover states to the ui-buttons\n",
       "    $( \".ui-button\" ).hover(\n",
       "        function() { $(this).addClass(\"ui-state-hover\");},\n",
       "        function() { $(this).removeClass(\"ui-state-hover\");}\n",
       "    );\n",
       "\n",
       "    var status_bar = $('<span class=\"mpl-message\"/>');\n",
       "    nav_element.append(status_bar);\n",
       "    this.message = status_bar[0];\n",
       "}\n",
       "\n",
       "mpl.figure.prototype.request_resize = function(x_pixels, y_pixels) {\n",
       "    // Request matplotlib to resize the figure. Matplotlib will then trigger a resize in the client,\n",
       "    // which will in turn request a refresh of the image.\n",
       "    this.send_message('resize', {'width': x_pixels, 'height': y_pixels});\n",
       "}\n",
       "\n",
       "mpl.figure.prototype.send_message = function(type, properties) {\n",
       "    properties['type'] = type;\n",
       "    properties['figure_id'] = this.id;\n",
       "    this.ws.send(JSON.stringify(properties));\n",
       "}\n",
       "\n",
       "mpl.figure.prototype.send_draw_message = function() {\n",
       "    if (!this.waiting) {\n",
       "        this.waiting = true;\n",
       "        this.ws.send(JSON.stringify({type: \"draw\", figure_id: this.id}));\n",
       "    }\n",
       "}\n",
       "\n",
       "\n",
       "mpl.figure.prototype.handle_save = function(fig, msg) {\n",
       "    var format_dropdown = fig.format_dropdown;\n",
       "    var format = format_dropdown.options[format_dropdown.selectedIndex].value;\n",
       "    fig.ondownload(fig, format);\n",
       "}\n",
       "\n",
       "\n",
       "mpl.figure.prototype.handle_resize = function(fig, msg) {\n",
       "    var size = msg['size'];\n",
       "    if (size[0] != fig.canvas.width || size[1] != fig.canvas.height) {\n",
       "        fig._resize_canvas(size[0], size[1]);\n",
       "        fig.send_message(\"refresh\", {});\n",
       "    };\n",
       "}\n",
       "\n",
       "mpl.figure.prototype.handle_rubberband = function(fig, msg) {\n",
       "    var x0 = msg['x0'];\n",
       "    var y0 = fig.canvas.height - msg['y0'];\n",
       "    var x1 = msg['x1'];\n",
       "    var y1 = fig.canvas.height - msg['y1'];\n",
       "    x0 = Math.floor(x0) + 0.5;\n",
       "    y0 = Math.floor(y0) + 0.5;\n",
       "    x1 = Math.floor(x1) + 0.5;\n",
       "    y1 = Math.floor(y1) + 0.5;\n",
       "    var min_x = Math.min(x0, x1);\n",
       "    var min_y = Math.min(y0, y1);\n",
       "    var width = Math.abs(x1 - x0);\n",
       "    var height = Math.abs(y1 - y0);\n",
       "\n",
       "    fig.rubberband_context.clearRect(\n",
       "        0, 0, fig.canvas.width, fig.canvas.height);\n",
       "\n",
       "    fig.rubberband_context.strokeRect(min_x, min_y, width, height);\n",
       "}\n",
       "\n",
       "mpl.figure.prototype.handle_figure_label = function(fig, msg) {\n",
       "    // Updates the figure title.\n",
       "    fig.header.textContent = msg['label'];\n",
       "}\n",
       "\n",
       "mpl.figure.prototype.handle_cursor = function(fig, msg) {\n",
       "    var cursor = msg['cursor'];\n",
       "    switch(cursor)\n",
       "    {\n",
       "    case 0:\n",
       "        cursor = 'pointer';\n",
       "        break;\n",
       "    case 1:\n",
       "        cursor = 'default';\n",
       "        break;\n",
       "    case 2:\n",
       "        cursor = 'crosshair';\n",
       "        break;\n",
       "    case 3:\n",
       "        cursor = 'move';\n",
       "        break;\n",
       "    }\n",
       "    fig.rubberband_canvas.style.cursor = cursor;\n",
       "}\n",
       "\n",
       "mpl.figure.prototype.handle_message = function(fig, msg) {\n",
       "    fig.message.textContent = msg['message'];\n",
       "}\n",
       "\n",
       "mpl.figure.prototype.handle_draw = function(fig, msg) {\n",
       "    // Request the server to send over a new figure.\n",
       "    fig.send_draw_message();\n",
       "}\n",
       "\n",
       "mpl.figure.prototype.handle_image_mode = function(fig, msg) {\n",
       "    fig.image_mode = msg['mode'];\n",
       "}\n",
       "\n",
       "mpl.figure.prototype.updated_canvas_event = function() {\n",
       "    // Called whenever the canvas gets updated.\n",
       "    this.send_message(\"ack\", {});\n",
       "}\n",
       "\n",
       "// A function to construct a web socket function for onmessage handling.\n",
       "// Called in the figure constructor.\n",
       "mpl.figure.prototype._make_on_message_function = function(fig) {\n",
       "    return function socket_on_message(evt) {\n",
       "        if (evt.data instanceof Blob) {\n",
       "            /* FIXME: We get \"Resource interpreted as Image but\n",
       "             * transferred with MIME type text/plain:\" errors on\n",
       "             * Chrome.  But how to set the MIME type?  It doesn't seem\n",
       "             * to be part of the websocket stream */\n",
       "            evt.data.type = \"image/png\";\n",
       "\n",
       "            /* Free the memory for the previous frames */\n",
       "            if (fig.imageObj.src) {\n",
       "                (window.URL || window.webkitURL).revokeObjectURL(\n",
       "                    fig.imageObj.src);\n",
       "            }\n",
       "\n",
       "            fig.imageObj.src = (window.URL || window.webkitURL).createObjectURL(\n",
       "                evt.data);\n",
       "            fig.updated_canvas_event();\n",
       "            fig.waiting = false;\n",
       "            return;\n",
       "        }\n",
       "        else if (typeof evt.data === 'string' && evt.data.slice(0, 21) == \"data:image/png;base64\") {\n",
       "            fig.imageObj.src = evt.data;\n",
       "            fig.updated_canvas_event();\n",
       "            fig.waiting = false;\n",
       "            return;\n",
       "        }\n",
       "\n",
       "        var msg = JSON.parse(evt.data);\n",
       "        var msg_type = msg['type'];\n",
       "\n",
       "        // Call the  \"handle_{type}\" callback, which takes\n",
       "        // the figure and JSON message as its only arguments.\n",
       "        try {\n",
       "            var callback = fig[\"handle_\" + msg_type];\n",
       "        } catch (e) {\n",
       "            console.log(\"No handler for the '\" + msg_type + \"' message type: \", msg);\n",
       "            return;\n",
       "        }\n",
       "\n",
       "        if (callback) {\n",
       "            try {\n",
       "                // console.log(\"Handling '\" + msg_type + \"' message: \", msg);\n",
       "                callback(fig, msg);\n",
       "            } catch (e) {\n",
       "                console.log(\"Exception inside the 'handler_\" + msg_type + \"' callback:\", e, e.stack, msg);\n",
       "            }\n",
       "        }\n",
       "    };\n",
       "}\n",
       "\n",
       "// from http://stackoverflow.com/questions/1114465/getting-mouse-location-in-canvas\n",
       "mpl.findpos = function(e) {\n",
       "    //this section is from http://www.quirksmode.org/js/events_properties.html\n",
       "    var targ;\n",
       "    if (!e)\n",
       "        e = window.event;\n",
       "    if (e.target)\n",
       "        targ = e.target;\n",
       "    else if (e.srcElement)\n",
       "        targ = e.srcElement;\n",
       "    if (targ.nodeType == 3) // defeat Safari bug\n",
       "        targ = targ.parentNode;\n",
       "\n",
       "    // jQuery normalizes the pageX and pageY\n",
       "    // pageX,Y are the mouse positions relative to the document\n",
       "    // offset() returns the position of the element relative to the document\n",
       "    var x = e.pageX - $(targ).offset().left;\n",
       "    var y = e.pageY - $(targ).offset().top;\n",
       "\n",
       "    return {\"x\": x, \"y\": y};\n",
       "};\n",
       "\n",
       "/*\n",
       " * return a copy of an object with only non-object keys\n",
       " * we need this to avoid circular references\n",
       " * http://stackoverflow.com/a/24161582/3208463\n",
       " */\n",
       "function simpleKeys (original) {\n",
       "  return Object.keys(original).reduce(function (obj, key) {\n",
       "    if (typeof original[key] !== 'object')\n",
       "        obj[key] = original[key]\n",
       "    return obj;\n",
       "  }, {});\n",
       "}\n",
       "\n",
       "mpl.figure.prototype.mouse_event = function(event, name) {\n",
       "    var canvas_pos = mpl.findpos(event)\n",
       "\n",
       "    if (name === 'button_press')\n",
       "    {\n",
       "        this.canvas.focus();\n",
       "        this.canvas_div.focus();\n",
       "    }\n",
       "\n",
       "    var x = canvas_pos.x;\n",
       "    var y = canvas_pos.y;\n",
       "\n",
       "    this.send_message(name, {x: x, y: y, button: event.button,\n",
       "                             step: event.step,\n",
       "                             guiEvent: simpleKeys(event)});\n",
       "\n",
       "    /* This prevents the web browser from automatically changing to\n",
       "     * the text insertion cursor when the button is pressed.  We want\n",
       "     * to control all of the cursor setting manually through the\n",
       "     * 'cursor' event from matplotlib */\n",
       "    event.preventDefault();\n",
       "    return false;\n",
       "}\n",
       "\n",
       "mpl.figure.prototype._key_event_extra = function(event, name) {\n",
       "    // Handle any extra behaviour associated with a key event\n",
       "}\n",
       "\n",
       "mpl.figure.prototype.key_event = function(event, name) {\n",
       "\n",
       "    // Prevent repeat events\n",
       "    if (name == 'key_press')\n",
       "    {\n",
       "        if (event.which === this._key)\n",
       "            return;\n",
       "        else\n",
       "            this._key = event.which;\n",
       "    }\n",
       "    if (name == 'key_release')\n",
       "        this._key = null;\n",
       "\n",
       "    var value = '';\n",
       "    if (event.ctrlKey && event.which != 17)\n",
       "        value += \"ctrl+\";\n",
       "    if (event.altKey && event.which != 18)\n",
       "        value += \"alt+\";\n",
       "    if (event.shiftKey && event.which != 16)\n",
       "        value += \"shift+\";\n",
       "\n",
       "    value += 'k';\n",
       "    value += event.which.toString();\n",
       "\n",
       "    this._key_event_extra(event, name);\n",
       "\n",
       "    this.send_message(name, {key: value,\n",
       "                             guiEvent: simpleKeys(event)});\n",
       "    return false;\n",
       "}\n",
       "\n",
       "mpl.figure.prototype.toolbar_button_onclick = function(name) {\n",
       "    if (name == 'download') {\n",
       "        this.handle_save(this, null);\n",
       "    } else {\n",
       "        this.send_message(\"toolbar_button\", {name: name});\n",
       "    }\n",
       "};\n",
       "\n",
       "mpl.figure.prototype.toolbar_button_onmouseover = function(tooltip) {\n",
       "    this.message.textContent = tooltip;\n",
       "};\n",
       "mpl.toolbar_items = [[\"Home\", \"Reset original view\", \"fa fa-home icon-home\", \"home\"], [\"Back\", \"Back to  previous view\", \"fa fa-arrow-left icon-arrow-left\", \"back\"], [\"Forward\", \"Forward to next view\", \"fa fa-arrow-right icon-arrow-right\", \"forward\"], [\"\", \"\", \"\", \"\"], [\"Pan\", \"Pan axes with left mouse, zoom with right\", \"fa fa-arrows icon-move\", \"pan\"], [\"Zoom\", \"Zoom to rectangle\", \"fa fa-square-o icon-check-empty\", \"zoom\"], [\"\", \"\", \"\", \"\"], [\"Download\", \"Download plot\", \"fa fa-floppy-o icon-save\", \"download\"]];\n",
       "\n",
       "mpl.extensions = [\"eps\", \"jpeg\", \"pdf\", \"png\", \"ps\", \"raw\", \"svg\", \"tif\"];\n",
       "\n",
       "mpl.default_extension = \"png\";var comm_websocket_adapter = function(comm) {\n",
       "    // Create a \"websocket\"-like object which calls the given IPython comm\n",
       "    // object with the appropriate methods. Currently this is a non binary\n",
       "    // socket, so there is still some room for performance tuning.\n",
       "    var ws = {};\n",
       "\n",
       "    ws.close = function() {\n",
       "        comm.close()\n",
       "    };\n",
       "    ws.send = function(m) {\n",
       "        //console.log('sending', m);\n",
       "        comm.send(m);\n",
       "    };\n",
       "    // Register the callback with on_msg.\n",
       "    comm.on_msg(function(msg) {\n",
       "        //console.log('receiving', msg['content']['data'], msg);\n",
       "        // Pass the mpl event to the overriden (by mpl) onmessage function.\n",
       "        ws.onmessage(msg['content']['data'])\n",
       "    });\n",
       "    return ws;\n",
       "}\n",
       "\n",
       "mpl.mpl_figure_comm = function(comm, msg) {\n",
       "    // This is the function which gets called when the mpl process\n",
       "    // starts-up an IPython Comm through the \"matplotlib\" channel.\n",
       "\n",
       "    var id = msg.content.data.id;\n",
       "    // Get hold of the div created by the display call when the Comm\n",
       "    // socket was opened in Python.\n",
       "    var element = $(\"#\" + id);\n",
       "    var ws_proxy = comm_websocket_adapter(comm)\n",
       "\n",
       "    function ondownload(figure, format) {\n",
       "        window.open(figure.imageObj.src);\n",
       "    }\n",
       "\n",
       "    var fig = new mpl.figure(id, ws_proxy,\n",
       "                           ondownload,\n",
       "                           element.get(0));\n",
       "\n",
       "    // Call onopen now - mpl needs it, as it is assuming we've passed it a real\n",
       "    // web socket which is closed, not our websocket->open comm proxy.\n",
       "    ws_proxy.onopen();\n",
       "\n",
       "    fig.parent_element = element.get(0);\n",
       "    fig.cell_info = mpl.find_output_cell(\"<div id='\" + id + \"'></div>\");\n",
       "    if (!fig.cell_info) {\n",
       "        console.error(\"Failed to find cell for figure\", id, fig);\n",
       "        return;\n",
       "    }\n",
       "\n",
       "    var output_index = fig.cell_info[2]\n",
       "    var cell = fig.cell_info[0];\n",
       "\n",
       "};\n",
       "\n",
       "mpl.figure.prototype.handle_close = function(fig, msg) {\n",
       "    fig.root.unbind('remove')\n",
       "\n",
       "    // Update the output cell to use the data from the current canvas.\n",
       "    fig.push_to_output();\n",
       "    var dataURL = fig.canvas.toDataURL();\n",
       "    // Re-enable the keyboard manager in IPython - without this line, in FF,\n",
       "    // the notebook keyboard shortcuts fail.\n",
       "    IPython.keyboard_manager.enable()\n",
       "    $(fig.parent_element).html('<img src=\"' + dataURL + '\">');\n",
       "    fig.close_ws(fig, msg);\n",
       "}\n",
       "\n",
       "mpl.figure.prototype.close_ws = function(fig, msg){\n",
       "    fig.send_message('closing', msg);\n",
       "    // fig.ws.close()\n",
       "}\n",
       "\n",
       "mpl.figure.prototype.push_to_output = function(remove_interactive) {\n",
       "    // Turn the data on the canvas into data in the output cell.\n",
       "    var dataURL = this.canvas.toDataURL();\n",
       "    this.cell_info[1]['text/html'] = '<img src=\"' + dataURL + '\">';\n",
       "}\n",
       "\n",
       "mpl.figure.prototype.updated_canvas_event = function() {\n",
       "    // Tell IPython that the notebook contents must change.\n",
       "    IPython.notebook.set_dirty(true);\n",
       "    this.send_message(\"ack\", {});\n",
       "    var fig = this;\n",
       "    // Wait a second, then push the new image to the DOM so\n",
       "    // that it is saved nicely (might be nice to debounce this).\n",
       "    setTimeout(function () { fig.push_to_output() }, 1000);\n",
       "}\n",
       "\n",
       "mpl.figure.prototype._init_toolbar = function() {\n",
       "    var fig = this;\n",
       "\n",
       "    var nav_element = $('<div/>')\n",
       "    nav_element.attr('style', 'width: 100%');\n",
       "    this.root.append(nav_element);\n",
       "\n",
       "    // Define a callback function for later on.\n",
       "    function toolbar_event(event) {\n",
       "        return fig.toolbar_button_onclick(event['data']);\n",
       "    }\n",
       "    function toolbar_mouse_event(event) {\n",
       "        return fig.toolbar_button_onmouseover(event['data']);\n",
       "    }\n",
       "\n",
       "    for(var toolbar_ind in mpl.toolbar_items){\n",
       "        var name = mpl.toolbar_items[toolbar_ind][0];\n",
       "        var tooltip = mpl.toolbar_items[toolbar_ind][1];\n",
       "        var image = mpl.toolbar_items[toolbar_ind][2];\n",
       "        var method_name = mpl.toolbar_items[toolbar_ind][3];\n",
       "\n",
       "        if (!name) { continue; };\n",
       "\n",
       "        var button = $('<button class=\"btn btn-default\" href=\"#\" title=\"' + name + '\"><i class=\"fa ' + image + ' fa-lg\"></i></button>');\n",
       "        button.click(method_name, toolbar_event);\n",
       "        button.mouseover(tooltip, toolbar_mouse_event);\n",
       "        nav_element.append(button);\n",
       "    }\n",
       "\n",
       "    // Add the status bar.\n",
       "    var status_bar = $('<span class=\"mpl-message\" style=\"text-align:right; float: right;\"/>');\n",
       "    nav_element.append(status_bar);\n",
       "    this.message = status_bar[0];\n",
       "\n",
       "    // Add the close button to the window.\n",
       "    var buttongrp = $('<div class=\"btn-group inline pull-right\"></div>');\n",
       "    var button = $('<button class=\"btn btn-mini btn-primary\" href=\"#\" title=\"Stop Interaction\"><i class=\"fa fa-power-off icon-remove icon-large\"></i></button>');\n",
       "    button.click(function (evt) { fig.handle_close(fig, {}); } );\n",
       "    button.mouseover('Stop Interaction', toolbar_mouse_event);\n",
       "    buttongrp.append(button);\n",
       "    var titlebar = this.root.find($('.ui-dialog-titlebar'));\n",
       "    titlebar.prepend(buttongrp);\n",
       "}\n",
       "\n",
       "mpl.figure.prototype._root_extra_style = function(el){\n",
       "    var fig = this\n",
       "    el.on(\"remove\", function(){\n",
       "\tfig.close_ws(fig, {});\n",
       "    });\n",
       "}\n",
       "\n",
       "mpl.figure.prototype._canvas_extra_style = function(el){\n",
       "    // this is important to make the div 'focusable\n",
       "    el.attr('tabindex', 0)\n",
       "    // reach out to IPython and tell the keyboard manager to turn it's self\n",
       "    // off when our div gets focus\n",
       "\n",
       "    // location in version 3\n",
       "    if (IPython.notebook.keyboard_manager) {\n",
       "        IPython.notebook.keyboard_manager.register_events(el);\n",
       "    }\n",
       "    else {\n",
       "        // location in version 2\n",
       "        IPython.keyboard_manager.register_events(el);\n",
       "    }\n",
       "\n",
       "}\n",
       "\n",
       "mpl.figure.prototype._key_event_extra = function(event, name) {\n",
       "    var manager = IPython.notebook.keyboard_manager;\n",
       "    if (!manager)\n",
       "        manager = IPython.keyboard_manager;\n",
       "\n",
       "    // Check for shift+enter\n",
       "    if (event.shiftKey && event.which == 13) {\n",
       "        this.canvas_div.blur();\n",
       "        event.shiftKey = false;\n",
       "        // Send a \"J\" for go to next cell\n",
       "        event.which = 74;\n",
       "        event.keyCode = 74;\n",
       "        manager.command_mode();\n",
       "        manager.handle_keydown(event);\n",
       "    }\n",
       "}\n",
       "\n",
       "mpl.figure.prototype.handle_save = function(fig, msg) {\n",
       "    fig.ondownload(fig, null);\n",
       "}\n",
       "\n",
       "\n",
       "mpl.find_output_cell = function(html_output) {\n",
       "    // Return the cell and output element which can be found *uniquely* in the notebook.\n",
       "    // Note - this is a bit hacky, but it is done because the \"notebook_saving.Notebook\"\n",
       "    // IPython event is triggered only after the cells have been serialised, which for\n",
       "    // our purposes (turning an active figure into a static one), is too late.\n",
       "    var cells = IPython.notebook.get_cells();\n",
       "    var ncells = cells.length;\n",
       "    for (var i=0; i<ncells; i++) {\n",
       "        var cell = cells[i];\n",
       "        if (cell.cell_type === 'code'){\n",
       "            for (var j=0; j<cell.output_area.outputs.length; j++) {\n",
       "                var data = cell.output_area.outputs[j];\n",
       "                if (data.data) {\n",
       "                    // IPython >= 3 moved mimebundle to data attribute of output\n",
       "                    data = data.data;\n",
       "                }\n",
       "                if (data['text/html'] == html_output) {\n",
       "                    return [cell, data, j];\n",
       "                }\n",
       "            }\n",
       "        }\n",
       "    }\n",
       "}\n",
       "\n",
       "// Register the function which deals with the matplotlib target/channel.\n",
       "// The kernel may be null if the page has been refreshed.\n",
       "if (IPython.notebook.kernel != null) {\n",
       "    IPython.notebook.kernel.comm_manager.register_target('matplotlib', mpl.mpl_figure_comm);\n",
       "}\n"
      ],
      "text/plain": [
       "<IPython.core.display.Javascript object>"
      ]
     },
     "metadata": {},
     "output_type": "display_data"
    },
    {
     "data": {
      "text/html": [
       "<img src=\"data:image/png;base64,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\">"
      ],
      "text/plain": [
       "<IPython.core.display.HTML object>"
      ]
     },
     "metadata": {},
     "output_type": "display_data"
    },
    {
     "data": {
      "text/plain": [
       "<matplotlib.axes._subplots.AxesSubplot at 0x1153fc9e8>"
      ]
     },
     "execution_count": 3,
     "metadata": {},
     "output_type": "execute_result"
    }
   ],
   "source": [
    "%matplotlib notebook\n",
    "da.plot(kind = \"bar\", rot = 0)"
   ]
  },
  {
   "cell_type": "markdown",
   "metadata": {
    "slideshow": {
     "slide_type": "subslide"
    }
   },
   "source": [
    "## How to get help\n",
    "\n",
    "- From Function Help: ? + function\n",
    "    - ?pd.DataFrame\n",
    "    - ?da.plot\n",
    "- From Books:\n",
    "    - [Python for Data Analysis](http://www3.canisius.edu/~yany/python/Python4DataAnalysis.pdf), Wes McKinney\n",
    "    - [Learning Python](http://stock.ethop.org/pdf/python/Learning%20Python,%205th%20Edition.pdf), Mark Lutz\n",
    "- From Online Course: https://www.datacamp.com/\n",
    "- From Google: Your Question (what you want to do) + Python\n",
    "    - read SAS file Python\n",
    "    - string operation Python"
   ]
  },
  {
   "cell_type": "markdown",
   "metadata": {
    "slideshow": {
     "slide_type": "slide"
    }
   },
   "source": [
    "# Basic Python Syntax"
   ]
  },
  {
   "cell_type": "markdown",
   "metadata": {
    "slideshow": {
     "slide_type": "subslide"
    }
   },
   "source": [
    "## Contents\n",
    "\n",
    "1. Number\n",
    "2. String\n",
    "3. List\n",
    "    - For-loop\n",
    "4. Dictionary\n",
    "5. Tuple\n",
    "6. Boolean\n",
    "    - If-else condition\n",
    "7. Function\n",
    "8. Other Special Commands"
   ]
  },
  {
   "cell_type": "markdown",
   "metadata": {
    "slideshow": {
     "slide_type": "subslide"
    }
   },
   "source": [
    "## Basic Python Syntax (1): Number"
   ]
  },
  {
   "cell_type": "code",
   "execution_count": 3,
   "metadata": {
    "collapsed": false
   },
   "outputs": [
    {
     "data": {
      "text/plain": [
       "6"
      ]
     },
     "execution_count": 3,
     "metadata": {},
     "output_type": "execute_result"
    }
   ],
   "source": [
    "1 + 2 + 3"
   ]
  },
  {
   "cell_type": "code",
   "execution_count": 4,
   "metadata": {
    "collapsed": false
   },
   "outputs": [
    {
     "data": {
      "text/plain": [
       "2.0"
      ]
     },
     "execution_count": 4,
     "metadata": {},
     "output_type": "execute_result"
    }
   ],
   "source": [
    "# compute 4 * 0.5 and save value as variable 'a'\n",
    "a = 4 * 0.5\n",
    "a"
   ]
  },
  {
   "cell_type": "code",
   "execution_count": 5,
   "metadata": {
    "collapsed": false
   },
   "outputs": [
    {
     "data": {
      "text/plain": [
       "1024.0"
      ]
     },
     "execution_count": 5,
     "metadata": {},
     "output_type": "execute_result"
    }
   ],
   "source": [
    "# variable 'a' to the power 10\n",
    "a ** 10"
   ]
  },
  {
   "cell_type": "code",
   "execution_count": 6,
   "metadata": {
    "collapsed": false
   },
   "outputs": [
    {
     "data": {
      "text/plain": [
       "-1.3333333333333333"
      ]
     },
     "execution_count": 6,
     "metadata": {},
     "output_type": "execute_result"
    }
   ],
   "source": [
    "(a - 6) / 3"
   ]
  },
  {
   "cell_type": "markdown",
   "metadata": {
    "slideshow": {
     "slide_type": "subslide"
    }
   },
   "source": [
    "## Basic Python Syntax (2.1): String\n",
    "\n",
    "- A string can be created by either ' or \""
   ]
  },
  {
   "cell_type": "code",
   "execution_count": 7,
   "metadata": {
    "collapsed": false,
    "scrolled": true
   },
   "outputs": [
    {
     "data": {
      "text/plain": [
       "'r'"
      ]
     },
     "execution_count": 7,
     "metadata": {},
     "output_type": "execute_result"
    }
   ],
   "source": [
    "b = \"red apple\"\n",
    "# Select the substring at index 0 (head character)\n",
    "b[0]"
   ]
  },
  {
   "cell_type": "code",
   "execution_count": 8,
   "metadata": {
    "collapsed": false
   },
   "outputs": [
    {
     "data": {
      "text/plain": [
       "'app'"
      ]
     },
     "execution_count": 8,
     "metadata": {},
     "output_type": "execute_result"
    }
   ],
   "source": [
    "# Slice from index 4 to 7 (right-side not included)\n",
    "b[4:7]"
   ]
  },
  {
   "cell_type": "code",
   "execution_count": 9,
   "metadata": {
    "collapsed": false
   },
   "outputs": [
    {
     "data": {
      "text/plain": [
       "'apple'"
      ]
     },
     "execution_count": 9,
     "metadata": {},
     "output_type": "execute_result"
    }
   ],
   "source": [
    "# Slice from index 4\n",
    "b[4:]"
   ]
  },
  {
   "cell_type": "code",
   "execution_count": 10,
   "metadata": {
    "collapsed": false
   },
   "outputs": [
    {
     "data": {
      "text/plain": [
       "'\\nFor the earth shall be full of the knowledge of the LORD\\n    as the waters cover the sea.\\n(Isaiah 11:9 ESV)\\n'"
      ]
     },
     "execution_count": 10,
     "metadata": {},
     "output_type": "execute_result"
    }
   ],
   "source": [
    "# A multi-lines string can be created with triple quotes ''' or \"\"\"\n",
    "'''\n",
    "For the earth shall be full of the knowledge of the LORD\n",
    "    as the waters cover the sea.\n",
    "(Isaiah 11:9 ESV)\n",
    "'''"
   ]
  },
  {
   "cell_type": "markdown",
   "metadata": {
    "slideshow": {
     "slide_type": "subslide"
    }
   },
   "source": [
    "## Basic Python Syntax (2.2): String Function"
   ]
  },
  {
   "cell_type": "code",
   "execution_count": 11,
   "metadata": {
    "collapsed": false
   },
   "outputs": [
    {
     "data": {
      "text/plain": [
       "'red applegreen apple'"
      ]
     },
     "execution_count": 11,
     "metadata": {},
     "output_type": "execute_result"
    }
   ],
   "source": [
    "# Concatenate string b with another string \"green apple\"\n",
    "b + 'green apple'"
   ]
  },
  {
   "cell_type": "code",
   "execution_count": 12,
   "metadata": {
    "collapsed": false
   },
   "outputs": [
    {
     "data": {
      "text/plain": [
       "'red applered applered apple'"
      ]
     },
     "execution_count": 12,
     "metadata": {},
     "output_type": "execute_result"
    }
   ],
   "source": [
    "# Repeat the same string for 3 times\n",
    "b * 3"
   ]
  },
  {
   "cell_type": "code",
   "execution_count": 13,
   "metadata": {
    "collapsed": false
   },
   "outputs": [
    {
     "data": {
      "text/plain": [
       "'I have 2 apples, one is a red apple, the other one is also a red apple'"
      ]
     },
     "execution_count": 13,
     "metadata": {},
     "output_type": "execute_result"
    }
   ],
   "source": [
    "# Function format() in a string uses a brace '{}' to assign values\n",
    "\"I have {} apples, one is a {}, the other one is also a {}\".format(1+1, b, b)"
   ]
  },
  {
   "cell_type": "code",
   "execution_count": 14,
   "metadata": {
    "collapsed": false
   },
   "outputs": [
    {
     "data": {
      "text/plain": [
       "['red', 'apple']"
      ]
     },
     "execution_count": 14,
     "metadata": {},
     "output_type": "execute_result"
    }
   ],
   "source": [
    "# Split by character\n",
    "b.split(\" \")"
   ]
  },
  {
   "cell_type": "code",
   "execution_count": 15,
   "metadata": {
    "collapsed": false
   },
   "outputs": [
    {
     "data": {
      "text/plain": [
       "'red-apple'"
      ]
     },
     "execution_count": 15,
     "metadata": {},
     "output_type": "execute_result"
    }
   ],
   "source": [
    "# Join by character\n",
    "\"-\".join(['red', 'apple'])"
   ]
  },
  {
   "cell_type": "markdown",
   "metadata": {
    "slideshow": {
     "slide_type": "subslide"
    }
   },
   "source": [
    "## Basic Python Syntax (3.1): List\n",
    "\n",
    "- To store more than one values: [value0, value1, value2, ...]\n",
    "- Values are accessed by position number\n",
    "- Can contain mixed types of values"
   ]
  },
  {
   "cell_type": "code",
   "execution_count": 16,
   "metadata": {
    "collapsed": false
   },
   "outputs": [
    {
     "data": {
      "text/plain": [
       "3"
      ]
     },
     "execution_count": 16,
     "metadata": {},
     "output_type": "execute_result"
    }
   ],
   "source": [
    "# Create a list with a square bracket\n",
    "c = [1, 3, 5, 7]\n",
    "c[1]"
   ]
  },
  {
   "cell_type": "code",
   "execution_count": 17,
   "metadata": {
    "collapsed": false
   },
   "outputs": [
    {
     "data": {
      "text/plain": [
       "[3, 5]"
      ]
     },
     "execution_count": 17,
     "metadata": {},
     "output_type": "execute_result"
    }
   ],
   "source": [
    "# Slice from index 1 to index 3 (right-side not included)\n",
    "c[1:3]"
   ]
  },
  {
   "cell_type": "code",
   "execution_count": 18,
   "metadata": {
    "collapsed": false
   },
   "outputs": [
    {
     "data": {
      "text/plain": [
       "[1, 3, 5, 9]"
      ]
     },
     "execution_count": 18,
     "metadata": {},
     "output_type": "execute_result"
    }
   ],
   "source": [
    "# Change the last value to 9 (-N denotes the Nth index counted from the tail)\n",
    "c[-1] = 9\n",
    "c"
   ]
  },
  {
   "cell_type": "code",
   "execution_count": 19,
   "metadata": {
    "collapsed": false
   },
   "outputs": [
    {
     "data": {
      "text/plain": [
       "[1, 2, 4, 6, 8, 9]"
      ]
     },
     "execution_count": 19,
     "metadata": {},
     "output_type": "execute_result"
    }
   ],
   "source": [
    "# Replace position 1 to 3 with a new list [2, 4, 6, 8]\n",
    "c[1:3] = [2, 4, 6, 8]\n",
    "c"
   ]
  },
  {
   "cell_type": "markdown",
   "metadata": {
    "slideshow": {
     "slide_type": "subslide"
    }
   },
   "source": [
    "## Basic Python Syntax (3.2): List Function"
   ]
  },
  {
   "cell_type": "code",
   "execution_count": 20,
   "metadata": {
    "collapsed": false
   },
   "outputs": [
    {
     "data": {
      "text/plain": [
       "6"
      ]
     },
     "execution_count": 20,
     "metadata": {},
     "output_type": "execute_result"
    }
   ],
   "source": [
    "# Length of list c\n",
    "len(c)"
   ]
  },
  {
   "cell_type": "code",
   "execution_count": 21,
   "metadata": {
    "collapsed": false
   },
   "outputs": [
    {
     "data": {
      "text/plain": [
       "[1, 2, 4, 6, 8, 9, 1, 2, 3, 4, 5, 6]"
      ]
     },
     "execution_count": 21,
     "metadata": {},
     "output_type": "execute_result"
    }
   ],
   "source": [
    "# Concatenate list c with another list (not elementwise plus!)\n",
    "c + [1, 2, 3, 4, 5, 6]"
   ]
  },
  {
   "cell_type": "code",
   "execution_count": 22,
   "metadata": {
    "collapsed": false,
    "scrolled": true
   },
   "outputs": [
    {
     "data": {
      "text/plain": [
       "[1, 2, 4, 6, 8, 9, 1, 2, 4, 6, 8, 9, 1, 2, 4, 6, 8, 9]"
      ]
     },
     "execution_count": 22,
     "metadata": {},
     "output_type": "execute_result"
    }
   ],
   "source": [
    "# Repeat the same list for 3 times (not elementwise multiply!)\n",
    "c * 3"
   ]
  },
  {
   "cell_type": "code",
   "execution_count": 23,
   "metadata": {
    "collapsed": false
   },
   "outputs": [
    {
     "data": {
      "text/plain": [
       "[1, 2, 4, 6, 8, 9, 'apple']"
      ]
     },
     "execution_count": 23,
     "metadata": {},
     "output_type": "execute_result"
    }
   ],
   "source": [
    "# Append a new element \"apple\" to the last of list c\n",
    "c.append(\"apple\")\n",
    "c"
   ]
  },
  {
   "cell_type": "code",
   "execution_count": 24,
   "metadata": {
    "collapsed": false
   },
   "outputs": [
    {
     "data": {
      "text/plain": [
       "[1, 2, 4, 'red', 6, 8, 9, 'apple']"
      ]
     },
     "execution_count": 24,
     "metadata": {},
     "output_type": "execute_result"
    }
   ],
   "source": [
    "# Insert \"red\" to position 3 of list c\n",
    "c.insert(3, \"red\")\n",
    "c"
   ]
  },
  {
   "cell_type": "markdown",
   "metadata": {
    "slideshow": {
     "slide_type": "subslide"
    }
   },
   "source": [
    "## Basic Python Syntax (3.3): For-loop"
   ]
  },
  {
   "cell_type": "code",
   "execution_count": 25,
   "metadata": {
    "collapsed": false
   },
   "outputs": [
    {
     "data": {
      "text/plain": [
       "[0, 1, 4, 9, 16, 25, 36, 49, 64, 81]"
      ]
     },
     "execution_count": 25,
     "metadata": {},
     "output_type": "execute_result"
    }
   ],
   "source": [
    "# A common for-loop: square of 0 to 9\n",
    "output = []\n",
    "for i in range(10):\n",
    "    value = i ** 2\n",
    "    output.append(value)\n",
    "output"
   ]
  },
  {
   "cell_type": "code",
   "execution_count": 26,
   "metadata": {
    "collapsed": false
   },
   "outputs": [
    {
     "data": {
      "text/plain": [
       "[0, 1, 4, 9, 16, 25, 36, 49, 64, 81]"
      ]
     },
     "execution_count": 26,
     "metadata": {},
     "output_type": "execute_result"
    }
   ],
   "source": [
    "# An list-inside for-loop: square of 0 to 9\n",
    "[i ** 2 for i in range(10)]"
   ]
  },
  {
   "cell_type": "code",
   "execution_count": 27,
   "metadata": {
    "collapsed": false
   },
   "outputs": [
    {
     "data": {
      "text/plain": [
       "[25, 36, 49, 64, 81]"
      ]
     },
     "execution_count": 27,
     "metadata": {},
     "output_type": "execute_result"
    }
   ],
   "source": [
    "# An list-inside for-loop with if-conditions\n",
    "[i ** 2 for i in range(10) if i > 4]"
   ]
  },
  {
   "cell_type": "code",
   "execution_count": 28,
   "metadata": {
    "collapsed": false
   },
   "outputs": [
    {
     "data": {
      "text/plain": [
       "[[1, 0], [2, 0], [2, 1], [3, 0], [3, 1], [3, 2]]"
      ]
     },
     "execution_count": 28,
     "metadata": {},
     "output_type": "execute_result"
    }
   ],
   "source": [
    "# Nested List\n",
    "[[i, j] for i in range(4) for j in range(4) if i > j]"
   ]
  },
  {
   "cell_type": "code",
   "execution_count": 29,
   "metadata": {
    "collapsed": false
   },
   "outputs": [
    {
     "data": {
      "text/plain": [
       "['aaa', 'ababab', 9, 12, [5, 6, 5, 6, 5, 6]]"
      ]
     },
     "execution_count": 29,
     "metadata": {},
     "output_type": "execute_result"
    }
   ],
   "source": [
    "# An list can be directly used as iterator\n",
    "[i * 3 for i in [\"a\", \"ab\", 3, 4, [5, 6]]]"
   ]
  },
  {
   "cell_type": "markdown",
   "metadata": {
    "slideshow": {
     "slide_type": "subslide"
    }
   },
   "source": [
    "## Basic Python Syntax (4.1): Dictionary\n",
    "\n",
    "- To store values with keys: {key0: value0, key1: value1, key2: value2, ...}\n",
    "- Values are accessed by key, not position number"
   ]
  },
  {
   "cell_type": "code",
   "execution_count": 30,
   "metadata": {
    "collapsed": false
   },
   "outputs": [
    {
     "data": {
      "text/plain": [
       "{'name': 'gold', 'price': 4000}"
      ]
     },
     "execution_count": 30,
     "metadata": {},
     "output_type": "execute_result"
    }
   ],
   "source": [
    "d = {\"name\": \"gold\", \"price\": 4000}\n",
    "d"
   ]
  },
  {
   "cell_type": "code",
   "execution_count": 31,
   "metadata": {
    "collapsed": false
   },
   "outputs": [
    {
     "data": {
      "text/plain": [
       "'gold'"
      ]
     },
     "execution_count": 31,
     "metadata": {},
     "output_type": "execute_result"
    }
   ],
   "source": [
    "# Select the value with key \"name\" \n",
    "d[\"name\"]"
   ]
  },
  {
   "cell_type": "code",
   "execution_count": 32,
   "metadata": {
    "collapsed": false
   },
   "outputs": [
    {
     "data": {
      "text/plain": [
       "4500"
      ]
     },
     "execution_count": 32,
     "metadata": {},
     "output_type": "execute_result"
    }
   ],
   "source": [
    "# Update the value of price by plus 500\n",
    "d[\"price\"] += 500\n",
    "d[\"price\"]"
   ]
  },
  {
   "cell_type": "code",
   "execution_count": 33,
   "metadata": {
    "collapsed": false
   },
   "outputs": [
    {
     "data": {
      "text/plain": [
       "{'Python': 29, 'R': 51, 'none': 2, 'others': 17}"
      ]
     },
     "execution_count": 33,
     "metadata": {},
     "output_type": "execute_result"
    }
   ],
   "source": [
    "# Another way to create a dict: function dict()\n",
    "dict(R = 51, Python = 29, others = 17, none = 2)"
   ]
  },
  {
   "cell_type": "code",
   "execution_count": 34,
   "metadata": {
    "collapsed": false
   },
   "outputs": [
    {
     "data": {
      "text/plain": [
       "{'Python': 29, 'R': 51, 'none': 2, 'others': 17}"
      ]
     },
     "execution_count": 34,
     "metadata": {},
     "output_type": "execute_result"
    }
   ],
   "source": [
    "# Create a dict from two lists: function zip()\n",
    "dict(zip([\"R\", \"Python\", \"others\", \"none\"], [51, 29, 17, 2]))"
   ]
  },
  {
   "cell_type": "markdown",
   "metadata": {
    "slideshow": {
     "slide_type": "subslide"
    }
   },
   "source": [
    "## Basic Python Syntax (4.2): Dictionary Functions"
   ]
  },
  {
   "cell_type": "code",
   "execution_count": 35,
   "metadata": {
    "collapsed": false
   },
   "outputs": [
    {
     "data": {
      "text/plain": [
       "dict_keys(['price', 'name'])"
      ]
     },
     "execution_count": 35,
     "metadata": {},
     "output_type": "execute_result"
    }
   ],
   "source": [
    "# Check all keys of dict d\n",
    "d.keys()"
   ]
  },
  {
   "cell_type": "code",
   "execution_count": 36,
   "metadata": {
    "collapsed": false
   },
   "outputs": [
    {
     "data": {
      "text/plain": [
       "dict_values([4500, 'gold'])"
      ]
     },
     "execution_count": 36,
     "metadata": {},
     "output_type": "execute_result"
    }
   ],
   "source": [
    "# Check all values of dict d\n",
    "d.values()"
   ]
  },
  {
   "cell_type": "code",
   "execution_count": 37,
   "metadata": {
    "collapsed": false
   },
   "outputs": [
    {
     "data": {
      "text/plain": [
       "{'name': 'gold', 'price': 6000, 'status': 'sold out'}"
      ]
     },
     "execution_count": 37,
     "metadata": {},
     "output_type": "execute_result"
    }
   ],
   "source": [
    "# Update dict d with another dict\n",
    "d.update({\"price\": 6000, \"status\": \"sold out\"})\n",
    "d"
   ]
  },
  {
   "cell_type": "code",
   "execution_count": 38,
   "metadata": {
    "collapsed": false
   },
   "outputs": [
    {
     "data": {
      "text/plain": [
       "['status', 'price', 'name']"
      ]
     },
     "execution_count": 38,
     "metadata": {},
     "output_type": "execute_result"
    }
   ],
   "source": [
    "# List keys of dict d\n",
    "list(d.keys())"
   ]
  },
  {
   "cell_type": "code",
   "execution_count": 39,
   "metadata": {
    "collapsed": false
   },
   "outputs": [
    {
     "data": {
      "text/plain": [
       "{'name': 'gold', 'status': 'sold out'}"
      ]
     },
     "execution_count": 39,
     "metadata": {},
     "output_type": "execute_result"
    }
   ],
   "source": [
    "# Remove an element from dict d\n",
    "d.pop(\"price\")\n",
    "d"
   ]
  },
  {
   "cell_type": "markdown",
   "metadata": {
    "slideshow": {
     "slide_type": "subslide"
    }
   },
   "source": [
    "## Basic Python Syntax (5): Tuple\n",
    "- To store more than one fixed values: (value0, value1, value2, ...)\n",
    "- Like a list, but cannot be revised"
   ]
  },
  {
   "cell_type": "code",
   "execution_count": 40,
   "metadata": {
    "collapsed": false
   },
   "outputs": [
    {
     "data": {
      "text/plain": [
       "(2.0, 'red apple')"
      ]
     },
     "execution_count": 40,
     "metadata": {},
     "output_type": "execute_result"
    }
   ],
   "source": [
    "# Check the type of variable a, b, c, d\n",
    "e = a, b\n",
    "e"
   ]
  },
  {
   "cell_type": "code",
   "execution_count": 41,
   "metadata": {
    "collapsed": false
   },
   "outputs": [
    {
     "data": {
      "text/plain": [
       "2.0"
      ]
     },
     "execution_count": 41,
     "metadata": {},
     "output_type": "execute_result"
    }
   ],
   "source": [
    "e[0]"
   ]
  },
  {
   "cell_type": "code",
   "execution_count": 42,
   "metadata": {
    "collapsed": false
   },
   "outputs": [
    {
     "ename": "TypeError",
     "evalue": "'tuple' object does not support item assignment",
     "output_type": "error",
     "traceback": [
      "\u001b[0;31m---------------------------------------------------------------------------\u001b[0m",
      "\u001b[0;31mTypeError\u001b[0m                                 Traceback (most recent call last)",
      "\u001b[0;32m<ipython-input-42-f40e2fa930b4>\u001b[0m in \u001b[0;36m<module>\u001b[0;34m()\u001b[0m\n\u001b[1;32m      1\u001b[0m \u001b[0;31m# A tuple cannot be revised\u001b[0m\u001b[0;34m\u001b[0m\u001b[0;34m\u001b[0m\u001b[0m\n\u001b[0;32m----> 2\u001b[0;31m \u001b[0me\u001b[0m\u001b[0;34m[\u001b[0m\u001b[0;36m2\u001b[0m\u001b[0;34m]\u001b[0m \u001b[0;34m=\u001b[0m \u001b[0;36m0\u001b[0m\u001b[0;34m\u001b[0m\u001b[0m\n\u001b[0m",
      "\u001b[0;31mTypeError\u001b[0m: 'tuple' object does not support item assignment"
     ]
    }
   ],
   "source": [
    "# A tuple cannot be revised\n",
    "e[2] = 0"
   ]
  },
  {
   "cell_type": "code",
   "execution_count": 43,
   "metadata": {
    "collapsed": false
   },
   "outputs": [
    {
     "data": {
      "text/plain": [
       "('red apple', 2.0)"
      ]
     },
     "execution_count": 43,
     "metadata": {},
     "output_type": "execute_result"
    }
   ],
   "source": [
    "# Switch values of a and b directly\n",
    "b, a = a, b\n",
    "a, b"
   ]
  },
  {
   "cell_type": "markdown",
   "metadata": {
    "slideshow": {
     "slide_type": "subslide"
    }
   },
   "source": [
    "## Basic Python Syntax (6.1): Boolean"
   ]
  },
  {
   "cell_type": "code",
   "execution_count": 44,
   "metadata": {
    "collapsed": false
   },
   "outputs": [
    {
     "data": {
      "text/plain": [
       "True"
      ]
     },
     "execution_count": 44,
     "metadata": {},
     "output_type": "execute_result"
    }
   ],
   "source": [
    "# Double equal sign \"==\" means whether two values are equal in value\n",
    "1 + 1 == 2"
   ]
  },
  {
   "cell_type": "code",
   "execution_count": 45,
   "metadata": {
    "collapsed": false
   },
   "outputs": [
    {
     "data": {
      "text/plain": [
       "False"
      ]
     },
     "execution_count": 45,
     "metadata": {},
     "output_type": "execute_result"
    }
   ],
   "source": [
    "# sign \"!=\" means unequal\n",
    "1 + 1 != 2"
   ]
  },
  {
   "cell_type": "code",
   "execution_count": 46,
   "metadata": {
    "collapsed": false
   },
   "outputs": [
    {
     "data": {
      "text/plain": [
       "False"
      ]
     },
     "execution_count": 46,
     "metadata": {},
     "output_type": "execute_result"
    }
   ],
   "source": [
    "4 < 3"
   ]
  },
  {
   "cell_type": "code",
   "execution_count": 47,
   "metadata": {
    "collapsed": false
   },
   "outputs": [
    {
     "data": {
      "text/plain": [
       "True"
      ]
     },
     "execution_count": 47,
     "metadata": {},
     "output_type": "execute_result"
    }
   ],
   "source": [
    "4 >= 8/2"
   ]
  },
  {
   "cell_type": "code",
   "execution_count": 48,
   "metadata": {
    "collapsed": false
   },
   "outputs": [
    {
     "data": {
      "text/plain": [
       "True"
      ]
     },
     "execution_count": 48,
     "metadata": {},
     "output_type": "execute_result"
    }
   ],
   "source": [
    "# Compare two strings index by index, according to alphabetical sort\n",
    "\"z\" > \"ab\""
   ]
  },
  {
   "cell_type": "code",
   "execution_count": 49,
   "metadata": {
    "collapsed": false,
    "scrolled": true
   },
   "outputs": [
    {
     "data": {
      "text/plain": [
       "True"
      ]
     },
     "execution_count": 49,
     "metadata": {},
     "output_type": "execute_result"
    }
   ],
   "source": [
    "# \"in\" find whether a value is in a list\n",
    "\"banana\" in [\"apple\", \"banana\", 3, 4, 5]"
   ]
  },
  {
   "cell_type": "markdown",
   "metadata": {
    "slideshow": {
     "slide_type": "subslide"
    }
   },
   "source": [
    "## Basic Python Syntax (6.2): If-else\n",
    "\n",
    "- False logical indicators: False, None, 0, \"\", [ ], { }"
   ]
  },
  {
   "cell_type": "code",
   "execution_count": 50,
   "metadata": {
    "collapsed": false
   },
   "outputs": [],
   "source": [
    "a = 0\n",
    "if(a):\n",
    "    print(\"Hello!\")"
   ]
  },
  {
   "cell_type": "code",
   "execution_count": 51,
   "metadata": {
    "collapsed": false
   },
   "outputs": [
    {
     "name": "stdout",
     "output_type": "stream",
     "text": [
      "Goodbye!\n"
     ]
    }
   ],
   "source": [
    "a = []\n",
    "if(a):\n",
    "    print(\"Hello!\")\n",
    "else:\n",
    "    print(\"Goodbye!\")"
   ]
  },
  {
   "cell_type": "code",
   "execution_count": 52,
   "metadata": {
    "collapsed": false
   },
   "outputs": [
    {
     "name": "stdout",
     "output_type": "stream",
     "text": [
      "Hello!\n"
     ]
    }
   ],
   "source": [
    "a = [0]\n",
    "if(a):\n",
    "    print(\"Hello!\")\n",
    "else:\n",
    "    print(\"Goodbye!\")"
   ]
  },
  {
   "cell_type": "code",
   "execution_count": 53,
   "metadata": {
    "collapsed": false
   },
   "outputs": [
    {
     "name": "stdout",
     "output_type": "stream",
     "text": [
      "a is neither a number nor a string\n"
     ]
    }
   ],
   "source": [
    "if(type(a) in [\"int\", \"float\"]):\n",
    "    print(\"a is a number\")\n",
    "elif(type(a) == \"str\"):\n",
    "    print(\"a is a string\")\n",
    "else:\n",
    "    print(\"a is neither a number nor a string\")"
   ]
  },
  {
   "cell_type": "markdown",
   "metadata": {
    "slideshow": {
     "slide_type": "subslide"
    }
   },
   "source": [
    "## Basic Python Syntax (6.3): Boolean Opeations\n",
    "\n",
    "- Logical operators (not, and, or): can be used on python built-in types\n",
    "- Bitwise operators (~, &, |): can be used on numpy bool arrays"
   ]
  },
  {
   "cell_type": "code",
   "execution_count": 54,
   "metadata": {
    "collapsed": false,
    "scrolled": true
   },
   "outputs": [
    {
     "data": {
      "text/plain": [
       "False"
      ]
     },
     "execution_count": 54,
     "metadata": {},
     "output_type": "execute_result"
    }
   ],
   "source": [
    "# \"not\": return True if the condition is False\n",
    "not (1 + 1 == 2)"
   ]
  },
  {
   "cell_type": "code",
   "execution_count": 55,
   "metadata": {
    "collapsed": false
   },
   "outputs": [
    {
     "data": {
      "text/plain": [
       "True"
      ]
     },
     "execution_count": 55,
     "metadata": {},
     "output_type": "execute_result"
    }
   ],
   "source": [
    "# \"or\", \"|\": return True if at least 1 condition is True\n",
    "(2 > 3) or (2 <= 3)"
   ]
  },
  {
   "cell_type": "code",
   "execution_count": 56,
   "metadata": {
    "collapsed": false
   },
   "outputs": [
    {
     "data": {
      "text/plain": [
       "True"
      ]
     },
     "execution_count": 56,
     "metadata": {},
     "output_type": "execute_result"
    }
   ],
   "source": [
    "(2 > 3) | (2 <= 3)"
   ]
  },
  {
   "cell_type": "code",
   "execution_count": 57,
   "metadata": {
    "collapsed": false
   },
   "outputs": [
    {
     "data": {
      "text/plain": [
       "False"
      ]
     },
     "execution_count": 57,
     "metadata": {},
     "output_type": "execute_result"
    }
   ],
   "source": [
    "# \"and\", \"&\": return True if both 2 conditions are True \n",
    "(2 > 3) and (2 <= 3)"
   ]
  },
  {
   "cell_type": "code",
   "execution_count": 58,
   "metadata": {
    "collapsed": false
   },
   "outputs": [
    {
     "data": {
      "text/plain": [
       "False"
      ]
     },
     "execution_count": 58,
     "metadata": {},
     "output_type": "execute_result"
    }
   ],
   "source": [
    "(2 > 3) & (2 <= 3)"
   ]
  },
  {
   "cell_type": "markdown",
   "metadata": {
    "slideshow": {
     "slide_type": "subslide"
    }
   },
   "source": [
    "## Basic Python Syntax (7): Python Function\n",
    "\n",
    "- lambda: need no name or return(), usually for short function\n",
    "- def: need a name and return(), usually for long function and reuse"
   ]
  },
  {
   "cell_type": "code",
   "execution_count": 59,
   "metadata": {
    "collapsed": false
   },
   "outputs": [
    {
     "data": {
      "text/plain": [
       "4"
      ]
     },
     "execution_count": 59,
     "metadata": {},
     "output_type": "execute_result"
    }
   ],
   "source": [
    "(lambda x: x + 1)(3)"
   ]
  },
  {
   "cell_type": "code",
   "execution_count": 60,
   "metadata": {
    "collapsed": false,
    "scrolled": true
   },
   "outputs": [
    {
     "data": {
      "text/plain": [
       "('6 - 2 = 4', '5 - 2 = 3', '3 - 2 = 1')"
      ]
     },
     "execution_count": 60,
     "metadata": {},
     "output_type": "execute_result"
    }
   ],
   "source": [
    "def minus(x, y):\n",
    "    output = \"{} - {} = {}\".format(x, y, x-y)\n",
    "    return(output)\n",
    "minus(6, 2), minus(x = 5, y = 2), minus(y = 2, x = 3)"
   ]
  },
  {
   "cell_type": "code",
   "execution_count": 61,
   "metadata": {
    "collapsed": false
   },
   "outputs": [
    {
     "data": {
      "text/plain": [
       "('10 - 3 = 7', '10 - 6 = 4', '4 - 3 = 1')"
      ]
     },
     "execution_count": 61,
     "metadata": {},
     "output_type": "execute_result"
    }
   ],
   "source": [
    "# Set default value to function\n",
    "def minus(x = 10, y = 3):\n",
    "    output = \"{} - {} = {}\".format(x, y, x-y)\n",
    "    return(output)\n",
    "minus(), minus(y = 6), minus(x = 4)"
   ]
  },
  {
   "cell_type": "code",
   "execution_count": 62,
   "metadata": {
    "collapsed": false
   },
   "outputs": [
    {
     "data": {
      "text/plain": [
       "('8 - 1 = 7', '14 - 9 = 5')"
      ]
     },
     "execution_count": 62,
     "metadata": {},
     "output_type": "execute_result"
    }
   ],
   "source": [
    "# Use * to expand list, and ** to expand dict\n",
    "parlist = [8, 1]\n",
    "pardict = {\"x\": 14, \"y\": 9}\n",
    "minus(*parlist), minus(**pardict)"
   ]
  },
  {
   "cell_type": "markdown",
   "metadata": {
    "slideshow": {
     "slide_type": "subslide"
    }
   },
   "source": [
    "## Basic Python Syntax (8): Other Special Commands\n",
    "\n",
    "- _: return the last output\n",
    "- %: run magic syntax of ipython notebook\n",
    "- !: run system commands"
   ]
  },
  {
   "cell_type": "code",
   "execution_count": 63,
   "metadata": {
    "collapsed": false
   },
   "outputs": [
    {
     "data": {
      "text/plain": [
       "('8 - 1 = 7', '14 - 9 = 5')"
      ]
     },
     "execution_count": 63,
     "metadata": {},
     "output_type": "execute_result"
    }
   ],
   "source": [
    "_"
   ]
  },
  {
   "cell_type": "code",
   "execution_count": 64,
   "metadata": {
    "collapsed": false
   },
   "outputs": [
    {
     "name": "stdout",
     "output_type": "stream",
     "text": [
      "1000 loops, best of 3: 978 µs per loop\n"
     ]
    }
   ],
   "source": [
    "# %timeit: check running time\n",
    "%timeit [i**100 for i in range(1000)]"
   ]
  },
  {
   "cell_type": "code",
   "execution_count": 65,
   "metadata": {
    "collapsed": false
   },
   "outputs": [
    {
     "name": "stdout",
     "output_type": "stream",
     "text": [
      "/Users/fangda/Stat/test\n"
     ]
    }
   ],
   "source": [
    "# %cd: change working directory \n",
    "%cd ~/Stat/test/"
   ]
  },
  {
   "cell_type": "code",
   "execution_count": 66,
   "metadata": {
    "collapsed": false,
    "scrolled": true
   },
   "outputs": [
    {
     "name": "stdout",
     "output_type": "stream",
     "text": [
      "\u001b[31mExtracted_IOP_previous_ALL_n47.dose\u001b[m\u001b[m\n",
      "\u001b[31mExtracted_IOP_previous_ALL_n47.info\u001b[m\u001b[m\n",
      "Glaucoma_Genes_2016.xlsx\n",
      "IOP Genes.xlsx\n",
      "Mexican_stats.xlsx\n",
      "POAGSNP_da_summary.csv\n",
      "\u001b[31mPreviousCctSnps_n53_UPDATED.dose\u001b[m\u001b[m\n",
      "\u001b[31mPreviousCctSnps_n53_UPDATED.info\u001b[m\u001b[m\n",
      "Previous_POAGSNPs_n51.dose\n",
      "Previous_POAGSNPs_n51.info\n",
      "Previous_VCDR_n25.dose\n",
      "Previous_VCDR_n25.info\n",
      "\u001b[34m__pycache__\u001b[m\u001b[m\n",
      "da_sub_snps.log\n",
      "da_sub_snps.nosex\n",
      "da_sub_snps.raw\n",
      "dr_X_summary.xlsx\n",
      "dr_cm.xlsx\n",
      "dr_da_summary.xlsx\n",
      "dr_score_dbrGao.png\n",
      "dr_score_drExtreme.png\n",
      "dr_score_drGao.png\n",
      "dr_w_lgr2_cv_drExtreme.xlsx\n",
      "dr_w_lgr2_cv_drGao.xlsx\n",
      "dr_w_lgr_cv_drExtreme.xlsx\n",
      "dr_w_lgr_cv_drGao.xlsx\n",
      "dr_w_lr2_cv_dbrGao.xlsx\n",
      "dr_w_lr_cv_dbrGao.xlsx\n",
      "dr_w_xgb_cv_dbrGao.xlsx\n",
      "dr_w_xgb_cv_drExtreme.xlsx\n",
      "dr_w_xgb_cv_drGao.xlsx\n",
      "exclude_glaucoma.csv\n",
      "exclude_glaucoma.xlsx\n",
      "glaucoma.Rmd\n",
      "glaucoma_10_11.docx\n",
      "glaucoma_10_11_full_model_AUC_10_11.png\n",
      "glaucoma_10_11_full_model_ROC_10_11.png\n",
      "glaucoma_10_11_reduced_model_AUC.png\n",
      "glaucoma_10_11_reduced_model_ROC.png\n",
      "glaucoma_10_3_all_prediction.docx\n",
      "glaucoma_11_11_no_VCDR_plots.docx\n",
      "glaucoma_9_22.docx\n",
      "glaucoma_9_22_no_vcd.docx\n",
      "glaucoma_9_23_full_data.docx\n",
      "glaucoma_9_26_full_data_missing_income_test.docx\n",
      "glaucoma_9_28_full_data__missing_income_test__ANN.docx\n",
      "glaucoma_SNPs.Rmd\n",
      "glaucoma_SNPs.docx\n",
      "glaucoma_SNPs_11_14.docx\n",
      "glaucoma_SNPs_11_14_discrete_plots.docx\n",
      "glaucoma_SNPs_da1.txt\n",
      "glaucoma_SNPs_da_summary.csv\n",
      "glaucoma_SNPs_irv.txt\n",
      "glaucoma_SNPs_reduced_roc.csv\n",
      "glaucoma_SNPs_reduced_scoreL.csv\n",
      "glaucoma_SNPs_roc.csv\n",
      "glaucoma_SNPs_scoreL.csv\n",
      "glaucoma_SNPs_scoreLda.csv\n",
      "glaucoma_SNPs_summary_da_h1.csv\n",
      "glaucoma_da_dim.csv\n",
      "glaucoma_da_summary.csv\n",
      "glaucoma_da_summary.xlsx\n",
      "glaucoma_da_test.csv\n",
      "glaucoma_duplicates.csv\n",
      "glaucoma_model_coef.csv\n",
      "glaucoma_reduced_model_coef.csv\n",
      "glaucoma_reduced_roc.csv\n",
      "glaucoma_reduced_scoreL.csv\n",
      "glaucoma_roc.csv\n",
      "glaucoma_sample_group.csv\n",
      "glaucoma_scoreL.csv\n",
      "glaucoma_score_Glaucoma.png\n",
      "glaucoma_study_sample.Rmd\n",
      "glaucoma_study_sample.csv\n",
      "glaucoma_study_sample.sas7bdat\n",
      "glaucoma_study_sample_12_13.docx\n",
      "glaucoma_study_sample_12_9.docx\n",
      "glaucoma_study_sample_12_9.xlsx\n",
      "glaucoma_summary_chips.csv\n",
      "glaucoma_test.Rmd\n",
      "glaucoma_test_da_summary.csv\n",
      "glaucoma_test_model_coef.csv\n",
      "glaucoma_test_roc.csv\n",
      "glaucoma_test_scoreL.csv\n",
      "glc3_g_age_sex_to_fangda64.sas7bdat\n",
      "\u001b[31mlales3_iop_Heejin.sas7bdat\u001b[m\u001b[m\n",
      "lib.bib\n",
      "n4885_duplicates_4methylation.txt\n",
      "\u001b[31mocular_pheno_master_2016_dn.sas7bdat\u001b[m\u001b[m\n",
      "riskscore_test_input1\n",
      "riskscore_test_input1_riskscore_test_input2\n",
      "riskscore_test_input1_riskscore_test_input2_weight\n",
      "riskscore_test_input2\n",
      "\u001b[31msol_omnis_n4549_m72390.evec.11col.12_digits_ID\u001b[m\u001b[m\n",
      "sol_omnis_n4549_omniSNPsOnly_CallRateGood_maf01_hwe-6_call95_12_digitID.bed\n",
      "sol_omnis_n4549_omniSNPsOnly_CallRateGood_maf01_hwe-6_call95_12_digitID.bim\n",
      "sol_omnis_n4549_omniSNPsOnly_CallRateGood_maf01_hwe-6_call95_12_digitID.fam\n",
      "\u001b[31msol_omnis_omniSNPsOnly_n4549.fam.ID_chip\u001b[m\u001b[m\n",
      "toyout.log\n",
      "wmd_lgr.assoc.logistic\n",
      "wmd_plink.assoc.logistic\n",
      "wmd_plink.log\n",
      "wmd_plink.nosex\n",
      "wmd_plink_.log\n",
      "wmd_plink_.nosex\n",
      "wmd_plink_D_VCDOut.assoc.linear\n",
      "wmd_plink_D_VCDOut.log\n",
      "wmd_plink_D_VCDOut.nosex\n",
      "wmd_plink_Glaucoma.assoc.logistic\n",
      "wmd_plink_Glaucoma.log\n",
      "wmd_plink_Glaucoma.nosex\n",
      "wmd_plink_all_D_VCDOut.assoc.linear\n",
      "wmd_plink_all_D_VCDOut.log\n",
      "wmd_plink_all_D_VCDOut.nosex\n",
      "wmd_plink_all_cctOut.assoc.linear\n",
      "wmd_plink_all_cctOut.log\n",
      "wmd_plink_all_cctOut.nosex\n",
      "wmd_plink_all_iopgOut.assoc.linear\n",
      "wmd_plink_all_iopgOut.log\n",
      "wmd_plink_all_iopgOut.nosex\n",
      "wmd_plink_cctOut.assoc.linear\n",
      "wmd_plink_cctOut.log\n",
      "wmd_plink_cctOut.nosex\n",
      "wmd_plink_iopgOut.assoc.linear\n",
      "wmd_plink_iopgOut.log\n",
      "wmd_plink_iopgOut.nosex\n",
      "wmd_plink_poag.assoc.logistic\n",
      "wmd_plink_poag.log\n",
      "wmd_plink_poag.nosex\n",
      "~$glaucoma_2_w_lgr2_cv_Glaucoma.xlsx\n",
      "~$glaucoma_2_w_xgb_cv_Glaucoma.xlsx\n"
     ]
    }
   ],
   "source": [
    "!ls"
   ]
  },
  {
   "cell_type": "code",
   "execution_count": null,
   "metadata": {
    "collapsed": true,
    "slideshow": {
     "slide_type": "subslide"
    }
   },
   "outputs": [],
   "source": [
    "'''\n",
    "The Value of Wisdom \n",
    "\n",
    "\n",
    "    For the LORD gives wisdom;\n",
    "\n",
    "        from his mouth come knowledge and understanding;\n",
    "\n",
    "    he stores up sound wisdom for the upright;\n",
    "\n",
    "        he is a shield to those who walk in integrity,\n",
    "\n",
    "    guarding the paths of justice\n",
    "\n",
    "        and watching over the way of his saints.\n",
    "\n",
    "\n",
    "\n",
    "(Proverbs 2:6-8 ESV)\n",
    "'''"
   ]
  }
 ],
 "metadata": {
  "kernelspec": {
   "display_name": "Python 3",
   "language": "python",
   "name": "python3"
  },
  "language_info": {
   "codemirror_mode": {
    "name": "ipython",
    "version": 3
   },
   "file_extension": ".py",
   "mimetype": "text/x-python",
   "name": "python",
   "nbconvert_exporter": "python",
   "pygments_lexer": "ipython3",
   "version": "3.6.5"
  }
 },
 "nbformat": 4,
 "nbformat_minor": 2
}
